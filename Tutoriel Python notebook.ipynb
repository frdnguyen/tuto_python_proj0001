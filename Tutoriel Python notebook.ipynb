{
 "cells": [
  {
   "cell_type": "markdown",
   "metadata": {},
   "source": [
    "# Tutoriel Python \n",
    "## PROJ0001-1: Introducion aux méthodes numériques et projet\n",
    "\n",
    "### *Bachelier en Sciences de l'Ingénieur (Bloc 1)*\n",
    "\n",
    "### *Année académique 2020-2021*"
   ]
  },
  {
   "cell_type": "markdown",
   "metadata": {},
   "source": [
    "# Installation d'Anaconda et de Python"
   ]
  },
  {
   "cell_type": "markdown",
   "metadata": {},
   "source": [
    "Python est un langage de programmation open source orienté objet de haut niveau largement utilisé dans le monde industriel et scientifique. Ce langage permet non seulement d'effectuer du calcul scientifique et de la visualisation graphique, mais également de créer des sites web. Afin de pouvoir en bénéficier, nous utiliserons la plateforme de distribution Anaconda permettant d'installer Python et l'environnement de programmation Spyder. Pour débuter, téléchargez et installez la distribution d'Anaconda de votre système d'exploitation (Windows, Mac OS ou Linux):\n",
    "\n",
    "https://www.anaconda.com/products/individual\n",
    "\n",
    "En installant Anaconda, vous installerez Python, Jupyter Notebook et Spyder. Une fois Anaconda installé, vous pourrez lancer l'environnement de programmation Spyder et faire tourner les Notebooks (ce tutoriel par exemple).\n",
    "\n",
    "Une fois que vous avez installé Anaconda, démarrez l'application. A partir de l'écran d'accueil, vous pourrez démarrer soit Spyder soit Jupyter Notebook en double cliquant sur l'icône correspondante. \n",
    "\n",
    "<img src=\"img1.png\" style=\"width:1024\"/>\n",
    "\n",
    "Une fois Spyder lançé, vous verrez une interface organisée en trois grandes fenêtres: l'éditeur utilisé pour écrire et sauverger vos commandes et vos programmes, l'explorateur de fichiers, de figures ainsi que l'aide, et la console qui exécute les commandes écrites en Python ainsi que l'historique des commandes entrées. Cette dernière option est très utile pour remonter dans le temps et permet de voir quelles commandes ont été exécutées, dans quel ordre et à quel moment.\n",
    "\n",
    "<img src=\"img2.png\" style=\"width:1024\"/>\n"
   ]
  },
  {
   "cell_type": "markdown",
   "metadata": {},
   "source": [
    "## Console IPython dans l'Environnment Spyder\n",
    "\n",
    "La console IPython permet d'entrer des commandes après l'invite de commande \"In [ ]:\""
   ]
  },
  {
   "cell_type": "code",
   "execution_count": 198,
   "metadata": {},
   "outputs": [],
   "source": [
    "a=2"
   ]
  },
  {
   "cell_type": "markdown",
   "metadata": {},
   "source": [
    "L'exemple ci-dessus montre que l'on a affecté la valeur 2 à la variable `a` à l'aide de l'opérateur `=`. Une variable est un conteneur d'information sous la forme d'un scalaire, d'un tableau ou d'une suite de caractères. La définition est par défaut silencieuse, càd que la valeur de a ne s'affichera pas à l'exécution de la commande `a=2`. Si nous voulons afficher la valeur de a, nous pouvons utiliser la fonction print( ) ou utiliser l'explorateur de variables. Nous pouvons voir dans l'exemple ci-dessous que nous avons créer une variable appellée`a`, qui est un entier de dimension 1 et de valeur \"2\".\n",
    "\n",
    "L'explorateur des variables constitue donc notre espace de travail. Il fournit à l'utilisateur des informations sur les variables définies à l'instant présent. Il offre des fonctionnalités pour la gestion des variables (création, édition, suppression, etc.). Ces informations sont également accessibles par le biais des commandes `who`\n",
    "et `whos` ou la commande `type()`."
   ]
  },
  {
   "cell_type": "code",
   "execution_count": 199,
   "metadata": {},
   "outputs": [
    {
     "name": "stdout",
     "output_type": "stream",
     "text": [
      "2\n"
     ]
    }
   ],
   "source": [
    "print(a)"
   ]
  },
  {
   "cell_type": "code",
   "execution_count": 200,
   "metadata": {},
   "outputs": [
    {
     "name": "stdout",
     "output_type": "stream",
     "text": [
      "a\t \n"
     ]
    }
   ],
   "source": [
    "who"
   ]
  },
  {
   "cell_type": "code",
   "execution_count": 201,
   "metadata": {},
   "outputs": [
    {
     "name": "stdout",
     "output_type": "stream",
     "text": [
      "Variable   Type    Data/Info\n",
      "----------------------------\n",
      "a          int     2\n"
     ]
    }
   ],
   "source": [
    "whos"
   ]
  },
  {
   "cell_type": "code",
   "execution_count": 202,
   "metadata": {},
   "outputs": [
    {
     "data": {
      "text/plain": [
       "int"
      ]
     },
     "execution_count": 202,
     "metadata": {},
     "output_type": "execute_result"
    }
   ],
   "source": [
    "type(a)"
   ]
  },
  {
   "cell_type": "markdown",
   "metadata": {},
   "source": [
    "<img src=\"img3.png\" style=\"width:1024\"/>"
   ]
  },
  {
   "cell_type": "markdown",
   "metadata": {},
   "source": [
    "Si nous voulons effacer des variables, nous pouvons utilliser la commande `%reset` (qui demander une confirmation) pour effacer toutes les variables ou del pour effacer une variable spécifique. La commande `clear` ne fait elle que de nettoyer la console tout en gardant les variables en mémoire."
   ]
  },
  {
   "cell_type": "code",
   "execution_count": 203,
   "metadata": {},
   "outputs": [],
   "source": [
    "del a"
   ]
  },
  {
   "cell_type": "code",
   "execution_count": 204,
   "metadata": {},
   "outputs": [
    {
     "name": "stdout",
     "output_type": "stream",
     "text": [
      "Once deleted, variables cannot be recovered. Proceed (y/[n])? n\n",
      "Nothing done.\n"
     ]
    }
   ],
   "source": [
    "%reset"
   ]
  },
  {
   "cell_type": "markdown",
   "metadata": {},
   "source": [
    "On peut également utiliser les opérateurs d'addition `+`, de soustraction\n",
    "`-` de multiplication `*`, de division `/` et de puissance `**` ou les combiner. Par exemple `+=` incrémente la variable affectée d'une valeur à spécifier."
   ]
  },
  {
   "cell_type": "code",
   "execution_count": 205,
   "metadata": {},
   "outputs": [
    {
     "name": "stdout",
     "output_type": "stream",
     "text": [
      "5\n"
     ]
    }
   ],
   "source": [
    "a = 2 + 3\n",
    "print(a)"
   ]
  },
  {
   "cell_type": "code",
   "execution_count": 206,
   "metadata": {},
   "outputs": [
    {
     "name": "stdout",
     "output_type": "stream",
     "text": [
      "6\n"
     ]
    }
   ],
   "source": [
    "a += 1\n",
    "print(a)"
   ]
  },
  {
   "cell_type": "code",
   "execution_count": 207,
   "metadata": {},
   "outputs": [
    {
     "name": "stdout",
     "output_type": "stream",
     "text": [
      "5\n"
     ]
    }
   ],
   "source": [
    "a -= 1\n",
    "print(a)"
   ]
  },
  {
   "cell_type": "markdown",
   "metadata": {},
   "source": [
    "Python définit plusieurs types d'opérations de base par défaut (affectation, arithmétique, puissance, valeur absolue, comparaisons, logique):"
   ]
  },
  {
   "cell_type": "code",
   "execution_count": 210,
   "metadata": {},
   "outputs": [
    {
     "data": {
      "text/plain": [
       "True"
      ]
     },
     "execution_count": 210,
     "metadata": {},
     "output_type": "execute_result"
    }
   ],
   "source": [
    "1 != 2 "
   ]
  },
  {
   "cell_type": "code",
   "execution_count": 211,
   "metadata": {},
   "outputs": [
    {
     "data": {
      "text/plain": [
       "False"
      ]
     },
     "execution_count": 211,
     "metadata": {},
     "output_type": "execute_result"
    }
   ],
   "source": [
    "True & False"
   ]
  },
  {
   "cell_type": "code",
   "execution_count": 212,
   "metadata": {},
   "outputs": [
    {
     "data": {
      "text/plain": [
       "True"
      ]
     },
     "execution_count": 212,
     "metadata": {},
     "output_type": "execute_result"
    }
   ],
   "source": [
    "True & True"
   ]
  },
  {
   "cell_type": "markdown",
   "metadata": {},
   "source": [
    "## Types de variables\n",
    "\n",
    "Dans Python, il n'est pas nécessaire de déclarer les variables avant de pouvoir les utiliser. La valeur que l'on affecte à la variable définit son type. Les principaux types sont :"
   ]
  },
  {
   "cell_type": "markdown",
   "metadata": {},
   "source": [
    "### Type `int` (nombre entier)"
   ]
  },
  {
   "cell_type": "code",
   "execution_count": 345,
   "metadata": {},
   "outputs": [
    {
     "data": {
      "text/plain": [
       "int"
      ]
     },
     "execution_count": 345,
     "metadata": {},
     "output_type": "execute_result"
    }
   ],
   "source": [
    "a = 300\n",
    "type(a)"
   ]
  },
  {
   "cell_type": "markdown",
   "metadata": {},
   "source": [
    "### Type `float` (nombre à virgule flottante) "
   ]
  },
  {
   "cell_type": "code",
   "execution_count": 349,
   "metadata": {},
   "outputs": [
    {
     "data": {
      "text/plain": [
       "float"
      ]
     },
     "execution_count": 349,
     "metadata": {},
     "output_type": "execute_result"
    }
   ],
   "source": [
    "a = 1.25e3\n",
    "type(a)"
   ]
  },
  {
   "cell_type": "markdown",
   "metadata": {},
   "source": [
    "### Type `str` (chaîne de caratères)"
   ]
  },
  {
   "cell_type": "code",
   "execution_count": 352,
   "metadata": {},
   "outputs": [
    {
     "name": "stdout",
     "output_type": "stream",
     "text": [
      "bonjour\n"
     ]
    },
    {
     "data": {
      "text/plain": [
       "str"
      ]
     },
     "execution_count": 352,
     "metadata": {},
     "output_type": "execute_result"
    }
   ],
   "source": [
    "a = \"bonjour\"\n",
    "print(a)\n",
    "type(a)"
   ]
  },
  {
   "cell_type": "code",
   "execution_count": 353,
   "metadata": {},
   "outputs": [
    {
     "name": "stdout",
     "output_type": "stream",
     "text": [
      "aurevoir\n"
     ]
    },
    {
     "data": {
      "text/plain": [
       "str"
      ]
     },
     "execution_count": 353,
     "metadata": {},
     "output_type": "execute_result"
    }
   ],
   "source": [
    "a = 'aurevoir'\n",
    "print(a)\n",
    "type(a)"
   ]
  },
  {
   "cell_type": "markdown",
   "metadata": {},
   "source": [
    "### Type `bool` (boolén)"
   ]
  },
  {
   "cell_type": "code",
   "execution_count": 358,
   "metadata": {},
   "outputs": [
    {
     "data": {
      "text/plain": [
       "bool"
      ]
     },
     "execution_count": 358,
     "metadata": {},
     "output_type": "execute_result"
    }
   ],
   "source": [
    "a = True \n",
    "type(a)"
   ]
  },
  {
   "cell_type": "code",
   "execution_count": 362,
   "metadata": {},
   "outputs": [
    {
     "name": "stdout",
     "output_type": "stream",
     "text": [
      "False\n"
     ]
    }
   ],
   "source": [
    "b = not(a)\n",
    "print(b)"
   ]
  },
  {
   "cell_type": "markdown",
   "metadata": {},
   "source": [
    "Nous avons utilisé l'opérateur `not()` pour renvoyer l'opposé de la valeur booléenne transmise."
   ]
  },
  {
   "cell_type": "markdown",
   "metadata": {},
   "source": [
    "## Aide \n",
    "\n",
    "Il existe énormément de ressources pour Python sur internet (https://www.python.org/search/, https://docs.python.org/3/contents.html, https://docs.python.org/3/tutorial/) mais l'utilisateur peut d'abord trouver de l'aide localement en appuyant Cmd+I devant n'importe quel objet. Vous pouvez également utiliser l'aide interactive fournie dans l'environnement Spyder dans l'aide ou à travers la console en entrant par exemple `help(print)`. Finalement, une aide se montrera automatiquement après avoir écrit une parenthèse de gauche à côté d'un objet. \n",
    "\n",
    "<img src=\"img4.png\" style=\"width:1024\"/>"
   ]
  },
  {
   "cell_type": "code",
   "execution_count": 213,
   "metadata": {},
   "outputs": [
    {
     "name": "stdout",
     "output_type": "stream",
     "text": [
      "Help on built-in function print in module builtins:\n",
      "\n",
      "print(...)\n",
      "    print(value, ..., sep=' ', end='\\n', file=sys.stdout, flush=False)\n",
      "    \n",
      "    Prints the values to a stream, or to sys.stdout by default.\n",
      "    Optional keyword arguments:\n",
      "    file:  a file-like object (stream); defaults to the current sys.stdout.\n",
      "    sep:   string inserted between values, default a space.\n",
      "    end:   string appended after the last value, default a newline.\n",
      "    flush: whether to forcibly flush the stream.\n",
      "\n"
     ]
    }
   ],
   "source": [
    "help(print)"
   ]
  },
  {
   "cell_type": "markdown",
   "metadata": {},
   "source": [
    "Plus simplement, si nous souhaitons obtenir de l'aide au niveau de l'utilisation de la console, nous pouvons utiliser `?`"
   ]
  },
  {
   "cell_type": "code",
   "execution_count": 3,
   "metadata": {},
   "outputs": [],
   "source": [
    "?"
   ]
  },
  {
   "cell_type": "markdown",
   "metadata": {},
   "source": [
    "## Terminologie \n",
    "\n",
    "Python utilise un certain nombre de concept propre au langage qu'il est important de définir. Vous trouverez de plus amples informations au sein du glossaire (https://docs.python.org/fr/3/glossary.html#glossary).\n"
   ]
  },
  {
   "cell_type": "markdown",
   "metadata": {},
   "source": [
    "### Scripts\n",
    "Un script est simplement un fichier `.py` où est enregistré un ensemble d'instructions destinées à être exécutées. L'exécution du script créera de nouvelles variables ou des graphiques dans l'espace de travail. "
   ]
  },
  {
   "cell_type": "markdown",
   "metadata": {},
   "source": [
    "### Fonctions/functions\n",
    "Une fonction est ensemble de lignes d'instructions organisé selon une syntaxe bien définie (utilisant le mot-clé `def`) et réutilisable, qui est employé pour effectuer une action unique corresopndante à la fonction. La syntaxe correspondante est donnée dans l'exemple suivant qui effectue simplement la somme de deux variables a et b et qui affecte le résult dans une variable c retournée comme sortie de la fonction:"
   ]
  },
  {
   "cell_type": "code",
   "execution_count": 124,
   "metadata": {},
   "outputs": [
    {
     "name": "stdout",
     "output_type": "stream",
     "text": [
      "Once deleted, variables cannot be recovered. Proceed (y/[n])? y\n"
     ]
    }
   ],
   "source": [
    "%reset\n",
    "def somme_a_b(a,b):\n",
    "   #Cette fonction effectue la somme de a et de b\n",
    "   c = a + b\n",
    "   return c"
   ]
  },
  {
   "cell_type": "code",
   "execution_count": 125,
   "metadata": {},
   "outputs": [
    {
     "data": {
      "text/plain": [
       "3"
      ]
     },
     "execution_count": 125,
     "metadata": {},
     "output_type": "execute_result"
    }
   ],
   "source": [
    "somme_a_b(1,2)"
   ]
  },
  {
   "cell_type": "markdown",
   "metadata": {},
   "source": [
    "Une définition de fonction associe un nom de fonction à un objet fonction dans l'espace de noms actuel que l'on peut voir ci-dessous à travers la commande `whos`."
   ]
  },
  {
   "cell_type": "code",
   "execution_count": 126,
   "metadata": {},
   "outputs": [
    {
     "name": "stdout",
     "output_type": "stream",
     "text": [
      "Variable    Type        Data/Info\n",
      "---------------------------------\n",
      "somme_a_b   function    <function somme_a_b at 0x7fc7985493a0>\n"
     ]
    }
   ],
   "source": [
    "whos"
   ]
  },
  {
   "cell_type": "markdown",
   "metadata": {},
   "source": [
    "\n",
    "### Modules\n",
    "Un module est un fichier Python (`.py`) destiné à être importé dans des scripts, dans la console ou d'autres modules. Il définit des classes, des fonctions et des variables destinées à être utilisées une fois importé. \n",
    "On peut ainsi réutiliser des fonctions écrites pour un programme dans un autre sans avoir à les copier. La commande `import` permet d'importer le module en entier ou des parties de celui-ci. On peut ensuite accèder à celle-ci en utlisant `nom_du_module.nom_de_l_objet`. Dans l'exemple ci-dessous, le module `dummy_module.py` contient les instructions suivantes:\n"
   ]
  },
  {
   "cell_type": "code",
   "execution_count": 25,
   "metadata": {},
   "outputs": [],
   "source": [
    "#Contenu du fichier dummy_module.py\n",
    "course_code = 'PROJ0001-1' \n",
    "\n",
    "students_number = 300\n",
    "\n",
    "def number_group(n):\n",
    "    print(n/3)"
   ]
  },
  {
   "cell_type": "code",
   "execution_count": 23,
   "metadata": {
    "scrolled": true
   },
   "outputs": [
    {
     "name": "stdout",
     "output_type": "stream",
     "text": [
      "Once deleted, variables cannot be recovered. Proceed (y/[n])? y\n"
     ]
    }
   ],
   "source": [
    "%reset   \n",
    "import dummy_module"
   ]
  },
  {
   "cell_type": "code",
   "execution_count": 26,
   "metadata": {},
   "outputs": [
    {
     "name": "stdout",
     "output_type": "stream",
     "text": [
      "Variable          Type        Data/Info\n",
      "---------------------------------------\n",
      "course_code       str         PROJ0001-1\n",
      "dummy_module      module      <module 'dummy_module' fr<...>utoriel/dummy_module.py'>\n",
      "number_group      function    <function number_group at 0x7fde60566700>\n",
      "students_number   int         300\n"
     ]
    }
   ],
   "source": [
    "whos"
   ]
  },
  {
   "cell_type": "code",
   "execution_count": 139,
   "metadata": {},
   "outputs": [
    {
     "name": "stdout",
     "output_type": "stream",
     "text": [
      "PROJ0001-1\n",
      "100.0\n"
     ]
    }
   ],
   "source": [
    "print(dummy_module.course_code)\n",
    "n = dummy_module.students_number\n",
    "dummy_module.number_group(n)"
   ]
  },
  {
   "cell_type": "markdown",
   "metadata": {},
   "source": [
    "Notons que si nous exécutons le contenu du fichier `dummy_module.py` directement dans la console, nous créerons une fonction `number_group()`, ainsi que deux variables: la chîne de caractères `course_code` et le nombre entier `students_number`. L'importation du même ne créera que le module dummy_module dans l'espace de travail."
   ]
  },
  {
   "cell_type": "markdown",
   "metadata": {},
   "source": [
    "### Paquets/packages\n",
    "C'est en fait un certain type de module Python qui peut contenir des sous-modules ou des sous-paquets. Techniquement, un paquet est un module qui possède un attribut `__path__`. Les paquets sont un moyen de structurer les différents modules en utilisant une notation « pointée ». Par exemple, le nom de module A.B désigne le sous-module B du paquet A. Vous pouvez vous représenter les paquets comme des répertoires dans le système de fichiers et les modules comme des fichiers dans ces répertoires.\n",
    "\n",
    "### Librairies\n",
    "Une librairie peut contenir des dizaines, voire des centaines de modules individuels qui peuvent fournir un large éventail de fonctionnalités. `Matplotlib` est une bibliothèque permettant de créer des graphiques pour visualiser des données (https://matplotlib.org). La librairie standard de Python (https://docs.python.org/3/library/) contient des centaines de modules permettant d'effectuer des tâches courantes, comme par exemple la fonction `help()` qui permet d'invoquer le système d'aide. \n",
    "\n",
    "### Classes"
   ]
  },
  {
   "cell_type": "markdown",
   "metadata": {},
   "source": [
    "## Edition de scripts\n"
   ]
  },
  {
   "cell_type": "markdown",
   "metadata": {},
   "source": [
    "Le répertoire courant est le répertoire où l'utilisateur travaille. Le contenu de ce répertoire\n",
    "est affiché dans Spyder et des fonctionnalités pour la gestion de son contenu sont fournies.\n",
    "L'affichage du contenu du répertoire courant peut également être obtenu dans la fenêtre de commande à\n",
    "l'aide de la commande \"ls\". \n",
    "\n",
    "<img src=\"img5.png\" style=\"width:1024\"/>\n",
    "\n"
   ]
  },
  {
   "cell_type": "code",
   "execution_count": 214,
   "metadata": {},
   "outputs": [
    {
     "name": "stdout",
     "output_type": "stream",
     "text": [
      "HelloWorld.py                   img2.png\r\n",
      "Tutoriel Python notebook.ipynb  img3.png\r\n",
      "\u001b[34m__pycache__\u001b[m\u001b[m/                    img4.png\r\n",
      "\u001b[31mchgtcoord.py\u001b[m\u001b[m*                   img5.png\r\n",
      "img1.png                        img6.png\r\n"
     ]
    }
   ],
   "source": [
    "ls"
   ]
  },
  {
   "cell_type": "markdown",
   "metadata": {},
   "source": [
    "Comme défini ci-dessus, un script est simplement un fichier où est enregistré un ensemble de commandes qui sera exécutées dans la console exactement comme si on y entrait les commandes directement. Les fichiers de script s'enregistre dans le répertoire courant avec l'extension \".py\" et peuvent être lancé à partir de l'éditeur dans Spyder en cliquant sur run ou en exécutant la commande `%run` suivi du nom du fichier du script. Tout ce qui suit le caractère `#` est considéré comme un commentaire et ne sera donc pas exécuté. On peut faire intervenir dans un script des instructions simples, des importations de modules et des appels à des fonctions pour autant que celles-ci soient définies dans l'espace de travail."
   ]
  },
  {
   "cell_type": "code",
   "execution_count": 215,
   "metadata": {},
   "outputs": [
    {
     "name": "stdout",
     "output_type": "stream",
     "text": [
      "Hello 2021 bachelor students !\n",
      "Welcome to PROJ0001\n"
     ]
    }
   ],
   "source": [
    "%run HelloWorld.py"
   ]
  },
  {
   "cell_type": "markdown",
   "metadata": {},
   "source": [
    "<img src=\"img6.png\" style=\"width:1024\"/>\n",
    "\n",
    "Un script est donc simplement un fichier où est enregistré un ensemble de commandes qui sera exécutées dans la console exactement comme si on y entrait les commandes directement comme illustré ci-dessous: "
   ]
  },
  {
   "cell_type": "code",
   "execution_count": 216,
   "metadata": {},
   "outputs": [
    {
     "name": "stdout",
     "output_type": "stream",
     "text": [
      "Hello 2021 bachelor students !\n",
      "Welcome to PROJ0001\n"
     ]
    }
   ],
   "source": [
    "print(\"Hello 2021 bachelor students !\") #Ceci est un commentaire\n",
    "print(\"Welcome to PROJ0001\")"
   ]
  },
  {
   "cell_type": "markdown",
   "metadata": {},
   "source": [
    "### Indentation\n",
    "\n",
    "La plupart des langages informatiques ont une forme de structure début-fin, ou des accolades d'ouverture et de fermeture, ou quelque chose du genre pour délimiter clairement le morceau de code qui se trouve dans une boucle, ou dans différentes parties d'une structure. En général, les programmeurs aguéris indentent également leur code afin qu'il soit plus facile pour un lecteur de voir ce qui se trouve à l'intérieur d'une boucle, en particulier s'il y a plusieurs boucles imbriquées. Mais dans la plupart des langues, l'indentation n'est qu'une question de style et la structure début-fin de la langue détermine comment elle est réellement interprétée par l'ordinateur.\n",
    "\n",
    "En Python, l'indentation est tout ce qu'il y a de plus important. Il n'y a pas de début et de fin, seulement de l'indentation. Tout ce qui est censé se trouver à un niveau d'une boucle doit être indenté à ce niveau. Une fois que la boucle est terminée, l'indentation doit revenir au niveau précédent. \n",
    "\n",
    "Le nombre d'espaces à indenter à chaque niveau est une question de style, mais vous devez être cohérent dans un seul code. La norme est souvent de 4 espaces. Ceci permet de renre le code lisible. N'hésitez pas également à ajouter des commentaire afin d'augmentaer la lisibilté de votre code avec l'utilisation du caractère `#` ou des caractères `\"\"\" \"\"\"`\n",
    "permettant d'insérer des commentaires sur plusieurs lignes."
   ]
  },
  {
   "cell_type": "code",
   "execution_count": 455,
   "metadata": {},
   "outputs": [
    {
     "name": "stdout",
     "output_type": "stream",
     "text": [
      "x vaut -0.9899924966004454\n"
     ]
    }
   ],
   "source": [
    "\"\"\"\n",
    "Created on Wed Jan 20 11:19:08 2021\n",
    "\n",
    "Ce programme calcule le cosinus de i pour i allant de 0 à 3 avec un pas de 1 \n",
    "et affiche la dernière valeur obtenue. Il ne nécessite aucun paramètre d'entrée \n",
    "et ne fournit aucune sortie\n",
    "\n",
    "@author : proj0001\n",
    "\"\"\"\n",
    "\n",
    "# Import de librairies nécessaires à ce script\n",
    "import math\n",
    "\n",
    "\n",
    "# Corps principal du script\n",
    "for i in [0, 1, 2, 3]:\n",
    "    x = math.cos(i)\n",
    "\n",
    "# Affichage de la valeur de x\n",
    "print('x vaut', x)"
   ]
  },
  {
   "cell_type": "markdown",
   "metadata": {},
   "source": [
    "## Librairies et fonctions\n",
    "\n",
    "Au démarrage de Python, un certain nombre de fonctions de base sont disponibles, par exemple la fonction `print()` qui permet d'afficher des variables ou des chaines de caractères, ainsi que la syntaxe générale du langage. Cependant, la plupart des fonctions nécessaires à des fins spécifiques comme simplement calculer le cosinus d'un angle se trouvent dans des librairies qui ne se chargent pas par défaut afin de ne pas consommer trop de temps pour démarrer Python. Par exemple, si on essaye le lancer la fonction `cos()` on fait face à un message d'erreur:"
   ]
  },
  {
   "cell_type": "code",
   "execution_count": 217,
   "metadata": {},
   "outputs": [
    {
     "ename": "NameError",
     "evalue": "name 'cos' is not defined",
     "output_type": "error",
     "traceback": [
      "\u001b[0;31m---------------------------------------------------------------------------\u001b[0m",
      "\u001b[0;31mNameError\u001b[0m                                 Traceback (most recent call last)",
      "\u001b[0;32m<ipython-input-217-8d215ebe8f10>\u001b[0m in \u001b[0;36m<module>\u001b[0;34m\u001b[0m\n\u001b[0;32m----> 1\u001b[0;31m \u001b[0mcos\u001b[0m\u001b[0;34m(\u001b[0m\u001b[0;36m0\u001b[0m\u001b[0;34m)\u001b[0m\u001b[0;34m\u001b[0m\u001b[0;34m\u001b[0m\u001b[0m\n\u001b[0m",
      "\u001b[0;31mNameError\u001b[0m: name 'cos' is not defined"
     ]
    }
   ],
   "source": [
    "cos(0)"
   ]
  },
  {
   "cell_type": "markdown",
   "metadata": {},
   "source": [
    "La fonction cosinus est disponible dans la librairie `math`. Les librairies sont importés dans l'espace de travail avec la commande d'importation `import`. Chaque librairie contient de nombreuses fonctions. Pour utiliser la fonction `cos()` de la librairie `math`, il nous faut le spécifier. Pour ce faire, la syntaxe est la suivante: `librairie.fonction()`. "
   ]
  },
  {
   "cell_type": "code",
   "execution_count": 219,
   "metadata": {},
   "outputs": [
    {
     "data": {
      "text/plain": [
       "1.0"
      ]
     },
     "execution_count": 219,
     "metadata": {},
     "output_type": "execute_result"
    }
   ],
   "source": [
    "import math\n",
    "math.cos(0)"
   ]
  },
  {
   "cell_type": "code",
   "execution_count": 220,
   "metadata": {},
   "outputs": [
    {
     "data": {
      "text/plain": [
       "module"
      ]
     },
     "execution_count": 220,
     "metadata": {},
     "output_type": "execute_result"
    }
   ],
   "source": [
    "type(math)"
   ]
  },
  {
   "cell_type": "code",
   "execution_count": 221,
   "metadata": {},
   "outputs": [
    {
     "data": {
      "text/plain": [
       "builtin_function_or_method"
      ]
     },
     "execution_count": 221,
     "metadata": {},
     "output_type": "execute_result"
    }
   ],
   "source": [
    "type(math.cos)"
   ]
  },
  {
   "cell_type": "markdown",
   "metadata": {},
   "source": [
    "Nous pouvons également choisir d'importer uniquement la fonction `cos()` du module `math` et de la renommer, ici `cosinus`."
   ]
  },
  {
   "cell_type": "code",
   "execution_count": 218,
   "metadata": {},
   "outputs": [
    {
     "data": {
      "text/plain": [
       "1.0"
      ]
     },
     "execution_count": 218,
     "metadata": {},
     "output_type": "execute_result"
    }
   ],
   "source": [
    "from math import cos as cosinus \n",
    "cosinus(0)"
   ]
  },
  {
   "cell_type": "markdown",
   "metadata": {},
   "source": [
    "Pour définir une fonction, il suffit d'utiliser la syntaxe `def`. Les commandes ci-dessous entrées dans la console définissent une fonction \"PolarToCartesian\" qui prend en paramètres d'entrée le rayon \"rho\" et l'angle \"theta\" défini en degrés. Ces paramètres suivent le nom de la fonction et sont définis au sein des parenthèse. Cette fonction produit en sortie les coordonnées cartésiennces \"x\" et \"y\" correspondantes grâce à la commande `return`:"
   ]
  },
  {
   "cell_type": "code",
   "execution_count": 332,
   "metadata": {},
   "outputs": [],
   "source": [
    "# Importation de librairies ou de fonctions externes\n",
    "import math\n",
    "\n",
    "# Définition de la fonction\n",
    "def PolarToCartesian(rho,theta):\n",
    "    \"\"\"\n",
    "    Parameters\n",
    "    ----------\n",
    "    rho : rayon\n",
    "        \n",
    "    theta : angle en dégrés\n",
    "        \n",
    "\n",
    "    Returns\n",
    "    -------\n",
    "    Coordonnées cartésiennces d'un point défini  à partir de ses coordonnées polaires.\n",
    "\n",
    "    \"\"\"\n",
    "    \n",
    "    theta = theta * math.pi/180\n",
    "    x = rho * math.cos(theta)\n",
    "    y = rho * math.sin(theta)\n",
    "    return x,y"
   ]
  },
  {
   "cell_type": "code",
   "execution_count": 225,
   "metadata": {},
   "outputs": [
    {
     "name": "stdout",
     "output_type": "stream",
     "text": [
      "Once deleted, variables cannot be recovered. Proceed (y/[n])? y\n"
     ]
    }
   ],
   "source": [
    "%reset"
   ]
  },
  {
   "cell_type": "code",
   "execution_count": 229,
   "metadata": {},
   "outputs": [
    {
     "name": "stdout",
     "output_type": "stream",
     "text": [
      "Variable           Type        Data/Info\n",
      "----------------------------------------\n",
      "PolarToCartesian   function    <function PolarToCartesian at 0x7fa418ff5820>\n"
     ]
    }
   ],
   "source": [
    "whos"
   ]
  },
  {
   "cell_type": "markdown",
   "metadata": {},
   "source": [
    "Pour appeler une fonction dans la console une fois qu'elle y est définie, il faut taper son nom et lui faire suivre des parenthèses en y entrant les arguments de la fonction (si celle-ci en nécessite):"
   ]
  },
  {
   "cell_type": "code",
   "execution_count": 230,
   "metadata": {},
   "outputs": [
    {
     "data": {
      "text/plain": [
       "(1.0, 0.0)"
      ]
     },
     "execution_count": 230,
     "metadata": {},
     "output_type": "execute_result"
    }
   ],
   "source": [
    "PolarToCartesian(1,0)"
   ]
  },
  {
   "cell_type": "markdown",
   "metadata": {},
   "source": [
    "On peut voir ci-dessus que la fonction PolarToCartesian() nécessite l'utilisation du module math pour calculer les cosinus et les sinus de l'angle donné. Il est important de noter qu'une fonction est un ensemble de commandes exécutées dans un sous-environnement qui n'existe que pendant l'exécution de la fonction. Si nous essayons d'appeler la variable \"x\" dans la valeur est de \"1.0\" en dehors de la fonction PolarToCartesian(), la console nous retournera un message d'erreur. De la même manière, un appel à \"who\" nous permet de constater que la fonction existe mais pas les variables définies au sein de cette fonction."
   ]
  },
  {
   "cell_type": "code",
   "execution_count": 231,
   "metadata": {},
   "outputs": [
    {
     "ename": "NameError",
     "evalue": "name 'x' is not defined",
     "output_type": "error",
     "traceback": [
      "\u001b[0;31m---------------------------------------------------------------------------\u001b[0m",
      "\u001b[0;31mNameError\u001b[0m                                 Traceback (most recent call last)",
      "\u001b[0;32m<ipython-input-231-6fcf9dfbd479>\u001b[0m in \u001b[0;36m<module>\u001b[0;34m\u001b[0m\n\u001b[0;32m----> 1\u001b[0;31m \u001b[0mx\u001b[0m\u001b[0;34m\u001b[0m\u001b[0;34m\u001b[0m\u001b[0m\n\u001b[0m",
      "\u001b[0;31mNameError\u001b[0m: name 'x' is not defined"
     ]
    }
   ],
   "source": [
    "x"
   ]
  },
  {
   "cell_type": "code",
   "execution_count": 232,
   "metadata": {},
   "outputs": [
    {
     "name": "stdout",
     "output_type": "stream",
     "text": [
      "PolarToCartesian\t \n"
     ]
    }
   ],
   "source": [
    "who"
   ]
  },
  {
   "cell_type": "markdown",
   "metadata": {},
   "source": [
    "Sauf pour des fonctions très simples, vous ne voulez pas écrire les fonctions directement dans la console. Normalement, vous devrez créer un fichier `.py` contenant votre fonction et importer le module résultant dans votre session interactive ou dans votre script. Dans l'exemple suivant, nous avons copié l'ensemble des commandes de la fonction PolarToCartesian ci-dessus dans un fichier \"chgtcoord.py\". Nous importons le module \"chgtcoord\" que nous renommons \"coord\" et nous utilisons la fonction \"PolarToCartesian\" définie au sein du module."
   ]
  },
  {
   "cell_type": "code",
   "execution_count": 233,
   "metadata": {},
   "outputs": [],
   "source": [
    "import chgtcoord as coord"
   ]
  },
  {
   "cell_type": "code",
   "execution_count": 234,
   "metadata": {},
   "outputs": [
    {
     "name": "stdout",
     "output_type": "stream",
     "text": [
      "Variable           Type        Data/Info\n",
      "----------------------------------------\n",
      "PolarToCartesian   function    <function PolarToCartesian at 0x7fa418ff5820>\n",
      "coord              module      <module 'chgtcoord' from <...>1/Tutoriel/chgtcoord.py'>\n"
     ]
    }
   ],
   "source": [
    "whos"
   ]
  },
  {
   "cell_type": "code",
   "execution_count": 235,
   "metadata": {},
   "outputs": [
    {
     "data": {
      "text/plain": [
       "(1.0, 0.0)"
      ]
     },
     "execution_count": 235,
     "metadata": {},
     "output_type": "execute_result"
    }
   ],
   "source": [
    "coord.PolarToCartesian(1,0)"
   ]
  },
  {
   "cell_type": "markdown",
   "metadata": {},
   "source": [
    "### Liste de librairies utiles\n",
    "Nous listons ci-dessous une série de librairies et de fonctions utiles au déroulement du cours. N'hésitez pas à lire l'aide correspondante aux différentes fonctions proposées et à les tester par vous même.\n",
    "#### `matplotlib`\n",
    "##### Exemples de fonctions utiles\n",
    "pyplot\n",
    "\n",
    "plot()\n",
    "legend()\n",
    "xlabel()\n",
    "ylabel()\n",
    "show()\n",
    "xlim()\n",
    "grid()\n",
    "\n"
   ]
  },
  {
   "cell_type": "markdown",
   "metadata": {},
   "source": [
    "\n",
    "#### `math`\n",
    "##### Exemples de fonctions utiles\n",
    "cos() ceil() log()\n"
   ]
  },
  {
   "cell_type": "markdown",
   "metadata": {},
   "source": [
    "#### `numpy`\n",
    "##### Exemples de fonctions utiles\n",
    "abs() sum() zeros() asarray() arange()  min() max() where() linspace() shape() loadtxt() floor()"
   ]
  },
  {
   "cell_type": "markdown",
   "metadata": {},
   "source": [
    "#### `scipy`\n",
    "##### Exemples de fonctions utiles\n",
    "integrate.solve_ivp()\n",
    "interpolate.splrep() interpolate.splev()"
   ]
  },
  {
   "cell_type": "markdown",
   "metadata": {},
   "source": [
    "## D'autres types d'objets: list, tuple et array\n",
    "\n",
    "Nous utiliserons la librairie `numpy` pour effectuer des opérations mathématiques sur des tableaux (appelés arrays). A côté de ces tableaux, Python possède d'autres types de données pouvant enregistrer des séquences d'éléments : les listes et les tuples. Ces derniers ne sont cependant pas utilisés pour effectuer des opérations mathématiques.\n",
    "### Liste et tuple\n"
   ]
  },
  {
   "cell_type": "markdown",
   "metadata": {},
   "source": [
    "Une liste se définit par des `[ ]` tandis qu'un tuple se définit par des `( )`. On peut modifier les valeurs entrées dans une liste mais pas dans un tuple."
   ]
  },
  {
   "cell_type": "code",
   "execution_count": 334,
   "metadata": {},
   "outputs": [
    {
     "name": "stdout",
     "output_type": "stream",
     "text": [
      "[2, 4, 6, 8, 10]\n"
     ]
    },
    {
     "data": {
      "text/plain": [
       "list"
      ]
     },
     "execution_count": 334,
     "metadata": {},
     "output_type": "execute_result"
    }
   ],
   "source": [
    "une_liste=[2, 4, 6, 8, 10]\n",
    "print(une_liste)\n",
    "type(une_liste)"
   ]
  },
  {
   "cell_type": "code",
   "execution_count": 338,
   "metadata": {},
   "outputs": [
    {
     "name": "stdout",
     "output_type": "stream",
     "text": [
      "(2, 4, 6, 8, 10)\n"
     ]
    },
    {
     "data": {
      "text/plain": [
       "tuple"
      ]
     },
     "execution_count": 338,
     "metadata": {},
     "output_type": "execute_result"
    }
   ],
   "source": [
    "un_tuple=(2, 4, 6, 8, 10)\n",
    "print(un_tuple)\n",
    "type(un_tuple)"
   ]
  },
  {
   "cell_type": "markdown",
   "metadata": {},
   "source": [
    "Si nous nous essayons à effectuer une opération sur ces deux objets, nous voyons que ce qui pourrait être compris comme une opération mathématique crée en fait une nouvelle liste qui contient `une_liste` deux fois tandis qu'il n'est pas possible de modifier `un_tuple`"
   ]
  },
  {
   "cell_type": "code",
   "execution_count": 344,
   "metadata": {},
   "outputs": [
    {
     "data": {
      "text/plain": [
       "[2, 4, 6, 8, 10, 2, 4, 6, 8, 10]"
      ]
     },
     "execution_count": 344,
     "metadata": {},
     "output_type": "execute_result"
    }
   ],
   "source": [
    "une_liste * 2"
   ]
  },
  {
   "cell_type": "code",
   "execution_count": 342,
   "metadata": {},
   "outputs": [
    {
     "ename": "TypeError",
     "evalue": "can only concatenate tuple (not \"int\") to tuple",
     "output_type": "error",
     "traceback": [
      "\u001b[0;31m---------------------------------------------------------------------------\u001b[0m",
      "\u001b[0;31mTypeError\u001b[0m                                 Traceback (most recent call last)",
      "\u001b[0;32m<ipython-input-342-da236c663ea6>\u001b[0m in \u001b[0;36m<module>\u001b[0;34m\u001b[0m\n\u001b[0;32m----> 1\u001b[0;31m \u001b[0mun_tuple\u001b[0m \u001b[0;34m+\u001b[0m \u001b[0;36m2\u001b[0m\u001b[0;34m\u001b[0m\u001b[0;34m\u001b[0m\u001b[0m\n\u001b[0m",
      "\u001b[0;31mTypeError\u001b[0m: can only concatenate tuple (not \"int\") to tuple"
     ]
    }
   ],
   "source": [
    "un_tuple + 2"
   ]
  },
  {
   "cell_type": "markdown",
   "metadata": {},
   "source": [
    "Les listes et les tuples peuvent contenir des séquences de plusieurs types, et pas uniquement des nombres. Dans l'exemple ci-dessous, nous créons une liste contenant une chaîne de caractères, des nombres, ainsi qu'une fonction."
   ]
  },
  {
   "cell_type": "code",
   "execution_count": 300,
   "metadata": {},
   "outputs": [
    {
     "name": "stdout",
     "output_type": "stream",
     "text": [
      "['liste', 1, 20.45, <built-in function print>]\n"
     ]
    }
   ],
   "source": [
    "une_liste_variee = ['liste', 1, 20.45, print]\n",
    "print(une_liste_variee)"
   ]
  },
  {
   "cell_type": "markdown",
   "metadata": {},
   "source": [
    "### Tableau à 1 dimension\n",
    "\n",
    "Pour effectuer des opérations mathématiques sur des objects contenant des séquences de valeurs, nous utiliserons des tableaux. Pour ceci, nous aurons besoin des librairies `NumPy` et `matplotlib`"
   ]
  },
  {
   "cell_type": "code",
   "execution_count": 29,
   "metadata": {},
   "outputs": [],
   "source": [
    "%matplotlib inline\n",
    "import numpy as np\n",
    "import matplotlib.pyplot as plt"
   ]
  },
  {
   "cell_type": "markdown",
   "metadata": {},
   "source": [
    "Ensuite, nous pouvons utiliser diffférentes fonctions pour créer un tableau à 1 dimension allant par exemple de 1 à 5:"
   ]
  },
  {
   "cell_type": "code",
   "execution_count": 365,
   "metadata": {},
   "outputs": [
    {
     "name": "stdout",
     "output_type": "stream",
     "text": [
      "x: [1 2 3 4 5] <class 'numpy.ndarray'>\n",
      "y: [1 2 3 4 5] <class 'numpy.ndarray'>\n",
      "z: [1. 2. 3. 4. 5.] <class 'numpy.ndarray'>\n"
     ]
    }
   ],
   "source": [
    "x = np.array([1, 2, 3, 4, 5]) # Nous avons insérer manuellement les éléments individuels \n",
    "                              # du tableau en utilisant une liste\n",
    "\n",
    "print('x:', x, type(x))\n",
    "y = np.arange(1,6,1) #Démarre de 1, s'arrête avant 6 avec un pas de 1\n",
    "print('y:', y, type(y))\n",
    "z = np.linspace(1,5,5) #Démarre de 1 jusque 5 avec 5 points espacés uniformément\n",
    "print('z:', z, type(z))"
   ]
  },
  {
   "cell_type": "markdown",
   "metadata": {},
   "source": [
    "En utilisant les fonctions `len` et `ndim`, nous pouvons calculer les dimensions des tableaux et leurs longueurs:"
   ]
  },
  {
   "cell_type": "code",
   "execution_count": 238,
   "metadata": {},
   "outputs": [
    {
     "name": "stdout",
     "output_type": "stream",
     "text": [
      "5\n"
     ]
    }
   ],
   "source": [
    "print(len(x))"
   ]
  },
  {
   "cell_type": "code",
   "execution_count": 239,
   "metadata": {},
   "outputs": [
    {
     "name": "stdout",
     "output_type": "stream",
     "text": [
      "1\n"
     ]
    }
   ],
   "source": [
    "print(np.ndim(x))"
   ]
  },
  {
   "cell_type": "markdown",
   "metadata": {},
   "source": [
    "Pour accèder aux éléments des tableaux, nous utilisons leurs indices linéaires en commencant par le 0. Le premier élément d'un tableau à 1 dimension a donc l'indice `0`. Le dernier élément d'un tableau à 1 dimension peut être accédé à l'aide de l'indice `-1`. Les indices sont spécifiés en utilisant des crochets `[indice]`. Les valeurs des éléments peuvent ainsi être modifiés."
   ]
  },
  {
   "cell_type": "code",
   "execution_count": 240,
   "metadata": {},
   "outputs": [
    {
     "name": "stdout",
     "output_type": "stream",
     "text": [
      "La valeur du premier élément de x est 1\n",
      "Le premier élément de x vaut maintenant 10\n"
     ]
    }
   ],
   "source": [
    "print('La valeur du premier élément de x est', x[0])\n",
    "x[0]=10\n",
    "print('Le premier élément de x vaut maintenant', x[0])"
   ]
  },
  {
   "cell_type": "code",
   "execution_count": 241,
   "metadata": {},
   "outputs": [
    {
     "data": {
      "text/plain": [
       "5"
      ]
     },
     "execution_count": 241,
     "metadata": {},
     "output_type": "execute_result"
    }
   ],
   "source": [
    "x[-1]"
   ]
  },
  {
   "cell_type": "markdown",
   "metadata": {},
   "source": [
    "On peut également accèder à plusieurs éléments en utilisant `:` et en spécifiant le début, la fin et le pas. "
   ]
  },
  {
   "cell_type": "code",
   "execution_count": 242,
   "metadata": {},
   "outputs": [
    {
     "data": {
      "text/plain": [
       "array([10,  3])"
      ]
     },
     "execution_count": 242,
     "metadata": {},
     "output_type": "execute_result"
    }
   ],
   "source": [
    "x[0:4:2] #x[début:avant_fin:pas]"
   ]
  },
  {
   "cell_type": "code",
   "execution_count": 243,
   "metadata": {},
   "outputs": [
    {
     "data": {
      "text/plain": [
       "array([10,  2,  3,  4,  5])"
      ]
     },
     "execution_count": 243,
     "metadata": {},
     "output_type": "execute_result"
    }
   ],
   "source": [
    "x[:]"
   ]
  },
  {
   "cell_type": "markdown",
   "metadata": {},
   "source": [
    "Il est également possible de parcourir les tableaux à l'envers"
   ]
  },
  {
   "cell_type": "code",
   "execution_count": 259,
   "metadata": {},
   "outputs": [
    {
     "data": {
      "text/plain": [
       "array([5, 4, 3, 2, 1])"
      ]
     },
     "execution_count": 259,
     "metadata": {},
     "output_type": "execute_result"
    }
   ],
   "source": [
    "x[len(x)::-1]"
   ]
  },
  {
   "cell_type": "markdown",
   "metadata": {},
   "source": [
    "On peut également rechercher certains éléments spécifiques d'un `array` comme illustré ci-dessous:"
   ]
  },
  {
   "cell_type": "code",
   "execution_count": 32,
   "metadata": {},
   "outputs": [
    {
     "name": "stdout",
     "output_type": "stream",
     "text": [
      "les indices correspondants à des valeurs négatives sont: (array([0, 4]),)\n",
      "les valeurs négatives de a sont: [ -1. -10.]\n"
     ]
    }
   ],
   "source": [
    "a = np.array([-1, 0, 1.3, 4, -10, 0.4, 3, 9, 1])\n",
    "ind_a_neg = np.where(a<0)\n",
    "print('les indices correspondants à des valeurs négatives sont:', ind_a_neg)\n",
    "print('les valeurs négatives de a sont:', a[ind_a_neg])"
   ]
  },
  {
   "cell_type": "markdown",
   "metadata": {},
   "source": [
    "Les `slices` en Python permettent de découper des objets contenant des séquences de valeurs d'un objet `a` (nparrary, list, tuple, chaîne de caractères) en ne sélectionnant qu'une partie de ceux-ci. La syntaxe des slices est `a[i:j]` ou `s[i:j:k]`, les indices i (début), j (fin) et k (incrément) peuvent être omis:"
   ]
  },
  {
   "cell_type": "code",
   "execution_count": 44,
   "metadata": {},
   "outputs": [
    {
     "data": {
      "text/plain": [
       "str"
      ]
     },
     "execution_count": 44,
     "metadata": {},
     "output_type": "execute_result"
    }
   ],
   "source": [
    "a = 'abcdefghijklmnopqrstuvwxyz'\n",
    "type(a)\n"
   ]
  },
  {
   "cell_type": "code",
   "execution_count": 45,
   "metadata": {},
   "outputs": [
    {
     "data": {
      "text/plain": [
       "'ab'"
      ]
     },
     "execution_count": 45,
     "metadata": {},
     "output_type": "execute_result"
    }
   ],
   "source": [
    "a[0:2]"
   ]
  },
  {
   "cell_type": "code",
   "execution_count": 37,
   "metadata": {},
   "outputs": [
    {
     "data": {
      "text/plain": [
       "'abcdefghijklmnopqrstuvwxyz'"
      ]
     },
     "execution_count": 37,
     "metadata": {},
     "output_type": "execute_result"
    }
   ],
   "source": [
    "a[0:]"
   ]
  },
  {
   "cell_type": "code",
   "execution_count": 38,
   "metadata": {},
   "outputs": [
    {
     "data": {
      "text/plain": [
       "'acegikmoqsuwy'"
      ]
     },
     "execution_count": 38,
     "metadata": {},
     "output_type": "execute_result"
    }
   ],
   "source": [
    "a[0:26:2]"
   ]
  },
  {
   "cell_type": "code",
   "execution_count": 39,
   "metadata": {},
   "outputs": [
    {
     "data": {
      "text/plain": [
       "'abcdefghijkl'"
      ]
     },
     "execution_count": 39,
     "metadata": {},
     "output_type": "execute_result"
    }
   ],
   "source": [
    "a[:12]"
   ]
  },
  {
   "cell_type": "code",
   "execution_count": 40,
   "metadata": {},
   "outputs": [
    {
     "data": {
      "text/plain": [
       "'abcdefghijklmnopqrstuvwxyz'"
      ]
     },
     "execution_count": 40,
     "metadata": {},
     "output_type": "execute_result"
    }
   ],
   "source": [
    "a[:]"
   ]
  },
  {
   "cell_type": "code",
   "execution_count": 42,
   "metadata": {},
   "outputs": [
    {
     "data": {
      "text/plain": [
       "'z'"
      ]
     },
     "execution_count": 42,
     "metadata": {},
     "output_type": "execute_result"
    }
   ],
   "source": [
    "a[-1]"
   ]
  },
  {
   "cell_type": "code",
   "execution_count": 46,
   "metadata": {},
   "outputs": [],
   "source": [
    "a_tuple=(1, 2, 3, 'quatre')"
   ]
  },
  {
   "cell_type": "code",
   "execution_count": 49,
   "metadata": {},
   "outputs": [
    {
     "data": {
      "text/plain": [
       "(3, 'quatre')"
      ]
     },
     "execution_count": 49,
     "metadata": {},
     "output_type": "execute_result"
    }
   ],
   "source": [
    "a_tuple[2:4]"
   ]
  },
  {
   "cell_type": "code",
   "execution_count": 51,
   "metadata": {},
   "outputs": [
    {
     "data": {
      "text/plain": [
       "[1, 3, 4]"
      ]
     },
     "execution_count": 51,
     "metadata": {},
     "output_type": "execute_result"
    }
   ],
   "source": [
    "a_liste=[1, 3, 4, 4]\n",
    "a_liste[0:3]"
   ]
  },
  {
   "cell_type": "code",
   "execution_count": 54,
   "metadata": {},
   "outputs": [
    {
     "data": {
      "text/plain": [
       "array([1, 3, 4])"
      ]
     },
     "execution_count": 54,
     "metadata": {},
     "output_type": "execute_result"
    }
   ],
   "source": [
    "a_array=np.array(a_liste)\n",
    "a_array[0:3]"
   ]
  },
  {
   "cell_type": "markdown",
   "metadata": {},
   "source": [
    "### Opérations sur un tableau à 1 dimension"
   ]
  },
  {
   "cell_type": "markdown",
   "metadata": {},
   "source": [
    "Lorsque l'on effectue des opérations sur des `arrays` `NumPy`, la vitesse d'exécution peut être grandement améliorée en évitant l'utilisation de boucles pour parcourir les tableaux et en utilisant les différentes fonctions de `NumPy` qui peuvent s'appliquer directement aux tableaux."
   ]
  },
  {
   "cell_type": "code",
   "execution_count": 255,
   "metadata": {},
   "outputs": [
    {
     "name": "stdout",
     "output_type": "stream",
     "text": [
      "[ 0.84147098  0.90929743  0.14112001 -0.7568025  -0.95892427]\n"
     ]
    }
   ],
   "source": [
    "x = np.arange(1,6,1)\n",
    "y = np.zeros(x.shape)  #initialisation de y de même taille que x\n",
    "for i in range(len(x)):\n",
    "    y[i] = np.sin(x[i])\n",
    "print(y)"
   ]
  },
  {
   "cell_type": "markdown",
   "metadata": {},
   "source": [
    "Ceci peut être simplement écrit:"
   ]
  },
  {
   "cell_type": "code",
   "execution_count": 257,
   "metadata": {},
   "outputs": [
    {
     "name": "stdout",
     "output_type": "stream",
     "text": [
      "[ 0.84147098  0.90929743  0.14112001 -0.7568025  -0.95892427]\n"
     ]
    }
   ],
   "source": [
    "y = np.sin(x)\n",
    "print(y)"
   ]
  },
  {
   "cell_type": "markdown",
   "metadata": {},
   "source": [
    "Les opérations dites vectorielles peuvent s'appliquer aux tableaux à 1 dimension de type `array` en utilisant les fonctions appropriées de `NumPy` tandis les opérations de base s'appliquent élément par élément. Par exemple la multiplication de x par y donnerait:"
   ]
  },
  {
   "cell_type": "code",
   "execution_count": 264,
   "metadata": {},
   "outputs": [
    {
     "name": "stdout",
     "output_type": "stream",
     "text": [
      "x: [1 2 3 4 5]\n",
      "y: [0 1 2 3 4]\n"
     ]
    },
    {
     "data": {
      "text/plain": [
       "array([ 0,  2,  6, 12, 20])"
      ]
     },
     "execution_count": 264,
     "metadata": {},
     "output_type": "execute_result"
    }
   ],
   "source": [
    "x = np.arange(1,6,1)\n",
    "y = np.arange(0,5,1)\n",
    "print('x:', x)\n",
    "print('y:', y)\n",
    "x * y\n"
   ]
  },
  {
   "cell_type": "markdown",
   "metadata": {},
   "source": [
    "Pour effectuer le produit scalire des vecteurs x et y, on peut utiliser la fonction `dot` de `NumPy`"
   ]
  },
  {
   "cell_type": "code",
   "execution_count": 265,
   "metadata": {},
   "outputs": [
    {
     "data": {
      "text/plain": [
       "40"
      ]
     },
     "execution_count": 265,
     "metadata": {},
     "output_type": "execute_result"
    }
   ],
   "source": [
    "np.dot(x,y)"
   ]
  },
  {
   "cell_type": "markdown",
   "metadata": {},
   "source": [
    "### Tableaux à 2 dimensions\n",
    "\n",
    "Les tableaux peuvent être de dimensions arbitraires, mais nous utiliserons dans ce cours fréquemment les tableaux à 2 dimensions pour lesquels des opérations matricielles peuvent être définies. Pour créer ces tableaux, nous pouvons réutiliser la fonction `array` de `NumPy`"
   ]
  },
  {
   "cell_type": "code",
   "execution_count": 322,
   "metadata": {},
   "outputs": [
    {
     "name": "stdout",
     "output_type": "stream",
     "text": [
      "[[ 1  2  3  4  5]\n",
      " [ 6  7  8  9 10]\n",
      " [11 12 13 14 15]]\n",
      "A has 2 dimensions\n"
     ]
    }
   ],
   "source": [
    "A = np.array([[1, 2, 3, 4, 5], [6, 7, 8, 9, 10], [11, 12, 13, 14, 15]])\n",
    "print(A)\n",
    "print('A has', np.ndim(A), 'dimensions')\n"
   ]
  },
  {
   "cell_type": "markdown",
   "metadata": {},
   "source": [
    "L'indice d'un tableau à 2 dimensions est spécifié par deux valeurs, la première correspond aux lignes, la seconde au colonne du tableau et sont données à l'aide d'un tuple (donc défini entre parenthèse). Dans l'exemple ci-dessous, nous créons un tableau à 2 dimensions rempli de 0 et nous le modifions en changeant 1 élément, puis une partie de ligne et enfin le dernier élément."
   ]
  },
  {
   "cell_type": "code",
   "execution_count": 312,
   "metadata": {},
   "outputs": [
    {
     "name": "stdout",
     "output_type": "stream",
     "text": [
      "Initialisation de B:\n",
      "[[0. 0. 0. 0. 0.]\n",
      " [0. 0. 0. 0. 0.]\n",
      " [0. 0. 0. 0. 0.]]\n",
      "Modification de B:\n",
      "[[  5.   0.   0.   0.   0.]\n",
      " [  0.   0.  10.  10.  10.]\n",
      " [  0.   0.   0.   0. 500.]]\n"
     ]
    }
   ],
   "source": [
    "B = np.zeros((3,5))\n",
    "print('Initialisation de B:')\n",
    "print(B)\n",
    "print('Modification de B:')\n",
    "B[0,0] = 5\n",
    "B[1,2:] = 10\n",
    "B[-1,-1] = 500\n",
    "print(B)"
   ]
  },
  {
   "cell_type": "markdown",
   "metadata": {},
   "source": [
    "Comme précédemment, les opérations de base s'effectuent élément par élément:"
   ]
  },
  {
   "cell_type": "code",
   "execution_count": 319,
   "metadata": {},
   "outputs": [
    {
     "name": "stdout",
     "output_type": "stream",
     "text": [
      "[[5.0e+00 0.0e+00 0.0e+00 0.0e+00 0.0e+00]\n",
      " [0.0e+00 0.0e+00 8.0e+01 9.0e+01 1.0e+02]\n",
      " [0.0e+00 0.0e+00 0.0e+00 0.0e+00 7.5e+03]]\n"
     ]
    }
   ],
   "source": [
    "print(A * B)"
   ]
  },
  {
   "cell_type": "markdown",
   "metadata": {},
   "source": [
    "L'objet `array` de `NumPy`,ici A, possède certaines méthodes définies automatiquement comme la transposée de A qui se note `A.T`. Les opérations matricielles peuvent être effectuées en utilisant les fonction de `NumPy`:"
   ]
  },
  {
   "cell_type": "code",
   "execution_count": 323,
   "metadata": {},
   "outputs": [
    {
     "name": "stdout",
     "output_type": "stream",
     "text": [
      "[[5.00e+00 0.00e+00 6.00e+01 6.00e+01 5.56e+03]\n",
      " [1.00e+01 0.00e+00 7.00e+01 7.00e+01 6.07e+03]\n",
      " [1.50e+01 0.00e+00 8.00e+01 8.00e+01 6.58e+03]\n",
      " [2.00e+01 0.00e+00 9.00e+01 9.00e+01 7.09e+03]\n",
      " [2.50e+01 0.00e+00 1.00e+02 1.00e+02 7.60e+03]]\n"
     ]
    }
   ],
   "source": [
    "print(np.dot(A.T,B))"
   ]
  },
  {
   "cell_type": "markdown",
   "metadata": {},
   "source": [
    "## Résolution de systèmes d'équations linéaires\n",
    "\n",
    "Pour résoudre un système linéaire Ax = b, par exemple"
   ]
  },
  {
   "cell_type": "markdown",
   "metadata": {},
   "source": [
    "\n",
    "$$ \\left(\n",
    "\\begin{array}{ccc}\n",
    "5 & 6 & 10 \\\\\n",
    "-3 & 0 & 14 \\\\\n",
    "0 & -7 & 21 \n",
    "\\end{array}\\right)\n",
    "\\left(\n",
    "\\begin{array}{c}\n",
    "x_1 \\\\\n",
    "x_2 \\\\\n",
    "x_3 \n",
    "\\end{array}\\right) = \n",
    "\\left(\n",
    "\\begin{array}{c}\n",
    "4 \\\\\n",
    "10 \\\\\n",
    "0 \n",
    "\\end{array}\\right)\n",
    "$$"
   ]
  },
  {
   "cell_type": "markdown",
   "metadata": {},
   "source": [
    "nous pouvons utiliser la méthode `solve`, qui fait partie de la sous-librairie `linalg` de `NumPy`. La méthode de résolution prend en entrée un tableau bidimensionnel (la matrice A) et un tableau unidimensionnel (le côté droit) et renvoie la solution. "
   ]
  },
  {
   "cell_type": "code",
   "execution_count": 330,
   "metadata": {},
   "outputs": [
    {
     "name": "stdout",
     "output_type": "stream",
     "text": [
      "[-1.45454545  1.20779221  0.4025974 ]\n"
     ]
    }
   ],
   "source": [
    "A = np.array([[5, 6, 10],[-3, 0, 14], [0, -7, 21]])\n",
    "b = np.array([4, 10, 0])\n",
    "solution = np.linalg.solve(A, b)\n",
    "print(solution)\n"
   ]
  },
  {
   "cell_type": "markdown",
   "metadata": {},
   "source": [
    "On peut simplement vérifier que la solution fournie est la bonne en multipliant la matrice A par la solution"
   ]
  },
  {
   "cell_type": "code",
   "execution_count": 331,
   "metadata": {},
   "outputs": [
    {
     "data": {
      "text/plain": [
       "array([ 4., 10.,  0.])"
      ]
     },
     "execution_count": 331,
     "metadata": {},
     "output_type": "execute_result"
    }
   ],
   "source": [
    "np.dot(A,solution)"
   ]
  },
  {
   "cell_type": "markdown",
   "metadata": {},
   "source": [
    "## Structures de contrôle:  `for`, `if`/`elif`/`else`,`while`, `break`"
   ]
  },
  {
   "cell_type": "markdown",
   "metadata": {},
   "source": [
    "Python intègre de base des structures de contrôle. Elles permettent d'effectuer des boucles, de vérifier si certaines conditions sont remplies avant d'exécuter certaines lignes de codes. Nous aurons ici besoin de `numpy` et de `matplotlib` nous commencons donc par les importer."
   ]
  },
  {
   "cell_type": "markdown",
   "metadata": {},
   "source": [
    "### La boucle `for`"
   ]
  },
  {
   "cell_type": "markdown",
   "metadata": {},
   "source": [
    "La syntaxe est la suivante et permet d'exécuter un bloc de commandes de manière répetée :"
   ]
  },
  {
   "cell_type": "code",
   "execution_count": 369,
   "metadata": {},
   "outputs": [
    {
     "name": "stdout",
     "output_type": "stream",
     "text": [
      "La valeur de i est : 0\n",
      "La valeur de i est : 1\n",
      "La valeur de i est : 2\n",
      "La valeur de i est : 3\n",
      "La valeur de i est : 4\n",
      "Nous sommes sortis de la boucle\n"
     ]
    }
   ],
   "source": [
    "for i in [0, 1, 2, 3, 4]: # La ligne se termine par :\n",
    "    print('La valeur de i est :', i) # Le bloc de commandes est indenté\n",
    "print('Nous sommes sortis de la boucle')"
   ]
  },
  {
   "cell_type": "markdown",
   "metadata": {},
   "source": [
    "Il faut remarquer ici qu'à la fin du `for` il est nécessaire d'introduire `:` et d'indenter le bloc de commandes à exécuter au sein de la boucle. La fin de l'indentation met fin à la boucle.\n",
    "\n",
    "Nous pouvons utiliser les boucles `for` pour affecter des valeurs à des éléments d'un tableau"
   ]
  },
  {
   "cell_type": "code",
   "execution_count": 373,
   "metadata": {},
   "outputs": [
    {
     "data": {
      "image/png": "[encoded data removed]",
      "text/plain": [
       "<Figure size 432x288 with 1 Axes>"
      ]
     },
     "metadata": {
      "needs_background": "light"
     },
     "output_type": "display_data"
    }
   ],
   "source": [
    "x = np.linspace(0, 2*np.pi, 200)\n",
    "y = np.zeros_like(x)\n",
    "for i in range(len(x)):\n",
    "    y[i] = np.cos(x[i])\n",
    "plt.plot(x,y);"
   ]
  },
  {
   "cell_type": "markdown",
   "metadata": {},
   "source": [
    "Notons que nous aurions dû tirer parti de la vectorisation offerte par `NumPy` et éviter d'écrire une boucle `for`:"
   ]
  },
  {
   "cell_type": "code",
   "execution_count": 375,
   "metadata": {},
   "outputs": [
    {
     "data": {
      "image/png": "[encoded data removed]",
      "text/plain": [
       "<Figure size 432x288 with 1 Axes>"
      ]
     },
     "metadata": {
      "needs_background": "light"
     },
     "output_type": "display_data"
    }
   ],
   "source": [
    "plt.plot(x,np.cos(x));"
   ]
  },
  {
   "cell_type": "markdown",
   "metadata": {},
   "source": [
    "### `if`/`elif`/`else`\n",
    "\n",
    "La condition `if` permet d'exécuter un bloc de commandes pour autant que le résultat de l'évaluation de `if` soit `True`"
   ]
  },
  {
   "cell_type": "code",
   "execution_count": 377,
   "metadata": {},
   "outputs": [
    {
     "name": "stdout",
     "output_type": "stream",
     "text": [
      "a est bien égale à 2\n"
     ]
    }
   ],
   "source": [
    "a = 2 \n",
    "if a == 2:\n",
    "    print('a est bien égale à', a)"
   ]
  },
  {
   "cell_type": "markdown",
   "metadata": {},
   "source": [
    "La condition `if` peut être suivie d'un `else` qui sera évaluée si l'évaluation du `if` est `False`"
   ]
  },
  {
   "cell_type": "code",
   "execution_count": 378,
   "metadata": {},
   "outputs": [
    {
     "name": "stdout",
     "output_type": "stream",
     "text": [
      "a est différent de 2\n"
     ]
    }
   ],
   "source": [
    "a = 3 \n",
    "if a == 2:\n",
    "    print('a est bien égale à', a)\n",
    "else:\n",
    "    print('a est différent de 2')"
   ]
  },
  {
   "cell_type": "markdown",
   "metadata": {},
   "source": [
    "Finalement, nous pouvons utiliser la commande `elif` pour rajouter des conditions avant l'utilisation du `else`"
   ]
  },
  {
   "cell_type": "code",
   "execution_count": 381,
   "metadata": {},
   "outputs": [
    {
     "name": "stdout",
     "output_type": "stream",
     "text": [
      "a est bien égale à 3\n"
     ]
    }
   ],
   "source": [
    "a = 3\n",
    "if a == 2:\n",
    "    print('a est bien égale à', a)\n",
    "elif a==3:\n",
    "    print('a est bien égale à', a)\n",
    "else:\n",
    "    print('a est différent de 2 et de 3')"
   ]
  },
  {
   "cell_type": "markdown",
   "metadata": {},
   "source": [
    "### La boucle `while`/`break`"
   ]
  },
  {
   "cell_type": "markdown",
   "metadata": {},
   "source": [
    "La boucle `while` permet d'éxécuter un bloc de commandes jusqu'à ce qu'une condition soit rencontrée ou lorsqu'une commande `break` est rencontrée. La syntaxe est la suivante:"
   ]
  },
  {
   "cell_type": "code",
   "execution_count": 383,
   "metadata": {},
   "outputs": [
    {
     "name": "stdout",
     "output_type": "stream",
     "text": [
      "1\n",
      "2\n",
      "3\n",
      "4\n",
      "5\n",
      "6\n"
     ]
    }
   ],
   "source": [
    "a = 0\n",
    "while a < 6:\n",
    "    a += 1\n",
    "    print(a)"
   ]
  },
  {
   "cell_type": "markdown",
   "metadata": {},
   "source": [
    "Il est important d'être vigilant à ne pas créer de boucle infinie et d'utiliser la commande `break` après un certain nombre de passage dans la boucle."
   ]
  },
  {
   "cell_type": "code",
   "execution_count": 384,
   "metadata": {},
   "outputs": [
    {
     "name": "stdout",
     "output_type": "stream",
     "text": [
      "1\n",
      "2\n",
      "3\n",
      "4\n",
      "5\n",
      "6\n",
      "7\n",
      "8\n",
      "9\n",
      "10\n",
      "11\n",
      "12\n",
      "13\n",
      "14\n",
      "15\n",
      "16\n",
      "Sortie anticipée de boucle\n",
      "Nous sommes sortis de la boucle\n"
     ]
    }
   ],
   "source": [
    "a = 0\n",
    "while a < 60000:\n",
    "    a += 1\n",
    "    print(a)\n",
    "    if a > 15:\n",
    "        print('Sortie anticipée de boucle')\n",
    "        break\n",
    "print('Nous sommes sortis de la boucle')"
   ]
  },
  {
   "cell_type": "markdown",
   "metadata": {},
   "source": [
    "## Les polynômes"
   ]
  },
  {
   "cell_type": "markdown",
   "metadata": {},
   "source": [
    "Les polynômes peuvent être conçus et manipulés à travers la classe `numpy.polynomial` qui contient différentes possibilités (puissance, Chebyshev, Legendre...). Par exemple le polynôme\n",
    "\n",
    "$$ x^4-12x^3+5x$$ \n",
    "\n",
    "peut-être représenter par ses coefficients repris dans la `liste` `coef` ci-dessous"
   ]
  },
  {
   "cell_type": "code",
   "execution_count": 16,
   "metadata": {},
   "outputs": [],
   "source": [
    "coef = [0, 5, 0, -12, 1]"
   ]
  },
  {
   "cell_type": "code",
   "execution_count": 17,
   "metadata": {},
   "outputs": [
    {
     "data": {
      "text/latex": [
       "$x \\mapsto \\color{LightGray}{\\text{0.0}} + \\text{5.0}\\,x\\color{LightGray}{ + \\text{0.0}\\,x^{2}} - \\text{12.0}\\,x^{3} + \\text{1.0}\\,x^{4}$"
      ],
      "text/plain": [
       "Polynomial([  0.,   5.,   0., -12.,   1.], domain=[-1,  1], window=[-1,  1])"
      ]
     },
     "execution_count": 17,
     "metadata": {},
     "output_type": "execute_result"
    }
   ],
   "source": [
    "from numpy.polynomial import Polynomial as poly\n",
    "p = poly(coef)\n",
    "p"
   ]
  },
  {
   "cell_type": "code",
   "execution_count": 390,
   "metadata": {},
   "outputs": [
    {
     "data": {
      "text/plain": [
       "numpy.polynomial.polynomial.Polynomial"
      ]
     },
     "execution_count": 390,
     "metadata": {},
     "output_type": "execute_result"
    }
   ],
   "source": [
    "type(p)"
   ]
  },
  {
   "cell_type": "code",
   "execution_count": 391,
   "metadata": {},
   "outputs": [
    {
     "name": "stdout",
     "output_type": "stream",
     "text": [
      "poly([  0.   5.   0. -12.   1.])\n"
     ]
    }
   ],
   "source": [
    "print(p)"
   ]
  },
  {
   "cell_type": "markdown",
   "metadata": {},
   "source": [
    "Nous pouvons ensuite effectuer un nombre important d'opérations comme calculer la dérivée du polynôme, l'évaluer en un point, par exemple en `x = 5`, ou encore déterminer ses racines:"
   ]
  },
  {
   "cell_type": "code",
   "execution_count": 393,
   "metadata": {},
   "outputs": [
    {
     "data": {
      "text/latex": [
       "$x \\mapsto \\text{5.0}\\color{LightGray}{ + \\text{0.0}\\,x} - \\text{36.0}\\,x^{2} + \\text{4.0}\\,x^{3}$"
      ],
      "text/plain": [
       "Polynomial([  5.,   0., -36.,   4.], domain=[-1.,  1.], window=[-1.,  1.])"
      ]
     },
     "execution_count": 393,
     "metadata": {},
     "output_type": "execute_result"
    }
   ],
   "source": [
    "p.deriv(1)"
   ]
  },
  {
   "cell_type": "code",
   "execution_count": 395,
   "metadata": {},
   "outputs": [
    {
     "data": {
      "text/plain": [
       "-850.0"
      ]
     },
     "execution_count": 395,
     "metadata": {},
     "output_type": "execute_result"
    }
   ],
   "source": [
    "p(5)"
   ]
  },
  {
   "cell_type": "code",
   "execution_count": 403,
   "metadata": {},
   "outputs": [
    {
     "data": {
      "text/plain": [
       "array([-0.62921183,  0.        ,  0.66413705, 11.96507478])"
      ]
     },
     "execution_count": 403,
     "metadata": {},
     "output_type": "execute_result"
    }
   ],
   "source": [
    "p.roots()"
   ]
  },
  {
   "cell_type": "markdown",
   "metadata": {},
   "source": [
    "Si un ensemble de points nous est donné mais que nous ne connaissons pas le polynôme associé, nous pouvons ajuster au sens des moindres carrés un polynôme d'un certain degré à ces points en utiliser la fonction `polyfit`"
   ]
  },
  {
   "cell_type": "code",
   "execution_count": 18,
   "metadata": {},
   "outputs": [],
   "source": [
    "from numpy.polynomial.polynomial import polyfit\n",
    "coef2 = polyfit([0, 1, 4, 5],[-1, 2, 1, 4],3)"
   ]
  },
  {
   "cell_type": "code",
   "execution_count": 21,
   "metadata": {},
   "outputs": [
    {
     "name": "stdout",
     "output_type": "stream",
     "text": [
      "poly([-1.          5.16666667 -2.5         0.33333333])\n"
     ]
    }
   ],
   "source": [
    "p2 = poly(coef2)\n",
    "print(p2)"
   ]
  },
  {
   "cell_type": "markdown",
   "metadata": {},
   "source": [
    "## Graphiques"
   ]
  },
  {
   "cell_type": "markdown",
   "metadata": {},
   "source": [
    "### Les bases\n",
    "Pour effectuer des graphiques dans Python, nous utiliserons la librairie `matplotlib` et la sous-librairie `pyplot`. La commande `%matplotlib inline` est ici utilisée pour ne pas faire apparaître les graphiques sur une page à part. L'ensembe des graphiques disponibles est décrit ici: https://matplotlib.org/gallery.html"
   ]
  },
  {
   "cell_type": "code",
   "execution_count": 410,
   "metadata": {},
   "outputs": [],
   "source": [
    "%matplotlib inline\n",
    "import matplotlib.pyplot as plt"
   ]
  },
  {
   "cell_type": "markdown",
   "metadata": {},
   "source": [
    "Nous pouvons maintenant faire appel aux fonctions graphiques en utilisant la commande `plt.fonction`, par exemple la fonction `plot(x, y, chaîne de caractères)` où la chaine de caratères définit le type de marqueur ou de trait utilisé."
   ]
  },
  {
   "cell_type": "code",
   "execution_count": 418,
   "metadata": {},
   "outputs": [
    {
     "data": {
      "image/png": "[encoded data removed]",
      "text/plain": [
       "<Figure size 432x288 with 1 Axes>"
      ]
     },
     "metadata": {
      "needs_background": "light"
     },
     "output_type": "display_data"
    }
   ],
   "source": [
    "plt.plot(1,0,'or');"
   ]
  },
  {
   "cell_type": "markdown",
   "metadata": {},
   "source": [
    "Nous pouvons ainsi visualiser le polynôme généré ci-dessus à l'aide des tableaux `x` et `y`"
   ]
  },
  {
   "cell_type": "code",
   "execution_count": 420,
   "metadata": {},
   "outputs": [
    {
     "data": {
      "image/png": "[encoded data removed]",
      "text/plain": [
       "<Figure size 432x288 with 1 Axes>"
      ]
     },
     "metadata": {
      "needs_background": "light"
     },
     "output_type": "display_data"
    }
   ],
   "source": [
    "x = np.linspace(-1, 12, 200)\n",
    "y = np.zeros_like(x)\n",
    "plt.plot(x,p(x),'g--');"
   ]
  },
  {
   "cell_type": "markdown",
   "metadata": {},
   "source": [
    "La fonction `plot` peut prendre un grand nombre d'arguments optionnels à travers des mots-clés. La syntaxe est `fonction(mot-clé1=valeur1, mot-clé2=valeur2)`. Par exemple, pour tracer le polynôme en rouge avec une épaisseur de trait de 4 on écrit\n"
   ]
  },
  {
   "cell_type": "code",
   "execution_count": 421,
   "metadata": {},
   "outputs": [
    {
     "data": {
      "image/png": "[encoded data removed]",
      "text/plain": [
       "<Figure size 432x288 with 1 Axes>"
      ]
     },
     "metadata": {
      "needs_background": "light"
     },
     "output_type": "display_data"
    }
   ],
   "source": [
    "plt.plot(x,p(x),'g--',linewidth = 4);"
   ]
  },
  {
   "cell_type": "markdown",
   "metadata": {},
   "source": [
    "### Afficher plusieurs courbes dans un graphique, créer une nouvelle figure"
   ]
  },
  {
   "cell_type": "markdown",
   "metadata": {},
   "source": [
    "Pour créer une nouvelle figure, il faut utiliser la fonction `figure` de ` matplotlib.pyplot`. On peut allors spécifier la taille de la figure. Les commandes suivantes utilisant la fonction `plot` utilisera alors cette figure, afin par exemple de superposer des courbes. On peut y ajouter une légende, un titre ainsi que labéliser les axes."
   ]
  },
  {
   "cell_type": "code",
   "execution_count": 448,
   "metadata": {
    "scrolled": false
   },
   "outputs": [
    {
     "data": {
      "image/png": "[encoded data removed]",
      "text/plain": [
       "<Figure size 1080x720 with 1 Axes>"
      ]
     },
     "metadata": {
      "needs_background": "light"
     },
     "output_type": "display_data"
    },
    {
     "data": {
      "image/png": "[encoded data removed]",
      "text/plain": [
       "<Figure size 432x288 with 1 Axes>"
      ]
     },
     "metadata": {
      "needs_background": "light"
     },
     "output_type": "display_data"
    }
   ],
   "source": [
    "plt.figure(figsize=(15, 10))  # Crée une nouvelle figure\n",
    "plt.plot(x,p(x),'r');\n",
    "plt.plot(x,np.zeros_like(x),'b');\n",
    "plt.plot(p.roots(),np.zeros_like(p.roots()),'og')\n",
    "plt.legend(['poynome','droite', 'racines'],loc='best')  #Ajout d'une légende\n",
    "\n",
    "plt.title('Polynôme de degré 4') #Ajout d'un titre\n",
    "plt.ylabel('Axe des Y') # Labélisation de l'axe des ordonnées\n",
    "plt.xlabel('Axe des X') # Labélisation de l'axe des abscisses\n",
    "\n",
    "plt.figure() # Crée une nouvelle figure\n",
    "plt.plot(x,p(x),'r');\n"
   ]
  },
  {
   "cell_type": "markdown",
   "metadata": {},
   "source": [
    "## Interpolation par splines\n",
    "\n",
    "Python offre la possibilié de réaliser des interpolations par splines à travers la librairie `SciPy` et la sous-librairie `interpolate`. Nous utliserons par exemple la fonction `CubicSpline`."
   ]
  },
  {
   "cell_type": "code",
   "execution_count": 102,
   "metadata": {},
   "outputs": [],
   "source": [
    "import numpy as np\n",
    "import matplotlib\n",
    "from scipy.interpolate import CubicSpline\n",
    "%matplotlib inline\n",
    "import matplotlib.pyplot as plt"
   ]
  },
  {
   "cell_type": "markdown",
   "metadata": {},
   "source": [
    "Considérons tout d'abord un ensemble de points x et y entre lesquels nous souhaitons interpoler."
   ]
  },
  {
   "cell_type": "code",
   "execution_count": 115,
   "metadata": {},
   "outputs": [
    {
     "data": {
      "image/png": "[encoded data removed]",
      "text/plain": [
       "<Figure size 432x288 with 1 Axes>"
      ]
     },
     "metadata": {
      "needs_background": "light"
     },
     "output_type": "display_data"
    }
   ],
   "source": [
    "x = np.linspace(0,100,10)\n",
    "y = np.random.rand(10)\n",
    "plt.plot(x,y,'o');"
   ]
  },
  {
   "cell_type": "code",
   "execution_count": 116,
   "metadata": {},
   "outputs": [
    {
     "data": {
      "text/plain": [
       "<matplotlib.legend.Legend at 0x7fc768e573d0>"
      ]
     },
     "execution_count": 116,
     "metadata": {},
     "output_type": "execute_result"
    },
    {
     "data": {
      "image/png": "[encoded data removed]",
      "text/plain": [
       "<Figure size 432x288 with 1 Axes>"
      ]
     },
     "metadata": {
      "needs_background": "light"
     },
     "output_type": "display_data"
    }
   ],
   "source": [
    "x_cs = np.linspace(0,100,500) \n",
    "cs = CubicSpline(x,y,bc_type='clamped') #le paramètre bc_type permet d'imposer certaines conditions aux limites\n",
    "plt.plot(x_cs,cs(x_cs),label='Spline')\n",
    "plt.plot(x,y,'ro', label='Data')\n",
    "plt.legend(loc='best')\n"
   ]
  },
  {
   "cell_type": "markdown",
   "metadata": {},
   "source": [
    "## Résolution d'équations différentielles"
   ]
  },
  {
   "cell_type": "markdown",
   "metadata": {},
   "source": [
    "\n",
    "Considérons l'équation différentielle de l'oscillateur de Van der Pol\n",
    "\\begin{eqnarray}\n",
    "\\frac{d x_1}{d t}&=& x_2\\\\\n",
    "\\frac{d x_2}{d t}&=&\\epsilon\\omega(1-x_1^2)x_2-\\omega^2x_1\n",
    "\\end{eqnarray}\n",
    "Avec les constantes $\\epsilon$ et $\\omega$ égales à 0.1 et 1 respectivement.\n",
    "Dans Python, cette équation différentielle peut être représentée par une fonction définie comme suit :\n"
   ]
  },
  {
   "cell_type": "code",
   "execution_count": 157,
   "metadata": {},
   "outputs": [],
   "source": [
    "def odefunction(t,y,const):\n",
    "    # Système d'équations différentielles ordinaires défini par :\n",
    "    #   t:  le temps\n",
    "    #   y: les variables du système\n",
    "    #  La fonction retourne dy, un array contenant les dérivées\n",
    "    \n",
    "    #Import nécessaire \n",
    "    import numpy as np\n",
    "    \n",
    "    #Partie principale\n",
    "    #Definitions de constantes\n",
    "    epsilon=const[0]\n",
    "    omega=const[1]\n",
    "\n",
    "    dy = np.zeros(2)\n",
    "    dy[0] = y[1]\n",
    "    dy[1] = epsilon * omega * (1-y[0]**2)*y[1] - (omega**2)*y[0]\n",
    "    \n",
    "    return dy"
   ]
  },
  {
   "cell_type": "markdown",
   "metadata": {},
   "source": [
    "Ces lignes de codes sont enregistrés dans un fichier portant le nom de`OdeFun.py`. La résolution numérique nécessite la librairie `SciPy` et la fonction `solve_ivp` de la sous libraire `scipy.integrate`. Ici la sortie d'`odefunction` fournit une solution de type `list` mais nous pourrions également sortir un type `numpy.ndarray`."
   ]
  },
  {
   "cell_type": "code",
   "execution_count": 1,
   "metadata": {},
   "outputs": [
    {
     "name": "stdout",
     "output_type": "stream",
     "text": [
      "Once deleted, variables cannot be recovered. Proceed (y/[n])? y\n"
     ]
    }
   ],
   "source": [
    "%reset\n",
    "from scipy.integrate import solve_ivp as ode45 # Defining the solver (ode45)\n",
    "from matplotlib import pyplot\n",
    "import numpy\n",
    "import OdeFun\n"
   ]
  },
  {
   "cell_type": "code",
   "execution_count": 2,
   "metadata": {},
   "outputs": [
    {
     "name": "stdout",
     "output_type": "stream",
     "text": [
      "Variable   Type        Data/Info\n",
      "--------------------------------\n",
      "OdeFun     module      <module 'OdeFun' from '/U<...>n101/Tutoriel/OdeFun.py'>\n",
      "numpy      module      <module 'numpy' from '/Us<...>kages/numpy/__init__.py'>\n",
      "ode45      function    <function solve_ivp at 0x7fde509f6e50>\n",
      "pyplot     module      <module 'matplotlib.pyplo<...>es/matplotlib/pyplot.py'>\n"
     ]
    }
   ],
   "source": [
    "whos"
   ]
  },
  {
   "cell_type": "markdown",
   "metadata": {},
   "source": [
    "La fonction `scipy.integrate.sole_ivp` et ici renomée `ode45` utilise par défaut une méthode de Runge-Kutta explicite pour la résolution de l'équation et les paramètres d'intégration peuvent être ajustés avec des options. Le code suivant résout l'équation différentielle entre 0 et 12 et trace le résultat à l'écran :\n"
   ]
  },
  {
   "cell_type": "code",
   "execution_count": 13,
   "metadata": {},
   "outputs": [
    {
     "data": {
      "image/png": "[encoded data removed]",
      "text/plain": [
       "<Figure size 432x288 with 1 Axes>"
      ]
     },
     "metadata": {
      "needs_background": "light"
     },
     "output_type": "display_data"
    }
   ],
   "source": [
    "c=[0.1, 1]\n",
    "solution = ode45(lambda t, y: OdeFun.odefunction(t,y,c),[0,100],[0, 1])\n",
    "pyplot.plot(solution.t,solution.y[0,:]);\n",
    "pyplot.title('Résolution de l\\'oscillateur de Van der Pol '); #Ajout d'un titre\n",
    "pyplot.ylabel('x_1'); # Labélisation de l'axe des ordonnées\n",
    "pyplot.xlabel('Temps'); # Labélisation de l'axe des abscisses\n",
    "\n"
   ]
  },
  {
   "cell_type": "markdown",
   "metadata": {},
   "source": [
    "La fonction `lambda` permet de remplacer l'appel à `OdeFun.odefunction` qui admet normallement trois arguments (t, y, c) en entrée par un appel avec une fonction `lambda` à deux arguments (t, y) accepté par le solveur `scipy.integrate.sole_ivp`. "
   ]
  },
  {
   "cell_type": "code",
   "execution_count": 14,
   "metadata": {},
   "outputs": [
    {
     "name": "stdout",
     "output_type": "stream",
     "text": [
      "Variable   Type         Data/Info\n",
      "---------------------------------\n",
      "OdeFun     module       <module 'OdeFun' from '/U<...>n101/Tutoriel/OdeFun.py'>\n",
      "c          list         n=2\n",
      "event      function     <function event at 0x7fde4026b790>\n",
      "numpy      module       <module 'numpy' from '/Us<...>kages/numpy/__init__.py'>\n",
      "ode45      function     <function solve_ivp at 0x7fde509f6e50>\n",
      "pyplot     module       <module 'matplotlib.pyplo<...>es/matplotlib/pyplot.py'>\n",
      "solution   OdeResult      message: 'The solver su<...>7e+00]])\\n y_events: None\n"
     ]
    }
   ],
   "source": [
    "whos"
   ]
  },
  {
   "cell_type": "markdown",
   "metadata": {},
   "source": [
    "Le solveur `scipy.integrate.sole_ivp` offre un nombre important d'options. Ces dernières permettrent par exemple de définir les valeurs de tolérance relative et absolue. \n"
   ]
  },
  {
   "cell_type": "code",
   "execution_count": 15,
   "metadata": {},
   "outputs": [
    {
     "data": {
      "image/png": "[encoded data removed]",
      "text/plain": [
       "<Figure size 432x288 with 1 Axes>"
      ]
     },
     "metadata": {
      "needs_background": "light"
     },
     "output_type": "display_data"
    }
   ],
   "source": [
    "solution = ode45(lambda t, y: OdeFun.odefunction(t,y,c),[0,100],[0, 1],rtol=1e-8)\n",
    "pyplot.plot(solution.t,solution.y[0,:]);\n",
    "pyplot.title('Résolution de l\\'oscillateur de Van der Pol '); #Ajout d'un titre\n",
    "pyplot.ylabel('x_1'); # Labélisation de l'axe des ordonnées\n",
    "pyplot.xlabel('Temps'); # Labélisation de l'axe des abscisses"
   ]
  },
  {
   "cell_type": "markdown",
   "metadata": {},
   "source": [
    "Il est souvent utile de déterminer quand la solution\n",
    "du système d'équations différentielles atteint une valeur particulière (comme 0 par exemple).\n",
    "Ceci peut se faire grâce à la définition d'options. Ceci demande de créer une fonction définissant le type d'évènement à déterminer puis nous recalculons la solution. Les évenements sont enregistrés dans `solution.t_events` et `solution.y_events`.\n",
    "\n",
    "Pour plus d'informations, n'hésitez pas à consulter l'aide de la fonction `scipy.integrate.sole_ivp`."
   ]
  },
  {
   "cell_type": "code",
   "execution_count": 16,
   "metadata": {},
   "outputs": [],
   "source": [
    "def event(t,y): return y[0]"
   ]
  },
  {
   "cell_type": "code",
   "execution_count": 17,
   "metadata": {},
   "outputs": [
    {
     "data": {
      "image/png": "[encoded data removed]",
      "text/plain": [
       "<Figure size 432x288 with 1 Axes>"
      ]
     },
     "metadata": {
      "needs_background": "light"
     },
     "output_type": "display_data"
    }
   ],
   "source": [
    "solution = ode45(lambda t, y: OdeFun.odefunction(t,y,c),[0,100],[0, 1], events=event)\n",
    "pyplot.plot(solution.t,solution.y[0,:]);\n",
    "pyplot.plot(solution.t_events[0],solution.y_events[0][0:,0],'rx');\n",
    "pyplot.title('Résolution de l\\'oscillateur de Van der Pol '); #Ajout d'un titre\n",
    "pyplot.ylabel('x_1'); # Labélisation de l'axe des ordonnées\n",
    "pyplot.xlabel('Temps'); # Labélisation de l'axe des abscisses"
   ]
  },
  {
   "cell_type": "markdown",
   "metadata": {},
   "source": [
    "## Débogage"
   ]
  },
  {
   "cell_type": "markdown",
   "metadata": {},
   "source": [
    "Spyder comprend un debbuger intégré à l'éditeur: https://docs.spyder-ide.org/current/debugging.html\n",
    "\n",
    "Tout d'abord, lorsque l'on édite un fichier `.py`, l'éditeur détectera automatique des erreurs de syntaxte par exemple et affichera un cercle rouge avec une croix dedans pour signaler l'erreur. Ce type d'erreur critique ne permettra pas au script de s'exécuter. L'éditeur peut également afficher une icône avertissement pour indiquer par exemple la non-utilisation de la librairie `math`. Il ne s'agit pas d'une erreur critique et le programme pourra s'exécuter.\n",
    "\n",
    "<img src=\"img7.png\" style=\"width:1024\"/> \n",
    "\n",
    "<img src=\"img11.png\" style=\"width:1024\"/>\n"
   ]
  },
  {
   "cell_type": "markdown",
   "metadata": {},
   "source": [
    "\n",
    "En plus de cette vérification en temps réel, Spyder propose un outil qui permet d'arrêter un programme en cours d'exécution pour examiner la valeur des différentes variables et détecter\n",
    "d'éventuelles erreurs. A cet effet, des points d'arrêt doivent être créés au préalable dans le(s)\n",
    "fichier(s) .py. Pour créer un point d'arrêt (breakpoint), il suffit de cliquer à droite du numéro de la ligne correspondante et un point\n",
    "rouge apparaît à gauche de la ligne de courante. \n",
    "\n",
    "L'exécution du programme est alors réalisée via le bouton Debug file. Le programme s'arrête au point d'arrêt indiqué par une flêche.\n",
    "Vous pouvez examiner le contenu des variables du Workspace, avancer d'une ligne, continuer l'exécution jusqu'au prochaine point arrêt\n",
    "ou arrêter le programme. Lorsqu'une ligne fait appel à une fonction, il est possible de rentrer\n",
    "à l'intérieur de cette fonction ou de sauter directement à la ligne suivante.\n",
    "\n",
    "<img src=\"img8.png\" style=\"width:1024\"/>\n",
    "\n",
    "<img src=\"img9.png\" style=\"width:1024\"/>"
   ]
  },
  {
   "cell_type": "markdown",
   "metadata": {},
   "source": [
    "Des fonctionnalités de débogage sont également accessibles lorsqu'un programme produit\n",
    "une erreur. Dans la console, le message d'erreur en rouge indique alors la ligne à laquelle l'erreur s'est produite. On peut y accéder directement en cliquant sur le numéro de la ligne.\n",
    "\n",
    "<img src=\"img10.png\" style=\"width:1024\"/>"
   ]
  },
  {
   "cell_type": "markdown",
   "metadata": {},
   "source": [
    "## Analyse des performances\n"
   ]
  },
  {
   "cell_type": "markdown",
   "metadata": {},
   "source": [
    "Des outils de performance avancés existent pour analyser l'efficacité des programmes sur Python : https://docs.python.org/3/library/profile.html\n",
    "\n",
    "Ici, nous utiliserons le module `cProfile`  qui permet de regarder combien de temps le programme exécuté passe dans chaque fonction et le nombre d'appels des fonctions:\n",
    "\n",
    "`ncalls` : le nombre d'appel à une fonction \n",
    "\n",
    "`tottime` : temps total passé dans une fonction sans compté le temps passé dans les appels aux sous-fonctions\n",
    "\n",
    "`percall` : temps passé pour les appels\n",
    "\n",
    "`cumtime` : temps cumulé passé dans la fonction et les sous-fonctions\n",
    "\n",
    "`percall` : `cumtime` divisé par les appels\n",
    "\n",
    "`filename:lineno(function)` : données des fonctions\n",
    "\n",
    "Une syntaxe possible est la suivante pour trier en fonction du temps cumul (`sort = 2`)\n",
    "\n",
    "Considérons maintent la fonction ci-dessous qui comprend deux boucles, une fonction propre `fun` et qui utilisent des fonctions de la librairie `NumPy` pour réaliser une interpolation d'une fonction définie en quelques points.\n"
   ]
  },
  {
   "cell_type": "code",
   "execution_count": null,
   "metadata": {},
   "outputs": [],
   "source": [
    "#!/usr/bin/env python3\n",
    "# -*- coding: utf-8 -*-\n",
    "\"\"\"\n",
    "Created on Wed Jan 20 13:15:05 2021\n",
    "\n",
    "@author: fred\n",
    "\"\"\"\n",
    "\n",
    "def test_profile(slow=True):\n",
    "# Import required librariesimpo\n",
    "    import numpy as np\n",
    "    from numpy.polynomial.polynomial import polyfit\n",
    "    from numpy.polynomial import Polynomial as poly\n",
    "    \n",
    "    def fun(x):\n",
    "        return x**2+np.sin(x)-1\n",
    "   \n",
    "    x = np.random.rand(100,100)\n",
    "    y = np.zeros_like(x)\n",
    "    IT1 = range(x.shape[0])\n",
    "    IT2 = range(x.shape[1])\n",
    "        \n",
    "    if slow == True:\n",
    "        for i in IT1:\n",
    "            for j in IT2:\n",
    "                coef = polyfit([0, 1, 4, 5],[-1, 2, 1, 4],3)\n",
    "                p=poly(coef)\n",
    "                y[i,j]=fun(x[i,j])/2 + p(x[i,j])\n",
    "    else:\n",
    "        coef = polyfit([0, 1, 4, 5],[-1, 2, 1, 4],3)\n",
    "        p=poly(coef)\n",
    "        for i in IT1:\n",
    "            for j in IT2:\n",
    "                y[i,j]=fun(x[i,j])/2 + p(x[i,j])\n"
   ]
  },
  {
   "cell_type": "markdown",
   "metadata": {},
   "source": [
    "Nous allons la tester avec l'aide de la fonction `run` du module `cProfile` et classer les résultats par temps cumulé afin de voir quelle partie du code prend le plus de temps à tourner."
   ]
  },
  {
   "cell_type": "code",
   "execution_count": 2,
   "metadata": {},
   "outputs": [
    {
     "name": "stdout",
     "output_type": "stream",
     "text": [
      "         1206245 function calls (1194695 primitive calls) in 1.822 seconds\n",
      "\n",
      "   Ordered by: cumulative time\n",
      "\n",
      "   ncalls  tottime  percall  cumtime  percall filename:lineno(function)\n",
      "    401/1    0.001    0.000    1.822    1.822 {built-in method builtins.exec}\n",
      "        1    0.047    0.047    1.822    1.822 test_profile.py:9(test_profile)\n",
      "    10000    0.016    0.000    1.215    0.000 polynomial.py:1207(polyfit)\n",
      "    10000    0.249    0.000    1.199    0.000 polyutils.py:641(_fit)\n",
      "40019/30006    0.027    0.000    0.704    0.000 {built-in method numpy.core._multiarray_umath.implement_array_function}\n",
      "    10001    0.007    0.000    0.546    0.000 <__array_function__ internals>:2(lstsq)\n",
      "    10001    0.378    0.000    0.528    0.000 linalg.py:2170(lstsq)\n",
      "       10    0.001    0.000    0.416    0.042 __init__.py:1(<module>)\n",
      "    103/1    0.001    0.000    0.284    0.284 <frozen importlib._bootstrap>:986(_find_and_load)\n",
      "    103/1    0.000    0.000    0.284    0.284 <frozen importlib._bootstrap>:956(_find_and_load_unlocked)\n",
      "     98/1    0.000    0.000    0.284    0.284 <frozen importlib._bootstrap>:650(_load_unlocked)\n",
      "     82/1    0.000    0.000    0.284    0.284 <frozen importlib._bootstrap_external>:777(exec_module)\n",
      "    156/1    0.000    0.000    0.283    0.283 <frozen importlib._bootstrap>:211(_call_with_frames_removed)\n",
      "    10000    0.093    0.000    0.235    0.000 polynomial.py:1051(polyvander)\n",
      "    10000    0.013    0.000    0.157    0.000 _polybase.py:263(__init__)\n",
      "    10000    0.034    0.000    0.143    0.000 polyutils.py:126(as_series)\n",
      "        1    0.140    0.140    0.140    0.140 {built-in method mkl._py_mkl_service.get_version}\n",
      "   180/17    0.000    0.000    0.133    0.008 <frozen importlib._bootstrap>:1017(_handle_fromlist)\n",
      "    316/8    0.000    0.000    0.133    0.017 {built-in method builtins.__import__}\n",
      "    10000    0.006    0.000    0.124    0.000 <__array_function__ internals>:2(moveaxis)\n",
      "    10000    0.035    0.000    0.108    0.000 numeric.py:1371(moveaxis)\n",
      "   100119    0.102    0.000    0.102    0.000 {built-in method numpy.array}\n",
      "    10000    0.017    0.000    0.082    0.000 _polybase.py:375(__call__)\n",
      "    20002    0.081    0.000    0.081    0.000 {method 'reduce' of 'numpy.ufunc' objects}\n",
      "    50009    0.013    0.000    0.068    0.000 _asarray.py:14(asarray)\n",
      "       82    0.001    0.000    0.066    0.001 <frozen importlib._bootstrap_external>:849(get_code)\n",
      "    10001    0.006    0.000    0.061    0.000 {method 'sum' of 'numpy.ndarray' objects}\n",
      "    10000    0.006    0.000    0.058    0.000 <__array_function__ internals>:2(common_type)\n",
      "    10001    0.003    0.000    0.055    0.000 _methods.py:45(_sum)\n",
      "    20000    0.035    0.000    0.055    0.000 numeric.py:1308(normalize_axis_tuple)\n",
      "       82    0.001    0.000    0.053    0.001 <frozen importlib._bootstrap_external>:969(get_data)\n",
      "    10000    0.038    0.000    0.047    0.000 polynomial.py:657(polyval)\n",
      "    10000    0.019    0.000    0.044    0.000 type_check.py:679(common_type)\n",
      "    10000    0.006    0.000    0.039    0.000 {method 'min' of 'numpy.ndarray' objects}\n",
      "    10002    0.021    0.000    0.038    0.000 linalg.py:135(_commonType)\n",
      "    10000    0.037    0.000    0.037    0.000 test_profile.py:15(fun)\n",
      "    10000    0.004    0.000    0.033    0.000 _methods.py:41(_amin)\n",
      "    30005    0.030    0.000    0.030    0.000 {method 'astype' of 'numpy.ndarray' objects}\n",
      "       82    0.027    0.000    0.027    0.000 {built-in method io.open_code}\n",
      "    20003    0.012    0.000    0.026    0.000 linalg.py:107(_makearray)\n",
      "       82    0.025    0.000    0.025    0.000 {method 'read' of '_io.BufferedReader' objects}\n",
      "      316    0.001    0.000    0.023    0.000 overrides.py:166(decorator)\n",
      "    10000    0.004    0.000    0.020    0.000 polyutils.py:198(<listcomp>)\n",
      "    10000    0.018    0.000    0.018    0.000 polyutils.py:302(mapparms)\n",
      "       98    0.000    0.000    0.018    0.000 <frozen importlib._bootstrap>:549(module_from_spec)\n",
      "    10000    0.005    0.000    0.018    0.000 <__array_function__ internals>:2(iscomplexobj)\n",
      "       16    0.000    0.000    0.016    0.001 <frozen importlib._bootstrap_external>:1099(create_module)\n",
      "       16    0.016    0.001    0.016    0.001 {built-in method _imp.create_dynamic}\n",
      "      316    0.015    0.000    0.015    0.000 {built-in method builtins.compile}\n",
      "        1    0.000    0.000    0.015    0.015 index_tricks.py:1(<module>)\n",
      "    20000    0.007    0.000    0.014    0.000 numeric.py:1358(<listcomp>)\n",
      "        1    0.000    0.000    0.013    0.013 numeric.py:1(<module>)\n",
      "    10001    0.013    0.000    0.013    0.000 {method 'squeeze' of 'numpy.ndarray' objects}\n",
      "    30004    0.008    0.000    0.011    0.000 linalg.py:125(_realType)\n",
      "101582/101546    0.011    0.000    0.011    0.000 {built-in method builtins.len}\n",
      "      102    0.001    0.000    0.011    0.000 <frozen importlib._bootstrap>:890(_find_spec)\n",
      "    10001    0.009    0.000    0.010    0.000 getlimits.py:366(__new__)\n",
      "    30005    0.007    0.000    0.010    0.000 linalg.py:112(isComplexType)\n",
      "    10000    0.006    0.000    0.010    0.000 polyutils.py:176(<listcomp>)\n",
      "      102    0.000    0.000    0.010    0.000 <frozen importlib._bootstrap_external>:1334(find_spec)\n",
      "      102    0.000    0.000    0.010    0.000 <frozen importlib._bootstrap_external>:1302(_get_spec)\n",
      "    80074    0.009    0.000    0.009    0.000 {built-in method builtins.issubclass}\n",
      "        2    0.000    0.000    0.009    0.005 shape_base.py:1(<module>)\n",
      "       82    0.000    0.000    0.009    0.000 <frozen importlib._bootstrap_external>:578(_compile_bytecode)\n",
      "    10002    0.009    0.000    0.009    0.000 {built-in method numpy.empty}\n",
      "        1    0.000    0.000    0.009    0.009 _pickle.py:1(<module>)\n",
      "       82    0.009    0.000    0.009    0.000 {built-in method marshal.loads}\n",
      "        1    0.000    0.000    0.008    0.008 _distributor_init.py:1(<module>)\n",
      "      125    0.001    0.000    0.008    0.000 <frozen importlib._bootstrap_external>:1431(find_spec)\n",
      "        1    0.000    0.000    0.008    0.008 multiarray.py:1(<module>)\n",
      "    10000    0.008    0.000    0.008    0.000 polyutils.py:184(<listcomp>)\n",
      "    10000    0.006    0.000    0.007    0.000 type_check.py:279(iscomplexobj)\n",
      "        1    0.000    0.000    0.007    0.007 __init__.py:26(<module>)\n",
      "    10001    0.007    0.000    0.007    0.000 {built-in method builtins.sorted}\n",
      "    50239    0.007    0.000    0.007    0.000 {method 'get' of 'dict' objects}\n",
      "        1    0.000    0.000    0.007    0.007 defmatrix.py:1(<module>)\n",
      "    10000    0.005    0.000    0.007    0.000 polyutils.py:762(_deprecate_as_int)\n",
      "    20000    0.007    0.000    0.007    0.000 {built-in method numpy.core._multiarray_umath.normalize_axis_index}\n",
      "      360    0.000    0.000    0.006    0.000 <frozen importlib._bootstrap_external>:80(_path_stat)\n",
      "    16/12    0.000    0.000    0.006    0.000 <frozen importlib._bootstrap_external>:1107(exec_module)\n",
      "    16/12    0.002    0.000    0.006    0.000 {built-in method _imp.exec_dynamic}\n",
      "      360    0.006    0.000    0.006    0.000 {built-in method posix.stat}\n",
      "        1    0.000    0.000    0.006    0.006 overrides.py:1(<module>)\n",
      "    10002    0.006    0.000    0.006    0.000 linalg.py:102(get_linalg_error_extobj)\n",
      "        1    0.000    0.000    0.006    0.006 fromnumeric.py:1(<module>)\n",
      "    24538    0.005    0.000    0.005    0.000 {built-in method builtins.isinstance}\n",
      "    10000    0.005    0.000    0.005    0.000 {method 'transpose' of 'numpy.ndarray' objects}\n",
      "    10001    0.005    0.000    0.005    0.000 linalg.py:188(_assert_2d)\n",
      "        1    0.000    0.000    0.005    0.005 __init__.py:260(_mac_os_check)\n",
      "        1    0.000    0.000    0.005    0.005 linalg.py:1(<module>)\n",
      "        1    0.000    0.000    0.005    0.005 <__array_function__ internals>:2(polyfit)\n",
      "        1    0.000    0.000    0.005    0.005 polynomial.py:429(polyfit)\n",
      "    10100    0.004    0.000    0.004    0.000 {built-in method builtins.min}\n",
      "    30001    0.004    0.000    0.004    0.000 {built-in method _operator.index}\n",
      "    23554    0.004    0.000    0.004    0.000 {built-in method builtins.getattr}\n",
      "    10000    0.004    0.000    0.004    0.000 {built-in method builtins.max}\n",
      "        1    0.000    0.000    0.004    0.004 scimath.py:1(<module>)\n",
      "      286    0.001    0.000    0.004    0.000 overrides.py:72(verify_matching_signatures)\n",
      "        2    0.000    0.000    0.004    0.002 function_base.py:1(<module>)\n",
      "        1    0.000    0.000    0.004    0.004 defchararray.py:1(<module>)\n",
      "        1    0.000    0.000    0.004    0.004 npyio.py:1(<module>)\n",
      "        1    0.000    0.000    0.003    0.003 numerictypes.py:1(<module>)\n",
      "    10000    0.003    0.000    0.003    0.000 numeric.py:1434(<listcomp>)\n",
      "    20001    0.003    0.000    0.003    0.000 {built-in method builtins.any}\n",
      "        2    0.000    0.000    0.003    0.002 polynomial.py:1(<module>)\n",
      "        1    0.000    0.000    0.003    0.003 _add_newdocs.py:1(<module>)\n",
      "    20003    0.003    0.000    0.003    0.000 {method '__array_prepare__' of 'numpy.ndarray' objects}\n",
      "    10000    0.003    0.000    0.003    0.000 polyutils.py:177(<listcomp>)\n",
      "      616    0.001    0.000    0.003    0.000 _inspect.py:96(getargspec)\n",
      "      274    0.000    0.000    0.003    0.000 function_base.py:451(add_newdoc)\n",
      "      142    0.000    0.000    0.002    0.000 <frozen importlib._bootstrap_external>:90(_path_is_mode_type)\n",
      "  115/114    0.002    0.000    0.002    0.000 {built-in method builtins.__build_class__}\n",
      "      131    0.000    0.000    0.002    0.000 <frozen importlib._bootstrap_external>:99(_path_isfile)\n",
      "        1    0.000    0.000    0.002    0.002 type_check.py:1(<module>)\n",
      "    10000    0.002    0.000    0.002    0.000 polyutils.py:179(<listcomp>)\n",
      "       18    0.000    0.000    0.002    0.000 re.py:289(_compile)\n",
      "       10    0.000    0.000    0.002    0.000 sre_compile.py:759(compile)\n",
      "        1    0.000    0.000    0.002    0.002 core.py:1(<module>)\n",
      "        9    0.000    0.000    0.002    0.000 re.py:250(compile)\n",
      "       98    0.000    0.000    0.002    0.000 <frozen importlib._bootstrap>:477(_init_module_attrs)\n",
      "    10001    0.002    0.000    0.002    0.000 linalg.py:2166(_lstsq_dispatcher)\n",
      "    10000    0.002    0.000    0.002    0.000 numeric.py:1367(_moveaxis_dispatcher)\n",
      "      324    0.001    0.000    0.002    0.000 functools.py:34(update_wrapper)\n",
      "      300    0.000    0.000    0.002    0.000 <frozen importlib._bootstrap>:194(_lock_unlock_module)\n",
      "        1    0.000    0.000    0.002    0.002 _pocketfft.py:1(<module>)\n",
      "    10004    0.002    0.000    0.002    0.000 {method 'insert' of 'list' objects}\n",
      "    10000    0.002    0.000    0.002    0.000 type_check.py:206(_is_type_dispatcher)\n",
      "       82    0.000    0.000    0.002    0.000 <frozen importlib._bootstrap_external>:1010(path_stats)\n",
      "      612    0.001    0.000    0.002    0.000 _inspect.py:65(getargs)\n",
      "      654    0.000    0.000    0.001    0.000 <frozen importlib._bootstrap_external>:62(_path_join)\n",
      "    10000    0.001    0.000    0.001    0.000 type_check.py:675(_common_type_dispatcher)\n",
      "        1    0.000    0.000    0.001    0.001 _type_aliases.py:1(<module>)\n",
      "       23    0.000    0.000    0.001    0.000 overrides.py:206(decorator)\n",
      "      164    0.001    0.000    0.001    0.000 <frozen importlib._bootstrap_external>:294(cache_from_source)\n",
      "    10001    0.001    0.000    0.001    0.000 linalg.py:131(_linalgRealType)\n",
      "        1    0.000    0.000    0.001    0.001 _methods.py:1(<module>)\n",
      "      180    0.000    0.000    0.001    0.000 <frozen importlib._bootstrap>:376(cached)\n",
      "        1    0.000    0.000    0.001    0.001 nanfunctions.py:1(<module>)\n",
      "       10    0.000    0.000    0.001    0.000 sre_parse.py:937(parse)\n",
      "      403    0.001    0.000    0.001    0.000 <frozen importlib._bootstrap>:157(_get_module_lock)\n",
      "    16/10    0.000    0.000    0.001    0.000 sre_parse.py:435(_parse_sub)\n",
      "       98    0.000    0.000    0.001    0.000 <frozen importlib._bootstrap_external>:424(_get_cached)\n",
      "        1    0.000    0.000    0.001    0.001 getlimits.py:94(_register_known_types)\n",
      "        1    0.000    0.000    0.001    0.001 _internal.py:1(<module>)\n",
      "    16/10    0.000    0.000    0.001    0.000 sre_parse.py:493(_parse)\n",
      "      103    0.000    0.000    0.001    0.000 <frozen importlib._bootstrap>:147(__enter__)\n",
      "       10    0.000    0.000    0.001    0.000 sre_compile.py:598(_code)\n",
      "        1    0.000    0.000    0.001    0.001 financial.py:1(<module>)\n",
      "       11    0.000    0.000    0.001    0.000 <frozen importlib._bootstrap_external>:1479(_fill_cache)\n",
      "      403    0.001    0.000    0.001    0.000 <frozen importlib._bootstrap>:78(acquire)\n",
      "      130    0.000    0.000    0.001    0.000 <frozen importlib._bootstrap_external>:1265(_path_importer_cache)\n",
      "        1    0.000    0.000    0.001    0.001 twodim_base.py:1(<module>)\n",
      "        6    0.000    0.000    0.001    0.000 getlimits.py:35(__init__)\n",
      "       11    0.001    0.000    0.001    0.000 {built-in method posix.listdir}\n",
      "    35/10    0.000    0.000    0.001    0.000 sre_compile.py:71(_compile)\n",
      "      586    0.001    0.000    0.001    0.000 {method 'format' of 'str' objects}\n",
      "      654    0.000    0.000    0.001    0.000 <frozen importlib._bootstrap_external>:64(<listcomp>)\n",
      "        1    0.000    0.000    0.001    0.001 arraysetops.py:1(<module>)\n",
      "      403    0.001    0.000    0.001    0.000 <frozen importlib._bootstrap>:103(release)\n",
      "       11    0.000    0.000    0.001    0.000 <frozen importlib._bootstrap_external>:1252(_path_hooks)\n",
      "       98    0.000    0.000    0.001    0.000 <frozen importlib._bootstrap_external>:1426(_get_spec)\n",
      "       30    0.000    0.000    0.000    0.000 getlimits.py:41(<lambda>)\n",
      "        1    0.000    0.000    0.000    0.000 arrayprint.py:1(<module>)\n",
      "        3    0.000    0.000    0.000    0.000 warnings.py:130(filterwarnings)\n",
      "       44    0.000    0.000    0.000    0.000 core.py:138(get_object_signature)\n",
      "        1    0.000    0.000    0.000    0.000 utils.py:1(<module>)\n",
      "       26    0.000    0.000    0.000    0.000 core.py:6750(__init__)\n",
      "        1    0.000    0.000    0.000    0.000 extras.py:1(<module>)\n",
      "        1    0.000    0.000    0.000    0.000 <__array_function__ internals>:2(dot)\n",
      "      274    0.000    0.000    0.000    0.000 function_base.py:437(_add_docstring)\n",
      "      945    0.000    0.000    0.000    0.000 {method 'join' of 'str' objects}\n",
      "       26    0.000    0.000    0.000    0.000 core.py:6755(getdoc)\n",
      "       82    0.000    0.000    0.000    0.000 <frozen importlib._bootstrap_external>:493(_classify_pyc)\n",
      "      572    0.000    0.000    0.000    0.000 <string>:1(__new__)\n",
      "      584    0.000    0.000    0.000    0.000 {built-in method __new__ of type object at 0x10ffce808}\n",
      "       52    0.000    0.000    0.000    0.000 core.py:895(__init__)\n",
      "      616    0.000    0.000    0.000    0.000 _inspect.py:13(ismethod)\n",
      "        1    0.000    0.000    0.000    0.000 py3k.py:1(<module>)\n",
      "       15    0.000    0.000    0.000    0.000 arrayprint.py:1473(_array_str_implementation)\n",
      "       98    0.000    0.000    0.000    0.000 <frozen importlib._bootstrap_external>:629(spec_from_file_location)\n",
      "     1217    0.000    0.000    0.000    0.000 {built-in method builtins.hasattr}\n",
      "      103    0.000    0.000    0.000    0.000 <frozen importlib._bootstrap>:151(__exit__)\n",
      "        1    0.000    0.000    0.000    0.000 ctypeslib.py:1(<module>)\n",
      "       14    0.000    0.000    0.000    0.000 sre_compile.py:276(_optimize_charset)\n",
      "       15    0.000    0.000    0.000    0.000 arrayprint.py:461(wrapper)\n",
      "        1    0.000    0.000    0.000    0.000 __init__.py:234(_sanity_check)\n",
      "        4    0.000    0.000    0.000    0.000 core.py:115(doc_note)\n",
      "     1699    0.000    0.000    0.000    0.000 {built-in method builtins.setattr}\n",
      "       10    0.000    0.000    0.000    0.000 abc.py:84(__new__)\n",
      "       15    0.000    0.000    0.000    0.000 arrayprint.py:1466(_guarded_repr_or_str)\n",
      "        4    0.000    0.000    0.000    0.000 re.py:223(split)\n",
      "        1    0.000    0.000    0.000    0.000 histograms.py:1(<module>)\n",
      "        1    0.000    0.000    0.000    0.000 ufunclike.py:1(<module>)\n",
      "       11    0.000    0.000    0.000    0.000 <frozen zipimport>:63(__init__)\n",
      "        2    0.000    0.000    0.000    0.000 __init__.py:313(namedtuple)\n",
      "      246    0.000    0.000    0.000    0.000 <frozen importlib._bootstrap_external>:51(_unpack_uint32)\n",
      "      729    0.000    0.000    0.000    0.000 <frozen importlib._bootstrap>:222(_verbose_message)\n",
      "       40    0.000    0.000    0.000    0.000 _inspect.py:140(formatargspec)\n",
      "       11    0.000    0.000    0.000    0.000 <frozen importlib._bootstrap_external>:1520(path_hook_for_FileFinder)\n",
      "        1    0.000    0.000    0.000    0.000 {method 'dot' of 'numpy.ndarray' objects}\n",
      "       19    0.000    0.000    0.000    0.000 _add_newdocs.py:6709(add_newdoc_for_scalar_type)\n",
      "      843    0.000    0.000    0.000    0.000 {method 'rpartition' of 'str' objects}\n",
      "      616    0.000    0.000    0.000    0.000 _inspect.py:26(isfunction)\n",
      "      274    0.000    0.000    0.000    0.000 function_base.py:419(_needs_add_docstring)\n",
      "      301    0.000    0.000    0.000    0.000 <frozen importlib._bootstrap>:389(parent)\n",
      "       82    0.000    0.000    0.000    0.000 <frozen importlib._bootstrap_external>:526(_validate_timestamp_pyc)\n",
      "      612    0.000    0.000    0.000    0.000 _inspect.py:41(iscode)\n",
      "        1    0.000    0.000    0.000    0.000 stride_tricks.py:1(<module>)\n",
      "      102    0.000    0.000    0.000    0.000 <frozen importlib._bootstrap>:58(__init__)\n",
      "      324    0.000    0.000    0.000    0.000 functools.py:64(wraps)\n",
      "      164    0.000    0.000    0.000    0.000 <frozen importlib._bootstrap_external>:68(_path_split)\n",
      "        1    0.000    0.000    0.000    0.000 records.py:1(<module>)\n",
      "        1    0.000    0.000    0.000    0.000 einsumfunc.py:1(<module>)\n",
      "      102    0.000    0.000    0.000    0.000 <frozen importlib._bootstrap>:176(cb)\n",
      "        1    0.000    0.000    0.000    0.000 helper.py:1(<module>)\n",
      "     1474    0.000    0.000    0.000    0.000 {method 'rstrip' of 'str' objects}\n",
      "        1    0.000    0.000    0.000    0.000 ctypeslib.py:357(_get_scalar_type_map)\n",
      "        1    0.000    0.000    0.000    0.000 ctypeslib.py:368(<dictcomp>)\n",
      "       50    0.000    0.000    0.000    0.000 _internal.py:781(_ufunc_doc_signature_formatter)\n",
      "        1    0.000    0.000    0.000    0.000 <__array_function__ internals>:2(inv)\n",
      "       26    0.000    0.000    0.000    0.000 core.py:922(__init__)\n",
      "        1    0.000    0.000    0.000    0.000 linalg.py:477(inv)\n",
      "       10    0.000    0.000    0.000    0.000 sre_compile.py:536(_compile_info)\n",
      "        1    0.000    0.000    0.000    0.000 getlimits.py:1(<module>)\n",
      "        1    0.000    0.000    0.000    0.000 _exceptions.py:1(<module>)\n",
      "       18    0.000    0.000    0.000    0.000 core.py:998(__init__)\n",
      "        1    0.000    0.000    0.000    0.000 <__array_function__ internals>:2(linspace)\n",
      "        1    0.000    0.000    0.000    0.000 function_base.py:23(linspace)\n",
      "      310    0.000    0.000    0.000    0.000 <frozen importlib._bootstrap>:867(__exit__)\n",
      "      299    0.000    0.000    0.000    0.000 {method 'strip' of 'str' objects}\n",
      "      201    0.000    0.000    0.000    0.000 sre_parse.py:254(get)\n",
      "        1    0.000    0.000    0.000    0.000 legendre.py:1(<module>)\n",
      "      310    0.000    0.000    0.000    0.000 <frozen importlib._bootstrap>:863(__enter__)\n",
      "      815    0.000    0.000    0.000    0.000 {built-in method _imp.acquire_lock}\n",
      "       10    0.000    0.000    0.000    0.000 extras.py:235(__init__)\n",
      "      345    0.000    0.000    0.000    0.000 {method 'update' of 'dict' objects}\n",
      "        1    0.000    0.000    0.000    0.000 _iotools.py:1(<module>)\n",
      "        1    0.000    0.000    0.000    0.000 polyutils.py:1(<module>)\n",
      "        1    0.000    0.000    0.000    0.000 _type_aliases.py:114(_add_aliases)\n",
      "      815    0.000    0.000    0.000    0.000 {built-in method _imp.release_lock}\n",
      "      277    0.000    0.000    0.000    0.000 sre_parse.py:164(__getitem__)\n",
      "       30    0.000    0.000    0.000    0.000 getlimits.py:40(<lambda>)\n",
      "       10    0.000    0.000    0.000    0.000 extras.py:239(getdoc)\n",
      "        6    0.000    0.000    0.000    0.000 numeric.py:2446(extend_all)\n",
      "      821    0.000    0.000    0.000    0.000 {built-in method _thread.get_ident}\n",
      "        4    0.000    0.000    0.000    0.000 {built-in method posix.getcwd}\n",
      "        1    0.000    0.000    0.000    0.000 arraypad.py:1(<module>)\n",
      "     1171    0.000    0.000    0.000    0.000 {method 'append' of 'list' objects}\n",
      "       11    0.000    0.000    0.000    0.000 <frozen importlib._bootstrap_external>:104(_path_isdir)\n",
      "        1    0.000    0.000    0.000    0.000 contextlib.py:72(inner)\n",
      "        1    0.000    0.000    0.000    0.000 hermite_e.py:1(<module>)\n",
      "       82    0.000    0.000    0.000    0.000 {built-in method _imp._fix_co_filename}\n",
      "      316    0.000    0.000    0.000    0.000 overrides.py:124(array_function_dispatch)\n",
      "      267    0.000    0.000    0.000    0.000 sre_parse.py:233(__next)\n",
      "        1    0.000    0.000    0.000    0.000 _string_helpers.py:1(<module>)\n",
      "    40/15    0.000    0.000    0.000    0.000 sre_parse.py:174(getwidth)\n",
      "        1    0.000    0.000    0.000    0.000 core.py:6439(__new__)\n",
      "       11    0.000    0.000    0.000    0.000 <frozen importlib._bootstrap_external>:1394(__init__)\n",
      "        1    0.000    0.000    0.000    0.000 {method 'rand' of 'numpy.random.mtrand.RandomState' objects}\n",
      "        1    0.000    0.000    0.000    0.000 chebyshev.py:1(<module>)\n",
      "        1    0.000    0.000    0.000    0.000 <__array_function__ internals>:2(polyval)\n",
      "       82    0.000    0.000    0.000    0.000 <frozen importlib._bootstrap_external>:456(_check_name_wrapper)\n",
      "        1    0.000    0.000    0.000    0.000 hermite.py:1(<module>)\n",
      "        5    0.000    0.000    0.000    0.000 textwrap.py:414(dedent)\n",
      "        1    0.000    0.000    0.000    0.000 mixins.py:1(<module>)\n",
      "        1    0.000    0.000    0.000    0.000 {function SeedSequence.generate_state at 0x7fcfd04b9790}\n",
      "        1    0.000    0.000    0.000    0.000 laguerre.py:1(<module>)\n",
      "        1    0.000    0.000    0.000    0.000 _polybase.py:1(<module>)\n",
      "        1    0.000    0.000    0.000    0.000 _string_helpers.py:9(<listcomp>)\n",
      "      102    0.000    0.000    0.000    0.000 <frozen importlib._bootstrap>:800(find_spec)\n",
      "        8    0.000    0.000    0.000    0.000 core.py:8094(__init__)\n",
      "       36    0.000    0.000    0.000    0.000 getlimits.py:39(<lambda>)\n",
      "        1    0.000    0.000    0.000    0.000 _ufunc_config.py:1(<module>)\n",
      "      204    0.000    0.000    0.000    0.000 {built-in method _thread.allocate_lock}\n",
      "      299    0.000    0.000    0.000    0.000 {built-in method numpy.core._multiarray_umath.add_docstring}\n",
      "      102    0.000    0.000    0.000    0.000 <frozen importlib._bootstrap>:342(__init__)\n",
      "       10    0.000    0.000    0.000    0.000 {built-in method _abc._abc_init}\n",
      "       82    0.000    0.000    0.000    0.000 <frozen importlib._bootstrap>:35(_new_module)\n",
      "       16    0.000    0.000    0.000    0.000 _type_aliases.py:78(bitname)\n",
      "        1    0.000    0.000    0.000    0.000 <__array_function__ internals>:2(any)\n",
      "       11    0.000    0.000    0.000    0.000 <frozen importlib._bootstrap_external>:1508(<setcomp>)\n",
      "        8    0.000    0.000    0.000    0.000 core.py:8099(getdoc)\n",
      "      115    0.000    0.000    0.000    0.000 {method 'endswith' of 'str' objects}\n",
      "        1    0.000    0.000    0.000    0.000 _globals.py:1(<module>)\n",
      "        4    0.000    0.000    0.000    0.000 {method 'split' of 're.Pattern' objects}\n",
      "        1    0.000    0.000    0.000    0.000 fromnumeric.py:2249(any)\n",
      "        1    0.000    0.000    0.000    0.000 mixins.py:59(NDArrayOperatorsMixin)\n",
      "        1    0.000    0.000    0.000    0.000 fromnumeric.py:70(_wrapreduction)\n",
      "      125    0.000    0.000    0.000    0.000 <frozen importlib._bootstrap_external>:36(_relax_case)\n",
      "       52    0.000    0.000    0.000    0.000 {method 'extend' of 'list' objects}\n",
      "       10    0.000    0.000    0.000    0.000 enum.py:833(__and__)\n",
      "        1    0.000    0.000    0.000    0.000 utils.py:147(deprecate)\n",
      "        1    0.000    0.000    0.000    0.000 core.py:2708(MaskedArray)\n",
      "      4/3    0.000    0.000    0.000    0.000 {method 'view' of 'numpy.ndarray' objects}\n",
      "        1    0.000    0.000    0.000    0.000 _datasource.py:1(<module>)\n",
      "        1    0.000    0.000    0.000    0.000 legendre.py:1608(Legendre)\n",
      "        1    0.000    0.000    0.000    0.000 {method 'any' of 'numpy.generic' objects}\n",
      "        2    0.000    0.000    0.000    0.000 <__array_function__ internals>:2(zeros_like)\n",
      "        1    0.000    0.000    0.000    0.000 umath.py:1(<module>)\n",
      "        1    0.000    0.000    0.000    0.000 utils.py:74(__call__)\n",
      "      247    0.000    0.000    0.000    0.000 {built-in method from_bytes}\n",
      "        2    0.000    0.000    0.000    0.000 core.py:2975(__array_finalize__)\n",
      "        1    0.000    0.000    0.000    0.000 memmap.py:1(<module>)\n",
      "        6    0.000    0.000    0.000    0.000 core.py:1147(__init__)\n",
      "        2    0.000    0.000    0.000    0.000 numeric.py:75(zeros_like)\n",
      "        7    0.000    0.000    0.000    0.000 abc.py:89(register)\n",
      "       13    0.000    0.000    0.000    0.000 _dtype_ctypes.py:100(dtype_from_ctypes_type)\n",
      "      103    0.000    0.000    0.000    0.000 <frozen importlib._bootstrap>:143(__init__)\n",
      "        1    0.000    0.000    0.000    0.000 core.py:2819(__new__)\n",
      "      120    0.000    0.000    0.000    0.000 sre_parse.py:172(append)\n",
      "       82    0.000    0.000    0.000    0.000 <frozen importlib._bootstrap_external>:939(__init__)\n",
      "        8    0.000    0.000    0.000    0.000 _ufunc_config.py:32(seterr)\n",
      "       30    0.000    0.000    0.000    0.000 getlimits.py:25(_fr1)\n",
      "      256    0.000    0.000    0.000    0.000 {built-in method builtins.chr}\n",
      "        7    0.000    0.000    0.000    0.000 {built-in method _abc._abc_register}\n",
      "     18/8    0.000    0.000    0.000    0.000 abc.py:100(__subclasscheck__)\n",
      "        3    0.000    0.000    0.000    0.000 <__array_function__ internals>:2(copyto)\n",
      "       59    0.000    0.000    0.000    0.000 _inspect.py:144(<lambda>)\n",
      "        1    0.000    0.000    0.000    0.000 getlimits.py:399(_init)\n",
      "       84    0.000    0.000    0.000    0.000 overrides.py:105(decorator)\n",
      "      264    0.000    0.000    0.000    0.000 {built-in method posix.fspath}\n",
      "       16    0.000    0.000    0.000    0.000 _type_aliases.py:65(_bits_of)\n",
      "     18/8    0.000    0.000    0.000    0.000 {built-in method _abc._abc_subclasscheck}\n",
      "       13    0.000    0.000    0.000    0.000 mixins.py:44(_numeric_methods)\n",
      "        1    0.000    0.000    0.000    0.000 numerictypes.py:560(_register_types)\n",
      "        5    0.000    0.000    0.000    0.000 sre_parse.py:96(closegroup)\n",
      "        4    0.000    0.000    0.000    0.000 _ufunc_config.py:433(__enter__)\n"
     ]
    },
    {
     "name": "stdout",
     "output_type": "stream",
     "text": [
      "        1    0.000    0.000    0.000    0.000 _methods.py:53(_any)\n",
      "       78    0.000    0.000    0.000    0.000 _internal.py:792(<genexpr>)\n",
      "        1    0.000    0.000    0.000    0.000 core.py:3124(view)\n",
      "      102    0.000    0.000    0.000    0.000 {built-in method _imp.is_frozen}\n",
      "       10    0.000    0.000    0.000    0.000 {method 'sub' of 're.Pattern' objects}\n",
      "       20    0.000    0.000    0.000    0.000 sre_compile.py:423(_simple)\n",
      "       97    0.000    0.000    0.000    0.000 sre_parse.py:249(match)\n",
      "       90    0.000    0.000    0.000    0.000 _inspect.py:131(strseq)\n",
      "        1    0.000    0.000    0.000    0.000 <__array_function__ internals>:2(vander)\n",
      "        4    0.000    0.000    0.000    0.000 sre_compile.py:411(_mk_bitmap)\n",
      "       60    0.000    0.000    0.000    0.000 {method 'copy' of 'numpy.ndarray' objects}\n",
      "        1    0.000    0.000    0.000    0.000 _type_aliases.py:239(_set_array_types)\n",
      "        1    0.000    0.000    0.000    0.000 polynomial.py:665(polyval)\n",
      "       20    0.000    0.000    0.000    0.000 enum.py:283(__call__)\n",
      "       30    0.000    0.000    0.000    0.000 getlimits.py:17(_fr0)\n",
      "       36    0.000    0.000    0.000    0.000 _add_newdocs.py:6715(<genexpr>)\n",
      "        1    0.000    0.000    0.000    0.000 utils.py:133(_get_indent)\n",
      "      344    0.000    0.000    0.000    0.000 {built-in method builtins.globals}\n",
      "        1    0.000    0.000    0.000    0.000 core.py:6457(__array_finalize__)\n",
      "       76    0.000    0.000    0.000    0.000 sre_parse.py:160(__len__)\n",
      "        1    0.000    0.000    0.000    0.000 numeric.py:144(ones)\n",
      "       55    0.000    0.000    0.000    0.000 sre_parse.py:286(tell)\n",
      "       10    0.000    0.000    0.000    0.000 sre_parse.py:224(__init__)\n",
      "       98    0.000    0.000    0.000    0.000 {method 'pop' of 'dict' objects}\n",
      "        5    0.000    0.000    0.000    0.000 re.py:203(sub)\n",
      "      102    0.000    0.000    0.000    0.000 <frozen importlib._bootstrap>:725(find_spec)\n",
      "        1    0.000    0.000    0.000    0.000 twodim_base.py:473(vander)\n",
      "        1    0.000    0.000    0.000    0.000 _polybase.py:17(ABCPolyBase)\n",
      "        1    0.000    0.000    0.000    0.000 linalg.py:73(_determine_error_states)\n",
      "       14    0.000    0.000    0.000    0.000 sre_compile.py:249(_compile_charset)\n",
      "        1    0.000    0.000    0.000    0.000 format.py:1(<module>)\n",
      "       61    0.000    0.000    0.000    0.000 {built-in method builtins.repr}\n",
      "     10/9    0.000    0.000    0.000    0.000 sre_compile.py:461(_get_literal_prefix)\n",
      "      170    0.000    0.000    0.000    0.000 {method 'lower' of 'str' objects}\n",
      "        1    0.000    0.000    0.000    0.000 arrayterator.py:1(<module>)\n",
      "        1    0.000    0.000    0.000    0.000 _type_aliases.py:153(_add_integer_aliases)\n",
      "        1    0.000    0.000    0.000    0.000 machar.py:1(<module>)\n",
      "        2    0.000    0.000    0.000    0.000 core.py:6633(__init__)\n",
      "        1    0.000    0.000    0.000    0.000 polynomial.py:1456(Polynomial)\n",
      "       36    0.000    0.000    0.000    0.000 _string_helpers.py:16(english_lower)\n",
      "        1    0.000    0.000    0.000    0.000 __config__.py:3(<module>)\n",
      "       13    0.000    0.000    0.000    0.000 sre_parse.py:432(_uniq)\n",
      "       84    0.000    0.000    0.000    0.000 overrides.py:94(set_module)\n",
      "        1    0.000    0.000    0.000    0.000 numerictypes.py:412(_construct_lookups)\n",
      "        7    0.000    0.000    0.000    0.000 getlimits.py:498(__init__)\n",
      "        7    0.000    0.000    0.000    0.000 {method 'remove' of 'list' objects}\n",
      "        4    0.000    0.000    0.000    0.000 _ufunc_config.py:438(__exit__)\n",
      "        2    0.000    0.000    0.000    0.000 os.py:684(__delitem__)\n",
      "        1    0.000    0.000    0.000    0.000 secrets.py:1(<module>)\n",
      "        4    0.000    0.000    0.000    0.000 os.py:670(__getitem__)\n",
      "       51    0.000    0.000    0.000    0.000 {method 'startswith' of 'str' objects}\n",
      "        1    0.000    0.000    0.000    0.000 _add_newdocs.py:6673(numeric_type_aliases)\n",
      "       30    0.000    0.000    0.000    0.000 _type_aliases.py:231(_add_array_type)\n",
      "       20    0.000    0.000    0.000    0.000 mixins.py:16(_binary_method)\n",
      "        1    0.000    0.000    0.000    0.000 _iotools.py:450(StringConverter)\n",
      "        3    0.000    0.000    0.000    0.000 ufunclike.py:58(_fix_and_maybe_deprecate_out_named_y)\n",
      "        1    0.000    0.000    0.000    0.000 <__array_function__ internals>:2(outer)\n",
      "        5    0.000    0.000    0.000    0.000 sre_parse.py:84(opengroup)\n",
      "        4    0.000    0.000    0.000    0.000 sre_compile.py:413(<listcomp>)\n",
      "        4    0.000    0.000    0.000    0.000 warnings.py:181(_add_filter)\n",
      "       16    0.000    0.000    0.000    0.000 {built-in method builtins.next}\n",
      "       98    0.000    0.000    0.000    0.000 <frozen importlib._bootstrap>:397(has_location)\n",
      "        1    0.000    0.000    0.000    0.000 random.py:721(getrandbits)\n",
      "        4    0.000    0.000    0.000    0.000 sre_parse.py:267(getuntil)\n",
      "       36    0.000    0.000    0.000    0.000 sre_parse.py:111(__init__)\n",
      "        1    0.000    0.000    0.000    0.000 _pytesttester.py:1(<module>)\n",
      "        1    0.000    0.000    0.000    0.000 _version.py:1(<module>)\n",
      "       11    0.000    0.000    0.000    0.000 sre_parse.py:355(_escape)\n",
      "       82    0.000    0.000    0.000    0.000 <frozen importlib._bootstrap_external>:964(get_filename)\n",
      "        3    0.000    0.000    0.000    0.000 ufunclike.py:41(_fix_out_named_y)\n",
      "        8    0.000    0.000    0.000    0.000 _ufunc_config.py:132(geterr)\n",
      "        6    0.000    0.000    0.000    0.000 _exceptions.py:17(_display_as_base)\n",
      "       13    0.000    0.000    0.000    0.000 _dtype_ctypes.py:71(_from_ctypes_scalar)\n",
      "       32    0.000    0.000    0.000    0.000 _type_aliases.py:67(<genexpr>)\n",
      "       52    0.000    0.000    0.000    0.000 {method 'translate' of 'str' objects}\n",
      "       88    0.000    0.000    0.000    0.000 <frozen importlib._bootstrap_external>:1400(<genexpr>)\n",
      "        1    0.000    0.000    0.000    0.000 _type_aliases.py:94(_add_types)\n",
      "        2    0.000    0.000    0.000    0.000 core.py:2949(_update_from)\n",
      "       16    0.000    0.000    0.000    0.000 _string_helpers.py:72(english_capitalize)\n",
      "        1    0.000    0.000    0.000    0.000 _dtype.py:1(<module>)\n",
      "        5    0.000    0.000    0.000    0.000 {method 'findall' of 're.Pattern' objects}\n",
      "        1    0.000    0.000    0.000    0.000 _asarray.py:1(<module>)\n",
      "       18    0.000    0.000    0.000    0.000 _add_newdocs.py:6674(type_aliases_gen)\n",
      "        2    0.000    0.000    0.000    0.000 _collections_abc.py:657(get)\n",
      "       10    0.000    0.000    0.000    0.000 os.py:748(encode)\n",
      "        1    0.000    0.000    0.000    0.000 contextlib.py:71(__call__)\n",
      "        7    0.000    0.000    0.000    0.000 core.py:2555(_arraymethod)\n",
      "       46    0.000    0.000    0.000    0.000 {method 'find' of 'bytearray' objects}\n",
      "        1    0.000    0.000    0.000    0.000 defchararray.py:1805(chararray)\n",
      "       30    0.000    0.000    0.000    0.000 sre_parse.py:81(groups)\n",
      "        1    0.000    0.000    0.000    0.000 <__array_function__ internals>:2(concatenate)\n",
      "        1    0.000    0.000    0.000    0.000 numeric.py:824(outer)\n",
      "        1    0.000    0.000    0.000    0.000 {built-in method posix.urandom}\n",
      "      131    0.000    0.000    0.000    0.000 {built-in method builtins.ord}\n",
      "        2    0.000    0.000    0.000    0.000 arrayprint.py:458(decorating_function)\n",
      "        2    0.000    0.000    0.000    0.000 _collections_abc.py:664(__contains__)\n",
      "       20    0.000    0.000    0.000    0.000 enum.py:562(__new__)\n",
      "       82    0.000    0.000    0.000    0.000 <frozen importlib._bootstrap_external>:774(create_module)\n",
      "        9    0.000    0.000    0.000    0.000 {built-in method numpy.seterrobj}\n",
      "        2    0.000    0.000    0.000    0.000 {built-in method posix.unsetenv}\n",
      "        2    0.000    0.000    0.000    0.000 os.py:678(__setitem__)\n",
      "       20    0.000    0.000    0.000    0.000 sre_compile.py:595(isstring)\n",
      "        1    0.000    0.000    0.000    0.000 getlimits.py:237(_get_machar)\n",
      "       16    0.000    0.000    0.000    0.000 <frozen importlib._bootstrap_external>:1088(__init__)\n",
      "        1    0.000    0.000    0.000    0.000 ufunclike.py:16(_deprecate_out_named_y)\n",
      "       10    0.000    0.000    0.000    0.000 sre_parse.py:921(fix_flags)\n",
      "       10    0.000    0.000    0.000    0.000 {built-in method _sre.compile}\n",
      "       13    0.000    0.000    0.000    0.000 mixins.py:36(_inplace_binary_method)\n",
      "        1    0.000    0.000    0.000    0.000 _dtype_ctypes.py:1(<module>)\n",
      "        1    0.000    0.000    0.000    0.000 polynomial.py:1007(poly1d)\n",
      "       14    0.000    0.000    0.000    0.000 mixins.py:26(_reflected_binary_method)\n",
      "        2    0.000    0.000    0.000    0.000 arrayprint.py:1546(set_string_function)\n",
      "        1    0.000    0.000    0.000    0.000 _type_aliases.py:186(_set_up_aliases)\n",
      "        1    0.000    0.000    0.000    0.000 warnings.py:165(simplefilter)\n",
      "        7    0.000    0.000    0.000    0.000 sre_compile.py:492(_get_charset_prefix)\n",
      "        1    0.000    0.000    0.000    0.000 _internal.py:239(_missing_ctypes)\n",
      "        1    0.000    0.000    0.000    0.000 _ufunc_config.py:444(_setdef)\n",
      "        1    0.000    0.000    0.000    0.000 <__array_function__ internals>:2(result_type)\n",
      "       81    0.000    0.000    0.000    0.000 {built-in method _sre.unicode_iscased}\n",
      "        1    0.000    0.000    0.000    0.000 hermite_e.py:1635(HermiteE)\n",
      "        1    0.000    0.000    0.000    0.000 chebyshev.py:1982(Chebyshev)\n",
      "        1    0.000    0.000    0.000    0.000 posixpath.py:150(dirname)\n",
      "       13    0.000    0.000    0.000    0.000 {built-in method fromkeys}\n",
      "        1    0.000    0.000    0.000    0.000 contextlib.py:211(contextmanager)\n",
      "        1    0.000    0.000    0.000    0.000 {method 'accumulate' of 'numpy.ufunc' objects}\n",
      "        1    0.000    0.000    0.000    0.000 abc.py:96(__instancecheck__)\n",
      "        4    0.000    0.000    0.000    0.000 <frozen importlib._bootstrap>:881(_find_spec_legacy)\n",
      "       27    0.000    0.000    0.000    0.000 _add_newdocs.py:6714(<genexpr>)\n",
      "       13    0.000    0.000    0.000    0.000 _internal.py:827(npy_ctypes_check)\n",
      "       16    0.000    0.000    0.000    0.000 _string_helpers.py:44(english_upper)\n",
      "        1    0.000    0.000    0.000    0.000 sre_compile.py:416(_bytes_to_codes)\n",
      "        1    0.000    0.000    0.000    0.000 textwrap.py:465(indent)\n",
      "       17    0.000    0.000    0.000    0.000 sre_compile.py:453(_get_iscased)\n",
      "       10    0.000    0.000    0.000    0.000 sre_parse.py:76(__init__)\n",
      "        1    0.000    0.000    0.000    0.000 _internal.py:248(_ctypes)\n",
      "        2    0.000    0.000    0.000    0.000 <__array_function__ internals>:2(empty_like)\n",
      "        1    0.000    0.000    0.000    0.000 defmatrix.py:72(matrix)\n",
      "        1    0.000    0.000    0.000    0.000 <__array_function__ internals>:2(<module>)\n",
      "        1    0.000    0.000    0.000    0.000 laguerre.py:1592(Laguerre)\n",
      "        2    0.000    0.000    0.000    0.000 {built-in method numpy.core._multiarray_umath.set_string_function}\n",
      "        1    0.000    0.000    0.000    0.000 hermite.py:1641(Hermite)\n",
      "        1    0.000    0.000    0.000    0.000 __init__.py:32(__enter__)\n",
      "        1    0.000    0.000    0.000    0.000 _type_aliases.py:62(<setcomp>)\n",
      "        1    0.000    0.000    0.000    0.000 {built-in method _abc._abc_instancecheck}\n",
      "       68    0.000    0.000    0.000    0.000 {built-in method _sre.unicode_tolower}\n",
      "       23    0.000    0.000    0.000    0.000 overrides.py:202(array_function_from_dispatcher)\n",
      "        1    0.000    0.000    0.000    0.000 {method 'view' of 'numpy.generic' objects}\n",
      "        1    0.000    0.000    0.000    0.000 copyreg.py:12(pickle)\n",
      "        1    0.000    0.000    0.000    0.000 core.py:6429(MaskedConstant)\n",
      "       15    0.000    0.000    0.000    0.000 _inspect.py:142(<lambda>)\n",
      "        1    0.000    0.000    0.000    0.000 {built-in method numpy.arange}\n",
      "        1    0.000    0.000    0.000    0.000 warnings.py:458(__enter__)\n",
      "        1    0.000    0.000    0.000    0.000 posixpath.py:71(join)\n",
      "       18    0.000    0.000    0.000    0.000 {built-in method numpy.geterrobj}\n",
      "        1    0.000    0.000    0.000    0.000 <__array_function__ internals>:2(ndim)\n",
      "        4    0.000    0.000    0.000    0.000 types.py:171(__get__)\n",
      "        1    0.000    0.000    0.000    0.000 _inspect.py:1(<module>)\n",
      "        1    0.000    0.000    0.000    0.000 _globals.py:65(__new__)\n",
      "        2    0.000    0.000    0.000    0.000 {built-in method posix.putenv}\n",
      "       30    0.000    0.000    0.000    0.000 {method 'add' of 'set' objects}\n",
      "       20    0.000    0.000    0.000    0.000 sre_parse.py:168(__setitem__)\n",
      "        3    0.000    0.000    0.000    0.000 _asarray.py:86(asanyarray)\n",
      "        1    0.000    0.000    0.000    0.000 {method 'newbyteorder' of 'numpy.generic' objects}\n",
      "       18    0.000    0.000    0.000    0.000 abc.py:7(abstractmethod)\n",
      "        9    0.000    0.000    0.000    0.000 _pytesttester.py:75(__init__)\n",
      "        4    0.000    0.000    0.000    0.000 getlimits.py:522(max)\n",
      "        5    0.000    0.000    0.000    0.000 {built-in method _imp.is_builtin}\n",
      "        2    0.000    0.000    0.000    0.000 textwrap.py:477(prefixed_lines)\n",
      "        3    0.000    0.000    0.000    0.000 index_tricks.py:310(__init__)\n",
      "        1    0.000    0.000    0.000    0.000 extras.py:1520(__init__)\n",
      "       12    0.000    0.000    0.000    0.000 {built-in method sys.intern}\n",
      "        2    0.000    0.000    0.000    0.000 core.py:6532(__setattr__)\n",
      "        1    0.000    0.000    0.000    0.000 _iotools.py:229(NameValidator)\n",
      "        2    0.000    0.000    0.000    0.000 sre_compile.py:432(_generate_overlap_table)\n",
      "        1    0.000    0.000    0.000    0.000 _datasource.py:198(DataSource)\n",
      "        1    0.000    0.000    0.000    0.000 memmap.py:22(memmap)\n",
      "        1    0.000    0.000    0.000    0.000 _collections_abc.py:349(__subclasshook__)\n",
      "        8    0.000    0.000    0.000    0.000 getlimits.py:90(_register_type)\n",
      "       16    0.000    0.000    0.000    0.000 _inspect.py:143(<lambda>)\n",
      "        4    0.000    0.000    0.000    0.000 _ufunc_config.py:429(__init__)\n",
      "       18    0.000    0.000    0.000    0.000 {method 'items' of 'dict' objects}\n",
      "        2    0.000    0.000    0.000    0.000 {built-in method numpy.zeros}\n",
      "       27    0.000    0.000    0.000    0.000 {method 'lstrip' of 'str' objects}\n",
      "        1    0.000    0.000    0.000    0.000 {built-in method numpy.core._multiarray_umath.set_typeDict}\n",
      "       12    0.000    0.000    0.000    0.000 __init__.py:385(<genexpr>)\n",
      "       16    0.000    0.000    0.000    0.000 _dtype.py:24(_kind_name)\n",
      "        3    0.000    0.000    0.000    0.000 core.py:1363(getmask)\n",
      "        1    0.000    0.000    0.000    0.000 records.py:233(record)\n",
      "       16    0.000    0.000    0.000    0.000 {method 'isidentifier' of 'str' objects}\n",
      "        2    0.000    0.000    0.000    0.000 {method 'split' of 'str' objects}\n",
      "       10    0.000    0.000    0.000    0.000 {method 'encode' of 'str' objects}\n",
      "        1    0.000    0.000    0.000    0.000 core.py:2383(_MaskedPrintOption)\n",
      "        1    0.000    0.000    0.000    0.000 _internal.py:216(_getintp_ctype)\n",
      "        3    0.000    0.000    0.000    0.000 {method 'replace' of 'str' objects}\n",
      "        1    0.000    0.000    0.000    0.000 {method 'reshape' of 'numpy.ndarray' objects}\n",
      "        4    0.000    0.000    0.000    0.000 six.py:184(find_module)\n",
      "        6    0.000    0.000    0.000    0.000 sre_compile.py:65(_combine_flags)\n",
      "        1    0.000    0.000    0.000    0.000 core.py:1330(make_mask_descr)\n",
      "        1    0.000    0.000    0.000    0.000 records.py:318(recarray)\n",
      "        1    0.000    0.000    0.000    0.000 _iotools.py:133(LineSplitter)\n",
      "        1    0.000    0.000    0.000    0.000 core.py:198(<listcomp>)\n",
      "        1    0.000    0.000    0.000    0.000 _internal.py:524(_Stream)\n",
      "        1    0.000    0.000    0.000    0.000 records.py:97(format_parser)\n",
      "        1    0.000    0.000    0.000    0.000 fromnumeric.py:3075(ndim)\n",
      "        8    0.000    0.000    0.000    0.000 {method 'setter' of 'property' objects}\n",
      "        1    0.000    0.000    0.000    0.000 index_tricks.py:300(AxisConcatenator)\n",
      "        1    0.000    0.000    0.000    0.000 warnings.py:477(__exit__)\n",
      "        1    0.000    0.000    0.000    0.000 core.py:6234(mvoid)\n",
      "       15    0.000    0.000    0.000    0.000 {method 'discard' of 'set' objects}\n",
      "       15    0.000    0.000    0.000    0.000 {built-in method builtins.id}\n",
      "        1    0.000    0.000    0.000    0.000 platform.py:1077(python_implementation)\n",
      "        1    0.000    0.000    0.000    0.000 extras.py:1472(MAxisConcatenator)\n",
      "        1    0.000    0.000    0.000    0.000 arrayterator.py:16(Arrayterator)\n",
      "        1    0.000    0.000    0.000    0.000 index_tricks.py:250(__init__)\n",
      "        1    0.000    0.000    0.000    0.000 _collections_abc.py:72(_check_methods)\n",
      "        1    0.000    0.000    0.000    0.000 numerictypes.py:232(obj2sctype)\n",
      "        1    0.000    0.000    0.000    0.000 {method 'find' of 'str' objects}\n",
      "        1    0.000    0.000    0.000    0.000 random.py:94(__init__)\n",
      "        4    0.000    0.000    0.000    0.000 mixins.py:51(_unary_method)\n",
      "        1    0.000    0.000    0.000    0.000 core.py:1316(_replace_dtype_fields)\n",
      "        1    0.000    0.000    0.000    0.000 index_tricks.py:517(__init__)\n",
      "        1    0.000    0.000    0.000    0.000 _exceptions.py:74(_UFuncCastingError)\n",
      "       12    0.000    0.000    0.000    0.000 {method '__contains__' of 'frozenset' objects}\n",
      "        4    0.000    0.000    0.000    0.000 core.py:3406(dtype)\n",
      "        1    0.000    0.000    0.000    0.000 warnings.py:437(__init__)\n",
      "        4    0.000    0.000    0.000    0.000 {method 'translate' of 'bytearray' objects}\n",
      "        1    0.000    0.000    0.000    0.000 _exceptions.py:143(_ArrayMemoryError)\n",
      "        1    0.000    0.000    0.000    0.000 getlimits.py:445(iinfo)\n",
      "        1    0.000    0.000    0.000    0.000 numeric.py:1816(isscalar)\n",
      "       16    0.000    0.000    0.000    0.000 {method 'values' of 'dict' objects}\n",
      "        1    0.000    0.000    0.000    0.000 _version.py:14(NumpyVersion)\n",
      "        2    0.000    0.000    0.000    0.000 posixpath.py:41(_get_sep)\n",
      "        9    0.000    0.000    0.000    0.000 _globals.py:75(__repr__)\n",
      "        1    0.000    0.000    0.000    0.000 npyio.py:115(NpzFile)\n",
      "        1    0.000    0.000    0.000    0.000 _datasource.py:538(Repository)\n",
      "        1    0.000    0.000    0.000    0.000 __init__.py:43(__exit__)\n",
      "        1    0.000    0.000    0.000    0.000 index_tricks.py:547(__init__)\n",
      "        1    0.000    0.000    0.000    0.000 platform.py:973(_sys_version)\n",
      "        6    0.000    0.000    0.000    0.000 core.py:847(__init__)\n",
      "        3    0.000    0.000    0.000    0.000 core.py:807(__init__)\n",
      "        1    0.000    0.000    0.000    0.000 core.py:6624(_extrema_operation)\n",
      "        1    0.000    0.000    0.000    0.000 index_tricks.py:294(__init__)\n",
      "        1    0.000    0.000    0.000    0.000 core.py:197(<listcomp>)\n",
      "        1    0.000    0.000    0.000    0.000 _datasource.py:101(__init__)\n",
      "        1    0.000    0.000    0.000    0.000 extras.py:215(_fromnxfunction)\n",
      "        6    0.000    0.000    0.000    0.000 _type_aliases.py:112(<genexpr>)\n",
      "        6    0.000    0.000    0.000    0.000 {built-in method _warnings._filters_mutated}\n",
      "        1    0.000    0.000    0.000    0.000 version.py:5(<module>)\n",
      "        4    0.000    0.000    0.000    0.000 core.py:6433(__has_singleton)\n",
      "        1    0.000    0.000    0.000    0.000 machar.py:16(MachAr)\n"
     ]
    },
    {
     "name": "stdout",
     "output_type": "stream",
     "text": [
      "        1    0.000    0.000    0.000    0.000 ctypeslib.py:198(_concrete_ndptr)\n",
      "        1    0.000    0.000    0.000    0.000 _globals.py:57(_NoValueType)\n",
      "        1    0.000    0.000    0.000    0.000 {method 'tolist' of 'memoryview' objects}\n",
      "        1    0.000    0.000    0.000    0.000 {method 'tobytes' of 'numpy.generic' objects}\n",
      "        1    0.000    0.000    0.000    0.000 {method 'expandtabs' of 'str' objects}\n",
      "        1    0.000    0.000    0.000    0.000 core.py:8081(_convert2ma)\n",
      "        2    0.000    0.000    0.000    0.000 index_tricks.py:143(__init__)\n",
      "        1    0.000    0.000    0.000    0.000 _ufunc_config.py:29(<dictcomp>)\n",
      "        1    0.000    0.000    0.000    0.000 core.py:202(<listcomp>)\n",
      "        1    0.000    0.000    0.000    0.000 function_base.py:1895(vectorize)\n",
      "        1    0.000    0.000    0.000    0.000 core.py:978(_MaskedBinaryOperation)\n",
      "        2    0.000    0.000    0.000    0.000 {method 'ravel' of 'numpy.ndarray' objects}\n",
      "        1    0.000    0.000    0.000    0.000 getlimits.py:291(finfo)\n",
      "        1    0.000    0.000    0.000    0.000 _ufunc_config.py:369(errstate)\n",
      "        1    0.000    0.000    0.000    0.000 utils.py:69(__init__)\n",
      "        1    0.000    0.000    0.000    0.000 ctypeslib.py:177(_ndptr)\n",
      "        1    0.000    0.000    0.000    0.000 arrayprint.py:834(FloatingFormat)\n",
      "        1    0.000    0.000    0.000    0.000 arrayprint.py:1252(StructuredVoidFormat)\n",
      "        1    0.000    0.000    0.000    0.000 _internal.py:204(dummy_ctype)\n",
      "        1    0.000    0.000    0.000    0.000 core.py:2600(MaskedIterator)\n",
      "        1    0.000    0.000    0.000    0.000 _datasource.py:76(_FileOpeners)\n",
      "        1    0.000    0.000    0.000    0.000 index_tricks.py:603(ndindex)\n",
      "        1    0.000    0.000    0.000    0.000 {method 'rfind' of 'str' objects}\n",
      "        1    0.000    0.000    0.000    0.000 _exceptions.py:40(_UFuncBinaryResolutionError)\n",
      "        4    0.000    0.000    0.000    0.000 enum.py:664(value)\n",
      "        1    0.000    0.000    0.000    0.000 py3k.py:88(contextlib_nullcontext)\n",
      "        1    0.000    0.000    0.000    0.000 __init__.py:29(__init__)\n",
      "        1    0.000    0.000    0.000    0.000 core.py:1284(_replace_dtype_fields_recursive)\n",
      "        2    0.000    0.000    0.000    0.000 core.py:3422(shape)\n",
      "        1    0.000    0.000    0.000    0.000 npyio.py:51(BagObj)\n",
      "        3    0.000    0.000    0.000    0.000 core.py:868(__init__)\n",
      "        1    0.000    0.000    0.000    0.000 {method 'cast' of 'memoryview' objects}\n",
      "        1    0.000    0.000    0.000    0.000 index_tricks.py:554(ndenumerate)\n",
      "        3    0.000    0.000    0.000    0.000 multiarray.py:1043(copyto)\n",
      "        1    0.000    0.000    0.000    0.000 index_tricks.py:208(MGridClass)\n",
      "        1    0.000    0.000    0.000    0.000 core.py:6739(_frommethod)\n",
      "        1    0.000    0.000    0.000    0.000 linalg.py:200(_assert_stacked_square)\n",
      "        1    0.000    0.000    0.000    0.000 __init__.py:28(RTLD_for_MKL)\n",
      "        2    0.000    0.000    0.000    0.000 index_tricks.py:724(__init__)\n",
      "        1    0.000    0.000    0.000    0.000 arrayprint.py:1205(DatetimeFormat)\n",
      "        1    0.000    0.000    0.000    0.000 core.py:904(_MaskedUnaryOperation)\n",
      "        1    0.000    0.000    0.000    0.000 {built-in method numpy.promote_types}\n",
      "        1    0.000    0.000    0.000    0.000 textwrap.py:474(predicate)\n",
      "        1    0.000    0.000    0.000    0.000 _exceptions.py:101(_UFuncOutputCastingError)\n",
      "        1    0.000    0.000    0.000    0.000 core.py:201(<listcomp>)\n",
      "        1    0.000    0.000    0.000    0.000 _exceptions.py:56(_UFuncNoLoopError)\n",
      "        1    0.000    0.000    0.000    0.000 linalg.py:194(_assert_stacked_2d)\n",
      "        1    0.000    0.000    0.000    0.000 index_tricks.py:108(nd_grid)\n",
      "        2    0.000    0.000    0.000    0.000 {built-in method builtins.callable}\n",
      "        1    0.000    0.000    0.000    0.000 records.py:78(_OrderedCounter)\n",
      "        1    0.000    0.000    0.000    0.000 fromnumeric.py:71(<dictcomp>)\n",
      "        1    0.000    0.000    0.000    0.000 utils.py:52(_set_function_name)\n",
      "        1    0.000    0.000    0.000    0.000 utils.py:57(_Deprecate)\n",
      "        1    0.000    0.000    0.000    0.000 numeric.py:59(ComplexWarning)\n",
      "        1    0.000    0.000    0.000    0.000 core.py:798(_DomainCheckInterval)\n",
      "        1    0.000    0.000    0.000    0.000 _type_aliases.py:35(TypeNADict)\n",
      "        1    0.000    0.000    0.000    0.000 _pytesttester.py:45(PytestTester)\n",
      "        1    0.000    0.000    0.000    0.000 {method 'splitlines' of 'str' objects}\n",
      "        1    0.000    0.000    0.000    0.000 _exceptions.py:83(_UFuncInputCastingError)\n",
      "        2    0.000    0.000    0.000    0.000 core.py:884(__init__)\n",
      "        1    0.000    0.000    0.000    0.000 core.py:1126(_DomainedBinaryOperation)\n",
      "        1    0.000    0.000    0.000    0.000 stride_tricks.py:14(DummyArray)\n",
      "        1    0.000    0.000    0.000    0.000 index_tricks.py:680(IndexExpression)\n",
      "        1    0.000    0.000    0.000    0.000 copyreg.py:22(constructor)\n",
      "        1    0.000    0.000    0.000    0.000 getlimits.py:32(MachArLike)\n",
      "        1    0.000    0.000    0.000    0.000 extras.py:1502(mr_class)\n",
      "        1    0.000    0.000    0.000    0.000 core.py:841(_DomainSafeDivide)\n",
      "        2    0.000    0.000    0.000    0.000 numeric.py:71(_zeros_like_dispatcher)\n",
      "        1    0.000    0.000    0.000    0.000 _exceptions.py:34(UFuncTypeError)\n",
      "        2    0.000    0.000    0.000    0.000 arrayprint.py:448(_recursive_guard)\n",
      "        1    0.000    0.000    0.000    0.000 _exceptions.py:125(AxisError)\n",
      "        1    0.000    0.000    0.000    0.000 numerictypes.py:396(_typedict)\n",
      "        1    0.000    0.000    0.000    0.000 core.py:823(_DomainTan)\n",
      "        1    0.000    0.000    0.000    0.000 core.py:2389(__init__)\n",
      "        2    0.000    0.000    0.000    0.000 {built-in method sys.setdlopenflags}\n",
      "        1    0.000    0.000    0.000    0.000 index_tricks.py:255(OGridClass)\n",
      "        1    0.000    0.000    0.000    0.000 extras.py:301(_fromnxfunction_args)\n",
      "        1    0.000    0.000    0.000    0.000 arrayprint.py:1123(IntegerFormat)\n",
      "        2    0.000    0.000    0.000    0.000 {built-in method sys._getframe}\n",
      "        1    0.000    0.000    0.000    0.000 index_tricks.py:522(CClass)\n",
      "        1    0.000    0.000    0.000    0.000 <string>:1(<module>)\n",
      "        1    0.000    0.000    0.000    0.000 arrayprint.py:1146(ComplexFloatingFormat)\n",
      "        1    0.000    0.000    0.000    0.000 core.py:84(MaskedArrayFutureWarning)\n",
      "        1    0.000    0.000    0.000    0.000 _globals.py:30(ModuleDeprecationWarning)\n",
      "        1    0.000    0.000    0.000    0.000 core.py:831(__init__)\n",
      "        1    0.000    0.000    0.000    0.000 index_tricks.py:422(RClass)\n",
      "        1    0.000    0.000    0.000    0.000 _iotools.py:421(ConverterError)\n",
      "        1    0.000    0.000    0.000    0.000 extras.py:270(_fromnxfunction_single)\n",
      "        1    0.000    0.000    0.000    0.000 core.py:155(MAError)\n",
      "        1    0.000    0.000    0.000    0.000 _internal.py:845(recursive)\n",
      "        1    0.000    0.000    0.000    0.000 polynomial.py:28(RankWarning)\n",
      "        1    0.000    0.000    0.000    0.000 extras.py:326(_fromnxfunction_allargs)\n",
      "        1    0.000    0.000    0.000    0.000 arrayprint.py:1179(_TimelikeFormat)\n",
      "        1    0.000    0.000    0.000    0.000 multiarray.py:143(concatenate)\n",
      "        1    0.000    0.000    0.000    0.000 core.py:862(_DomainGreater)\n",
      "        1    0.000    0.000    0.000    0.000 polyutils.py:60(RankWarning)\n",
      "        1    0.000    0.000    0.000    0.000 {built-in method numpy.core._multiarray_umath._set_madvise_hugepage}\n",
      "        1    0.000    0.000    0.000    0.000 arrayprint.py:1136(BoolFormat)\n",
      "        1    0.000    0.000    0.000    0.000 {method 'disable' of '_lsprof.Profiler' objects}\n",
      "        1    0.000    0.000    0.000    0.000 core.py:163(MaskError)\n",
      "        1    0.000    0.000    0.000    0.000 linalg.py:43(LinAlgError)\n",
      "        1    0.000    0.000    0.000    0.000 core.py:878(_DomainGreaterEqual)\n",
      "        1    0.000    0.000    0.000    0.000 polyutils.py:64(PolyError)\n",
      "        1    0.000    0.000    0.000    0.000 _ufunc_config.py:362(_unspecified)\n",
      "        1    0.000    0.000    0.000    0.000 _globals.py:44(VisibleDeprecationWarning)\n",
      "        2    0.000    0.000    0.000    0.000 {method 'keys' of 'dict' objects}\n",
      "        1    0.000    0.000    0.000    0.000 _iotools.py:437(ConversionWarning)\n",
      "        1    0.000    0.000    0.000    0.000 core.py:894(_MaskedUFunc)\n",
      "        1    0.000    0.000    0.000    0.000 numeric.py:820(_outer_dispatcher)\n",
      "        2    0.000    0.000    0.000    0.000 multiarray.py:75(empty_like)\n",
      "        1    0.000    0.000    0.000    0.000 _internal.py:243(c_void_p)\n",
      "        1    0.000    0.000    0.000    0.000 _exceptions.py:120(TooHardError)\n",
      "        1    0.000    0.000    0.000    0.000 polyutils.py:81(PolyBase)\n",
      "        1    0.000    0.000    0.000    0.000 _iotools.py:429(ConverterLockError)\n",
      "        1    0.000    0.000    0.000    0.000 extras.py:288(_fromnxfunction_seq)\n",
      "        1    0.000    0.000    0.000    0.000 arrayprint.py:1242(SubArrayFormat)\n",
      "        1    0.000    0.000    0.000    0.000 polyutils.py:68(PolyDomainError)\n",
      "        1    0.000    0.000    0.000    0.000 random.py:729(seed)\n",
      "        1    0.000    0.000    0.000    0.000 arrayprint.py:1237(TimedeltaFormat)\n",
      "        1    0.000    0.000    0.000    0.000 function_base.py:18(_linspace_dispatcher)\n",
      "        1    0.000    0.000    0.000    0.000 {built-in method sys.getdlopenflags}\n",
      "        1    0.000    0.000    0.000    0.000 polynomial.py:661(_polyval_dispatcher)\n",
      "        1    0.000    0.000    0.000    0.000 multiarray.py:634(result_type)\n",
      "        1    0.000    0.000    0.000    0.000 fromnumeric.py:3071(_ndim_dispatcher)\n",
      "        1    0.000    0.000    0.000    0.000 linalg.py:473(_unary_dispatcher)\n",
      "        1    0.000    0.000    0.000    0.000 twodim_base.py:468(_vander_dispatcher)\n",
      "        1    0.000    0.000    0.000    0.000 polynomial.py:425(_polyfit_dispatcher)\n",
      "        1    0.000    0.000    0.000    0.000 multiarray.py:706(dot)\n",
      "        1    0.000    0.000    0.000    0.000 contextlib.py:59(_recreate_cm)\n",
      "        1    0.000    0.000    0.000    0.000 fromnumeric.py:2245(_any_dispatcher)\n",
      "\n",
      "\n"
     ]
    }
   ],
   "source": [
    "import test_profile\n",
    "import cProfile\n",
    "cProfile.run('test_profile.test_profile()',sort=2)"
   ]
  },
  {
   "cell_type": "markdown",
   "metadata": {},
   "source": [
    "On peut voir qu'à l'exécution de la fonction (`slow = True`), nous recalculons les coefficients d'un polynome qui est utilisé dans une boucle alors que ceux-ci sont indépendants des variables de boucles. Le temps cumulé de la fonction `polyfit` est important par rapport au temps total."
   ]
  },
  {
   "cell_type": "markdown",
   "metadata": {},
   "source": [
    "\n",
    "Afin d'améliorer l'efficacité de cette fonction, nous pouvons sortir le calcul des coefficients des boucles et ne le calculer qu'une seule sois (`slow = False`). On peut alors vérifier que `polyfit` n'est appelée qu'une seule fois."
   ]
  },
  {
   "cell_type": "code",
   "execution_count": 3,
   "metadata": {
    "scrolled": true
   },
   "outputs": [
    {
     "name": "stdout",
     "output_type": "stream",
     "text": [
      "         80127 function calls (80124 primitive calls) in 0.096 seconds\n",
      "\n",
      "   Ordered by: cumulative time\n",
      "\n",
      "   ncalls  tottime  percall  cumtime  percall filename:lineno(function)\n",
      "        1    0.000    0.000    0.096    0.096 {built-in method builtins.exec}\n",
      "        1    0.000    0.000    0.096    0.096 <string>:1(<module>)\n",
      "        1    0.015    0.015    0.096    0.096 test_profile.py:9(test_profile)\n",
      "    10000    0.009    0.000    0.058    0.000 _polybase.py:375(__call__)\n",
      "    10000    0.026    0.000    0.032    0.000 polynomial.py:657(polyval)\n",
      "    10000    0.022    0.000    0.022    0.000 test_profile.py:15(fun)\n",
      "    10000    0.016    0.000    0.016    0.000 polyutils.py:302(mapparms)\n",
      "    20001    0.003    0.000    0.003    0.000 {built-in method builtins.isinstance}\n",
      "    10009    0.003    0.000    0.003    0.000 {built-in method numpy.array}\n",
      "    10009    0.001    0.000    0.001    0.000 {built-in method builtins.len}\n",
      "        1    0.000    0.000    0.000    0.000 polynomial.py:1207(polyfit)\n",
      "        1    0.000    0.000    0.000    0.000 polyutils.py:641(_fit)\n",
      "      7/4    0.000    0.000    0.000    0.000 {built-in method numpy.core._multiarray_umath.implement_array_function}\n",
      "        1    0.000    0.000    0.000    0.000 {method 'rand' of 'numpy.random.mtrand.RandomState' objects}\n",
      "        1    0.000    0.000    0.000    0.000 <__array_function__ internals>:2(lstsq)\n",
      "        1    0.000    0.000    0.000    0.000 linalg.py:2170(lstsq)\n",
      "        1    0.000    0.000    0.000    0.000 polynomial.py:1051(polyvander)\n",
      "        1    0.000    0.000    0.000    0.000 <__array_function__ internals>:2(zeros_like)\n",
      "        1    0.000    0.000    0.000    0.000 _polybase.py:263(__init__)\n",
      "        1    0.000    0.000    0.000    0.000 numeric.py:75(zeros_like)\n",
      "        1    0.000    0.000    0.000    0.000 polyutils.py:126(as_series)\n",
      "        1    0.000    0.000    0.000    0.000 <__array_function__ internals>:2(moveaxis)\n",
      "        1    0.000    0.000    0.000    0.000 numeric.py:1371(moveaxis)\n",
      "        2    0.000    0.000    0.000    0.000 {method 'reduce' of 'numpy.ufunc' objects}\n",
      "        1    0.000    0.000    0.000    0.000 <__array_function__ internals>:2(copyto)\n",
      "        5    0.000    0.000    0.000    0.000 _asarray.py:14(asarray)\n",
      "        1    0.000    0.000    0.000    0.000 {method 'sum' of 'numpy.ndarray' objects}\n",
      "        1    0.000    0.000    0.000    0.000 <__array_function__ internals>:2(common_type)\n",
      "        2    0.000    0.000    0.000    0.000 numeric.py:1308(normalize_axis_tuple)\n",
      "        1    0.000    0.000    0.000    0.000 {method 'min' of 'numpy.ndarray' objects}\n",
      "        1    0.000    0.000    0.000    0.000 _methods.py:45(_sum)\n",
      "        1    0.000    0.000    0.000    0.000 _methods.py:41(_amin)\n",
      "        1    0.000    0.000    0.000    0.000 type_check.py:679(common_type)\n",
      "        3    0.000    0.000    0.000    0.000 {method 'astype' of 'numpy.ndarray' objects}\n",
      "        1    0.000    0.000    0.000    0.000 linalg.py:135(_commonType)\n",
      "        1    0.000    0.000    0.000    0.000 <__array_function__ internals>:2(empty_like)\n",
      "        1    0.000    0.000    0.000    0.000 polyutils.py:198(<listcomp>)\n",
      "        2    0.000    0.000    0.000    0.000 linalg.py:107(_makearray)\n",
      "        1    0.000    0.000    0.000    0.000 <frozen importlib._bootstrap>:1017(_handle_fromlist)\n",
      "        2    0.000    0.000    0.000    0.000 numeric.py:1358(<listcomp>)\n",
      "        1    0.000    0.000    0.000    0.000 <__array_function__ internals>:2(iscomplexobj)\n",
      "        1    0.000    0.000    0.000    0.000 getlimits.py:366(__new__)\n",
      "        1    0.000    0.000    0.000    0.000 {built-in method numpy.zeros}\n",
      "        1    0.000    0.000    0.000    0.000 polyutils.py:762(_deprecate_as_int)\n",
      "        3    0.000    0.000    0.000    0.000 linalg.py:125(_realType)\n",
      "        1    0.000    0.000    0.000    0.000 {method 'squeeze' of 'numpy.ndarray' objects}\n",
      "        3    0.000    0.000    0.000    0.000 linalg.py:112(isComplexType)\n",
      "        1    0.000    0.000    0.000    0.000 polyutils.py:176(<listcomp>)\n",
      "        1    0.000    0.000    0.000    0.000 polyutils.py:184(<listcomp>)\n",
      "        8    0.000    0.000    0.000    0.000 {built-in method builtins.issubclass}\n",
      "        1    0.000    0.000    0.000    0.000 {built-in method builtins.sorted}\n",
      "        1    0.000    0.000    0.000    0.000 type_check.py:279(iscomplexobj)\n",
      "        1    0.000    0.000    0.000    0.000 {built-in method numpy.empty}\n",
      "        5    0.000    0.000    0.000    0.000 {method 'get' of 'dict' objects}\n",
      "        2    0.000    0.000    0.000    0.000 {built-in method numpy.core._multiarray_umath.normalize_axis_index}\n",
      "        1    0.000    0.000    0.000    0.000 linalg.py:102(get_linalg_error_extobj)\n",
      "        1    0.000    0.000    0.000    0.000 {method 'transpose' of 'numpy.ndarray' objects}\n",
      "        3    0.000    0.000    0.000    0.000 {built-in method _operator.index}\n",
      "        1    0.000    0.000    0.000    0.000 linalg.py:188(_assert_2d)\n",
      "        1    0.000    0.000    0.000    0.000 {built-in method builtins.min}\n",
      "        2    0.000    0.000    0.000    0.000 {built-in method builtins.any}\n",
      "        1    0.000    0.000    0.000    0.000 {built-in method builtins.max}\n",
      "        2    0.000    0.000    0.000    0.000 {built-in method builtins.getattr}\n",
      "        1    0.000    0.000    0.000    0.000 {built-in method builtins.hasattr}\n",
      "        1    0.000    0.000    0.000    0.000 numeric.py:1434(<listcomp>)\n",
      "        2    0.000    0.000    0.000    0.000 {method '__array_prepare__' of 'numpy.ndarray' objects}\n",
      "        1    0.000    0.000    0.000    0.000 polyutils.py:177(<listcomp>)\n",
      "        1    0.000    0.000    0.000    0.000 polyutils.py:179(<listcomp>)\n",
      "        1    0.000    0.000    0.000    0.000 {method 'disable' of '_lsprof.Profiler' objects}\n",
      "        1    0.000    0.000    0.000    0.000 numeric.py:71(_zeros_like_dispatcher)\n",
      "        1    0.000    0.000    0.000    0.000 multiarray.py:1043(copyto)\n",
      "        1    0.000    0.000    0.000    0.000 type_check.py:206(_is_type_dispatcher)\n",
      "        1    0.000    0.000    0.000    0.000 linalg.py:2166(_lstsq_dispatcher)\n",
      "        1    0.000    0.000    0.000    0.000 multiarray.py:75(empty_like)\n",
      "        1    0.000    0.000    0.000    0.000 numeric.py:1367(_moveaxis_dispatcher)\n",
      "        1    0.000    0.000    0.000    0.000 {method 'insert' of 'list' objects}\n",
      "        1    0.000    0.000    0.000    0.000 linalg.py:131(_linalgRealType)\n",
      "        1    0.000    0.000    0.000    0.000 type_check.py:675(_common_type_dispatcher)\n",
      "\n",
      "\n"
     ]
    }
   ],
   "source": [
    "cProfile.run('test_profile.test_profile(False)',sort=2)"
   ]
  },
  {
   "cell_type": "markdown",
   "metadata": {},
   "source": [
    "## Fin du tutoriel\n",
    "\n",
    "Nous voici au bout de ce tutoriel. Quelques conseils avant de débuter le projet. Lancez-vous avant toute chose à plein pieds dans le langage Python, essayez les différentes fonctionnalités présentées ici et n'hésitez pas à vous renseigner ailleurs et de partager entre vous vos bonnes pratiques. \n",
    "\n",
    "Complétez ce tutoriel avant de démarrer le projet, et soyez certain.e.s de le maîtriser avant de passer l'examen oral ;)"
   ]
  },
  {
   "cell_type": "code",
   "execution_count": null,
   "metadata": {},
   "outputs": [],
   "source": []
  }
 ],
 "metadata": {
  "kernelspec": {
   "display_name": "Python 3",
   "language": "python",
   "name": "python3"
  },
  "language_info": {
   "codemirror_mode": {
    "name": "ipython",
    "version": 3
   },
   "file_extension": ".py",
   "mimetype": "text/x-python",
   "name": "python",
   "nbconvert_exporter": "python",
   "pygments_lexer": "ipython3",
   "version": "3.8.5"
  }
 },
 "nbformat": 4,
 "nbformat_minor": 4
}
