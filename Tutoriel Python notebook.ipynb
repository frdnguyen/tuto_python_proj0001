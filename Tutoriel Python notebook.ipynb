{
 "cells": [
  {
   "cell_type": "markdown",
   "metadata": {},
   "source": [
    "# Tutoriel Python \n",
    "## PROJ0001-1: Introducion aux méthodes numériques et projet\n",
    "\n",
    "### *Bachelier en Sciences de l'Ingénieur (Bloc 1)*\n",
    "\n",
    "### *Année académique 2020-2021*"
   ]
  },
  {
   "cell_type": "markdown",
   "metadata": {},
   "source": [
    "# Installation d'Anaconda et de Python"
   ]
  },
  {
   "cell_type": "markdown",
   "metadata": {},
   "source": [
    "Python est un langage de programmation open source orienté objet de haut niveau largement utilisé dans le monde industriel et scientifique. Ce langage permet non seulement d'effectuer du calcul scientifique et de la visualisation graphique, mais également de créer des sites web. Afin de pouvoir en bénéficier, nous utiliserons la plateforme de distribution Anaconda permettant d'installer Python et l'environnement de programmation Spyder. Pour débuter, téléchargez et installez la distribution d'Anaconda de votre système d'exploitation (Windows, Mac OS ou Linux):\n",
    "\n",
    "https://www.anaconda.com/products/individual\n",
    "\n",
    "En installant Anaconda, vous installerez Python, Jupyter Notebook et Spyder. Une fois Anaconda installé, vous pourrez lancer l'environnement de programmation Spyder et faire tourner les Notebooks (ce tutoriel par exemple).\n",
    "\n",
    "Une fois que vous avez installé Anaconda, démarrez l'application. A partir de l'écran d'accueil, vous pourrez démarrer soit Spyder soit Jupyter Notebook en double cliquant sur l'icône correspondante. \n",
    "\n",
    "<img src=\"img1.png\" style=\"width:1024\"/>\n",
    "\n",
    "Une fois Spyder lançé, vous verrez une interface organisée en trois grandes fenêtres: l'éditeur utilisé pour écrire et sauverger vos commandes et vos programmes, l'explorateur de fichiers, de figures ainsi que l'aide, et la console qui exécute les commandes écrites en Python ainsi que l'historique des commandes entrées. Cette dernière option est très utile pour remonter dans le temps et permet de voir quelles commandes ont été exécutées, dans quel ordre et à quel moment.\n",
    "\n",
    "<img src=\"img2.png\" style=\"width:1024\"/>\n"
   ]
  },
  {
   "cell_type": "markdown",
   "metadata": {},
   "source": [
    "## Console IPython dans l'Environnment Spyder\n",
    "\n",
    "La console IPython permet d'entrer des commandes après l'invite de commande \"In [ ]:\""
   ]
  },
  {
   "cell_type": "code",
   "execution_count": 13,
   "metadata": {},
   "outputs": [],
   "source": [
    "a=2"
   ]
  },
  {
   "cell_type": "markdown",
   "metadata": {},
   "source": [
    "L'exemple ci-dessus montre que l'on a affecté la valeur 2 à la variable `a` à l'aide de l'opérateur `=`. Une variable est un conteneur d'information sous la forme d'un scalaire, d'un tableau ou d'une suite de caractères. La définition est par défaut silencieuse, càd que la valeur de a ne s'affichera pas à l'exécution de la commande `a=2`. Si nous voulons afficher la valeur de a, nous pouvons utiliser la fonction print( ) ou utiliser l'explorateur de variables. Nous pouvons voir dans l'exemple ci-dessous que nous avons créer une variable appellée`a`, qui est un entier de dimension 1 et de valeur \"2\".\n",
    "\n",
    "L'explorateur des variables constitue donc notre espace de travail. Il fournit à l'utilisateur des informations sur les variables définies à l'instant présent. Il offre des fonctionnalités pour la gestion des variables (création, édition, suppression, etc.). Ces informations sont également accessibles par le biais des commandes `who`\n",
    "et `whos` ou la commande `type()`."
   ]
  },
  {
   "cell_type": "code",
   "execution_count": 14,
   "metadata": {},
   "outputs": [
    {
     "name": "stdout",
     "output_type": "stream",
     "text": [
      "2\n"
     ]
    }
   ],
   "source": [
    "print(a)"
   ]
  },
  {
   "cell_type": "code",
   "execution_count": 15,
   "metadata": {},
   "outputs": [
    {
     "name": "stdout",
     "output_type": "stream",
     "text": [
      "a\t \n"
     ]
    }
   ],
   "source": [
    "who"
   ]
  },
  {
   "cell_type": "code",
   "execution_count": 16,
   "metadata": {},
   "outputs": [
    {
     "name": "stdout",
     "output_type": "stream",
     "text": [
      "Variable   Type    Data/Info\n",
      "----------------------------\n",
      "a          int     2\n"
     ]
    }
   ],
   "source": [
    "whos"
   ]
  },
  {
   "cell_type": "code",
   "execution_count": 17,
   "metadata": {},
   "outputs": [
    {
     "data": {
      "text/plain": [
       "int"
      ]
     },
     "execution_count": 17,
     "metadata": {},
     "output_type": "execute_result"
    }
   ],
   "source": [
    "type(a)"
   ]
  },
  {
   "cell_type": "markdown",
   "metadata": {},
   "source": [
    "<img src=\"img3.png\" style=\"width:1024\"/>"
   ]
  },
  {
   "cell_type": "markdown",
   "metadata": {},
   "source": [
    "Si nous voulons effacer des variables, nous pouvons utilliser la commande `%reset` (qui demander une confirmation) pour effacer toutes les variables ou del pour effacer une variable spécifique. La commande `clear` ne fait elle que de nettoyer la console tout en gardant les variables en mémoire."
   ]
  },
  {
   "cell_type": "code",
   "execution_count": 18,
   "metadata": {},
   "outputs": [],
   "source": [
    "del a"
   ]
  },
  {
   "cell_type": "code",
   "execution_count": 204,
   "metadata": {},
   "outputs": [
    {
     "name": "stdout",
     "output_type": "stream",
     "text": [
      "Once deleted, variables cannot be recovered. Proceed (y/[n])? n\n",
      "Nothing done.\n"
     ]
    }
   ],
   "source": [
    "%reset"
   ]
  },
  {
   "cell_type": "markdown",
   "metadata": {},
   "source": [
    "On peut également utiliser les opérateurs d'addition `+`, de soustraction\n",
    "`-` de multiplication `*`, de division `/` et de puissance `**` ou les combiner. Par exemple `+=` incrémente la variable affectée d'une valeur à spécifier."
   ]
  },
  {
   "cell_type": "code",
   "execution_count": 19,
   "metadata": {},
   "outputs": [
    {
     "name": "stdout",
     "output_type": "stream",
     "text": [
      "5\n"
     ]
    }
   ],
   "source": [
    "a = 2 + 3\n",
    "print(a)"
   ]
  },
  {
   "cell_type": "code",
   "execution_count": 20,
   "metadata": {},
   "outputs": [
    {
     "name": "stdout",
     "output_type": "stream",
     "text": [
      "6\n"
     ]
    }
   ],
   "source": [
    "a += 1\n",
    "print(a)"
   ]
  },
  {
   "cell_type": "code",
   "execution_count": 21,
   "metadata": {},
   "outputs": [
    {
     "name": "stdout",
     "output_type": "stream",
     "text": [
      "5\n"
     ]
    }
   ],
   "source": [
    "a -= 1\n",
    "print(a)"
   ]
  },
  {
   "cell_type": "markdown",
   "metadata": {},
   "source": [
    "Python définit plusieurs types d'opérations de base par défaut (affectation, arithmétique, puissance, valeur absolue, comparaisons, logique):"
   ]
  },
  {
   "cell_type": "code",
   "execution_count": 22,
   "metadata": {},
   "outputs": [
    {
     "data": {
      "text/plain": [
       "True"
      ]
     },
     "execution_count": 22,
     "metadata": {},
     "output_type": "execute_result"
    }
   ],
   "source": [
    "1 != 2 "
   ]
  },
  {
   "cell_type": "code",
   "execution_count": 23,
   "metadata": {},
   "outputs": [
    {
     "data": {
      "text/plain": [
       "False"
      ]
     },
     "execution_count": 23,
     "metadata": {},
     "output_type": "execute_result"
    }
   ],
   "source": [
    "True & False"
   ]
  },
  {
   "cell_type": "code",
   "execution_count": 24,
   "metadata": {},
   "outputs": [
    {
     "data": {
      "text/plain": [
       "True"
      ]
     },
     "execution_count": 24,
     "metadata": {},
     "output_type": "execute_result"
    }
   ],
   "source": [
    "True & True"
   ]
  },
  {
   "cell_type": "markdown",
   "metadata": {},
   "source": [
    "## Types de variables\n",
    "\n",
    "Dans Python, il n'est pas nécessaire de déclarer les variables avant de pouvoir les utiliser. La valeur que l'on affecte à la variable définit son type. Les principaux types sont :"
   ]
  },
  {
   "cell_type": "markdown",
   "metadata": {},
   "source": [
    "### Type `int` (nombre entier)"
   ]
  },
  {
   "cell_type": "code",
   "execution_count": 25,
   "metadata": {},
   "outputs": [
    {
     "data": {
      "text/plain": [
       "int"
      ]
     },
     "execution_count": 25,
     "metadata": {},
     "output_type": "execute_result"
    }
   ],
   "source": [
    "a = 300\n",
    "type(a)"
   ]
  },
  {
   "cell_type": "markdown",
   "metadata": {},
   "source": [
    "### Type `float` (nombre à virgule flottante) "
   ]
  },
  {
   "cell_type": "code",
   "execution_count": 26,
   "metadata": {},
   "outputs": [
    {
     "data": {
      "text/plain": [
       "float"
      ]
     },
     "execution_count": 26,
     "metadata": {},
     "output_type": "execute_result"
    }
   ],
   "source": [
    "a = 1.25e3\n",
    "type(a)"
   ]
  },
  {
   "cell_type": "markdown",
   "metadata": {},
   "source": [
    "### Type `str` (chaîne de caratères)"
   ]
  },
  {
   "cell_type": "code",
   "execution_count": 27,
   "metadata": {},
   "outputs": [
    {
     "name": "stdout",
     "output_type": "stream",
     "text": [
      "bonjour\n"
     ]
    },
    {
     "data": {
      "text/plain": [
       "str"
      ]
     },
     "execution_count": 27,
     "metadata": {},
     "output_type": "execute_result"
    }
   ],
   "source": [
    "a = \"bonjour\"\n",
    "print(a)\n",
    "type(a)"
   ]
  },
  {
   "cell_type": "code",
   "execution_count": 28,
   "metadata": {},
   "outputs": [
    {
     "name": "stdout",
     "output_type": "stream",
     "text": [
      "aurevoir\n"
     ]
    },
    {
     "data": {
      "text/plain": [
       "str"
      ]
     },
     "execution_count": 28,
     "metadata": {},
     "output_type": "execute_result"
    }
   ],
   "source": [
    "a = 'aurevoir'\n",
    "print(a)\n",
    "type(a)"
   ]
  },
  {
   "cell_type": "markdown",
   "metadata": {},
   "source": [
    "### Type `bool` (boolén)"
   ]
  },
  {
   "cell_type": "code",
   "execution_count": 29,
   "metadata": {},
   "outputs": [
    {
     "data": {
      "text/plain": [
       "bool"
      ]
     },
     "execution_count": 29,
     "metadata": {},
     "output_type": "execute_result"
    }
   ],
   "source": [
    "a = True \n",
    "type(a)"
   ]
  },
  {
   "cell_type": "code",
   "execution_count": 30,
   "metadata": {},
   "outputs": [
    {
     "name": "stdout",
     "output_type": "stream",
     "text": [
      "False\n"
     ]
    }
   ],
   "source": [
    "b = not(a)\n",
    "print(b)"
   ]
  },
  {
   "cell_type": "markdown",
   "metadata": {},
   "source": [
    "Nous avons utilisé l'opérateur `not()` pour renvoyer l'opposé de la valeur booléenne transmise."
   ]
  },
  {
   "cell_type": "markdown",
   "metadata": {},
   "source": [
    "## Aide \n",
    "\n",
    "Il existe énormément de ressources pour Python sur internet (https://www.python.org/search/, https://docs.python.org/3/contents.html, https://docs.python.org/3/tutorial/) mais l'utilisateur peut d'abord trouver de l'aide localement en appuyant Cmd+I devant n'importe quel objet. Vous pouvez également utiliser l'aide interactive fournie dans l'environnement Spyder dans l'aide ou à travers la console en entrant par exemple `help(print)`. Finalement, une aide se montrera automatiquement après avoir écrit une parenthèse de gauche à côté d'un objet. \n",
    "\n",
    "<img src=\"img4.png\" style=\"width:1024\"/>"
   ]
  },
  {
   "cell_type": "code",
   "execution_count": 31,
   "metadata": {},
   "outputs": [
    {
     "name": "stdout",
     "output_type": "stream",
     "text": [
      "Help on built-in function print in module builtins:\n",
      "\n",
      "print(...)\n",
      "    print(value, ..., sep=' ', end='\\n', file=sys.stdout, flush=False)\n",
      "    \n",
      "    Prints the values to a stream, or to sys.stdout by default.\n",
      "    Optional keyword arguments:\n",
      "    file:  a file-like object (stream); defaults to the current sys.stdout.\n",
      "    sep:   string inserted between values, default a space.\n",
      "    end:   string appended after the last value, default a newline.\n",
      "    flush: whether to forcibly flush the stream.\n",
      "\n"
     ]
    }
   ],
   "source": [
    "help(print)"
   ]
  },
  {
   "cell_type": "markdown",
   "metadata": {},
   "source": [
    "Plus simplement, si nous souhaitons obtenir de l'aide au niveau de l'utilisation de la console, nous pouvons utiliser `?`"
   ]
  },
  {
   "cell_type": "code",
   "execution_count": 3,
   "metadata": {},
   "outputs": [],
   "source": [
    "?"
   ]
  },
  {
   "cell_type": "markdown",
   "metadata": {},
   "source": [
    "## Terminologie \n",
    "\n",
    "Python utilise un certain nombre de concept propre au langage qu'il est important de définir. Vous trouverez de plus amples informations au sein du glossaire (https://docs.python.org/fr/3/glossary.html#glossary).\n"
   ]
  },
  {
   "cell_type": "markdown",
   "metadata": {},
   "source": [
    "### Scripts\n",
    "Un script est simplement un fichier `.py` où est enregistré un ensemble d'instructions destinées à être exécutées. L'exécution du script créera de nouvelles variables ou des graphiques dans l'espace de travail. "
   ]
  },
  {
   "cell_type": "markdown",
   "metadata": {},
   "source": [
    "### Fonctions/functions\n",
    "Une fonction est ensemble de lignes d'instructions organisé selon une syntaxe bien définie (utilisant le mot-clé `def`) et réutilisable, qui est employé pour effectuer une action unique corresopndante à la fonction. La syntaxe correspondante est donnée dans l'exemple suivant qui effectue simplement la somme de deux variables a et b et qui affecte le résult dans une variable c retournée comme sortie de la fonction:"
   ]
  },
  {
   "cell_type": "code",
   "execution_count": 32,
   "metadata": {},
   "outputs": [
    {
     "name": "stdout",
     "output_type": "stream",
     "text": [
      "Once deleted, variables cannot be recovered. Proceed (y/[n])? y\n"
     ]
    }
   ],
   "source": [
    "%reset\n",
    "def somme_a_b(a,b):\n",
    "   #Cette fonction effectue la somme de a et de b\n",
    "   c = a + b\n",
    "   return c"
   ]
  },
  {
   "cell_type": "code",
   "execution_count": 35,
   "metadata": {},
   "outputs": [
    {
     "data": {
      "text/plain": [
       "4"
      ]
     },
     "execution_count": 35,
     "metadata": {},
     "output_type": "execute_result"
    }
   ],
   "source": [
    "somme_a_b(1,3)"
   ]
  },
  {
   "cell_type": "markdown",
   "metadata": {},
   "source": [
    "Une définition de fonction associe un nom de fonction à un objet fonction dans l'espace de noms actuel que l'on peut voir ci-dessous à travers la commande `whos`."
   ]
  },
  {
   "cell_type": "code",
   "execution_count": 36,
   "metadata": {},
   "outputs": [
    {
     "name": "stdout",
     "output_type": "stream",
     "text": [
      "Variable    Type        Data/Info\n",
      "---------------------------------\n",
      "somme_a_b   function    <function somme_a_b at 0x7fde98401550>\n"
     ]
    }
   ],
   "source": [
    "whos"
   ]
  },
  {
   "cell_type": "markdown",
   "metadata": {},
   "source": [
    "\n",
    "### Modules\n",
    "Un module est un fichier Python (`.py`) destiné à être importé dans des scripts, dans la console ou d'autres modules. Il définit des classes, des fonctions et des variables destinées à être utilisées une fois importé. \n",
    "On peut ainsi réutiliser des fonctions écrites pour un programme dans un autre sans avoir à les copier. La commande `import` permet d'importer le module en entier ou des parties de celui-ci. On peut ensuite accèder à celle-ci en utlisant `nom_du_module.nom_de_l_objet`. Dans l'exemple ci-dessous, le module `dummy_module.py` contient les instructions suivantes:\n"
   ]
  },
  {
   "cell_type": "code",
   "execution_count": 25,
   "metadata": {},
   "outputs": [],
   "source": [
    "#Contenu du fichier dummy_module.py\n",
    "course_code = 'PROJ0001-1' \n",
    "\n",
    "students_number = 300\n",
    "\n",
    "def number_group(n):\n",
    "    print(n/3)"
   ]
  },
  {
   "cell_type": "code",
   "execution_count": 37,
   "metadata": {
    "scrolled": true
   },
   "outputs": [
    {
     "name": "stdout",
     "output_type": "stream",
     "text": [
      "Once deleted, variables cannot be recovered. Proceed (y/[n])? y\n"
     ]
    }
   ],
   "source": [
    "%reset   \n",
    "import dummy_module"
   ]
  },
  {
   "cell_type": "code",
   "execution_count": 38,
   "metadata": {},
   "outputs": [
    {
     "name": "stdout",
     "output_type": "stream",
     "text": [
      "Variable       Type      Data/Info\n",
      "----------------------------------\n",
      "dummy_module   module    <module 'dummy_module' fr<...>utoriel/dummy_module.py'>\n"
     ]
    }
   ],
   "source": [
    "whos"
   ]
  },
  {
   "cell_type": "code",
   "execution_count": 39,
   "metadata": {},
   "outputs": [
    {
     "name": "stdout",
     "output_type": "stream",
     "text": [
      "PROJ0001-1\n",
      "100.0\n"
     ]
    }
   ],
   "source": [
    "print(dummy_module.course_code)\n",
    "n = dummy_module.students_number\n",
    "dummy_module.number_group(n)"
   ]
  },
  {
   "cell_type": "markdown",
   "metadata": {},
   "source": [
    "Notons que si nous exécutons le contenu du fichier `dummy_module.py` directement dans la console, nous créerons une fonction `number_group()`, ainsi que deux variables: la chîne de caractères `course_code` et le nombre entier `students_number`. L'importation du même ne créera que le module dummy_module dans l'espace de travail."
   ]
  },
  {
   "cell_type": "markdown",
   "metadata": {},
   "source": [
    "### Paquets/packages\n",
    "C'est en fait un certain type de module Python qui peut contenir des sous-modules ou des sous-paquets. Techniquement, un paquet est un module qui possède un attribut `__path__`. Les paquets sont un moyen de structurer les différents modules en utilisant une notation « pointée ». Par exemple, le nom de module A.B désigne le sous-module B du paquet A. Vous pouvez vous représenter les paquets comme des répertoires dans le système de fichiers et les modules comme des fichiers dans ces répertoires.\n",
    "\n",
    "### Librairies\n",
    "Une librairie peut contenir des dizaines, voire des centaines de modules individuels qui peuvent fournir un large éventail de fonctionnalités. `Matplotlib` est une bibliothèque permettant de créer des graphiques pour visualiser des données (https://matplotlib.org). La librairie standard de Python (https://docs.python.org/3/library/) contient des centaines de modules permettant d'effectuer des tâches courantes, comme par exemple la fonction `help()` qui permet d'invoquer le système d'aide. \n",
    "\n",
    "### Classes\n",
    "Une classe peut être vue comme étant un modèle contenant des attributs (ou variables) et des méthodes (ou fonctions) permettant des créer des instances de cette classe. Les classes permettent de définir de nouveaux types de variables propres à la personne qui programme. L'instanciation d'une classe permet de créer un objet de cette classe. Les méthodes associées à unen classe ont un accès privilégié aux données de la classe et les attributs se comportent comme des variables globales pour les méthodes de la classe. Une classe se définit par le mot-clé `class` suivi à la ligne de. Nous pouvons par exemple décider de créer une classe `student` où des attributs tels que l'age ou le prénom seront définis et une méthode permettant de calculer sa probabilité de réussir son année. Ensuite, nous utiliserons cette classe pour créer différentes instances d'étudiant.e.s et examiner leur chances de réussite.\n",
    "\n"
   ]
  },
  {
   "cell_type": "code",
   "execution_count": 40,
   "metadata": {},
   "outputs": [],
   "source": [
    "class student:\n",
    "    def __init__(self, age, prenom, nom, ects_obtenu, bloc1, cycle):\n",
    "        self.age = age\n",
    "        self.prenom = prenom\n",
    "        self.email = prenom + '.' + nom + '@student.uliege.be'\n",
    "        self.nom = nom\n",
    "        self.ects_obtenu = ects_obtenu\n",
    "        self.bloc1 = bloc1\n",
    "        self.cycle = cycle\n",
    "        \n",
    "    \n",
    "    def proba_reussite(self): \n",
    "        pr = (self.age/self.ects_obtenu)\n",
    "        return pr \n",
    "        \n",
    "    \n",
    "s932810 = student(20, 'John', 'Smith', 30, True, 'bachelier')\n",
    "s493304 = student(22, 'Jane', 'Doe', 30, False, 'Master')\n"
   ]
  },
  {
   "cell_type": "code",
   "execution_count": 41,
   "metadata": {},
   "outputs": [
    {
     "name": "stdout",
     "output_type": "stream",
     "text": [
      "John.Smith@student.uliege.be\n",
      "Jane.Doe@student.uliege.be\n"
     ]
    }
   ],
   "source": [
    "print(s932810.email)\n",
    "print(s493304.email)"
   ]
  },
  {
   "cell_type": "code",
   "execution_count": 42,
   "metadata": {},
   "outputs": [
    {
     "name": "stdout",
     "output_type": "stream",
     "text": [
      "0.6666666666666666\n"
     ]
    }
   ],
   "source": [
    "print(s932810.proba_reussite())"
   ]
  },
  {
   "cell_type": "code",
   "execution_count": 43,
   "metadata": {},
   "outputs": [
    {
     "name": "stdout",
     "output_type": "stream",
     "text": [
      "0.7333333333333333\n"
     ]
    }
   ],
   "source": [
    "print(s493304.proba_reussite())"
   ]
  },
  {
   "cell_type": "markdown",
   "metadata": {},
   "source": [
    "Le mot clé `self` désigne l’instance de la classe sur laquelle va s’appliquer la méthode et `__init__` est le constructeur de la classe qui permet d'initialiser les attributs de la classe."
   ]
  },
  {
   "cell_type": "markdown",
   "metadata": {},
   "source": [
    "## Edition de scripts\n"
   ]
  },
  {
   "cell_type": "markdown",
   "metadata": {},
   "source": [
    "Le répertoire courant est le répertoire où l'utilisateur travaille. Le contenu de ce répertoire\n",
    "est affiché dans Spyder et des fonctionnalités pour la gestion de son contenu sont fournies.\n",
    "L'affichage du contenu du répertoire courant peut également être obtenu dans la fenêtre de commande à\n",
    "l'aide de la commande \"ls\". \n",
    "\n",
    "<img src=\"img5.png\" style=\"width:1024\"/>\n",
    "\n"
   ]
  },
  {
   "cell_type": "code",
   "execution_count": 44,
   "metadata": {},
   "outputs": [
    {
     "name": "stdout",
     "output_type": "stream",
     "text": [
      "HelloWorld.py                   img16.png\n",
      "\u001b[31mOdeFun.py\u001b[m\u001b[m*                      img2.png\n",
      "\u001b[31mPolarToCartesian.py\u001b[m\u001b[m*            img3.png\n",
      "Tutoriel Python notebook.ipynb  img4.png\n",
      "\u001b[34m__pycache__\u001b[m\u001b[m/                    img5.png\n",
      "\u001b[31mchgtcoord.py\u001b[m\u001b[m*                   img6.png\n",
      "data.txt                        img7.png\n",
      "\u001b[31mdebug.py\u001b[m\u001b[m*                       img8.png\n",
      "\u001b[31mdummy_module.py\u001b[m\u001b[m*                img9.png\n",
      "img1.png                        normalised_data.txt\n",
      "img10.png                       \u001b[31mping.py\u001b[m\u001b[m*\n",
      "img11.png                       \u001b[31mpingpong.py\u001b[m\u001b[m*\n",
      "img12.png                       \u001b[31mstudent_class.py\u001b[m\u001b[m*\n",
      "img15.png                       \u001b[31mtest_profile.py\u001b[m\u001b[m*\n"
     ]
    }
   ],
   "source": [
    "ls"
   ]
  },
  {
   "cell_type": "markdown",
   "metadata": {},
   "source": [
    "Comme défini ci-dessus, un script est simplement un fichier où est enregistré un ensemble de commandes qui sera exécutées dans la console exactement comme si on y entrait les commandes directement. Les fichiers de script s'enregistre dans le répertoire courant avec l'extension \".py\" et peuvent être lancé à partir de l'éditeur dans Spyder en cliquant sur run ou en exécutant la commande `%run` suivi du nom du fichier du script. Tout ce qui suit le caractère `#` est considéré comme un commentaire et ne sera donc pas exécuté. On peut faire intervenir dans un script des instructions simples, des importations de modules et des appels à des fonctions pour autant que celles-ci soient définies dans l'espace de travail."
   ]
  },
  {
   "cell_type": "code",
   "execution_count": 45,
   "metadata": {},
   "outputs": [
    {
     "name": "stdout",
     "output_type": "stream",
     "text": [
      "Hello 2021 bachelor students !\n",
      "Welcome to PROJ0001\n"
     ]
    }
   ],
   "source": [
    "%run HelloWorld.py"
   ]
  },
  {
   "cell_type": "markdown",
   "metadata": {},
   "source": [
    "<img src=\"img6.png\" style=\"width:1024\"/>\n",
    "\n",
    "Un script est donc simplement un fichier où est enregistré un ensemble de commandes qui sera exécutées dans la console exactement comme si on y entrait les commandes directement comme illustré ci-dessous: "
   ]
  },
  {
   "cell_type": "code",
   "execution_count": 46,
   "metadata": {},
   "outputs": [
    {
     "name": "stdout",
     "output_type": "stream",
     "text": [
      "Hello 2021 bachelor students !\n",
      "Welcome to PROJ0001\n"
     ]
    }
   ],
   "source": [
    "print(\"Hello 2021 bachelor students !\") #Ceci est un commentaire\n",
    "print(\"Welcome to PROJ0001\")"
   ]
  },
  {
   "cell_type": "markdown",
   "metadata": {},
   "source": [
    "Quand on exécute un script, tout le script s'exécute, et aucune fonction n'est appelée automatique, à l'inverse d'autres langages comme le `C` où la fonction `main()` est la première fonction exécutée. Ceci peut être problématique quand on importe un script plutôt que de le lancer directement. Afin d'éviter cela, il suffit d'ajouter dans le corps du script `if __name__=='__main__':` afin de spécifier que le code qui suit la condition ne sera exécuté que si le script est appelé directement et pas importé. Nous l'illustrons en dessous avec les scripts ping.py et pingpong.py."
   ]
  },
  {
   "cell_type": "code",
   "execution_count": 49,
   "metadata": {},
   "outputs": [
    {
     "name": "stdout",
     "output_type": "stream",
     "text": [
      "pong\n"
     ]
    }
   ],
   "source": [
    "#Script de pingpong.py\n",
    "def ping():\n",
    "    print(\"pong\")\n",
    "ping()"
   ]
  },
  {
   "cell_type": "code",
   "execution_count": 50,
   "metadata": {},
   "outputs": [
    {
     "name": "stdout",
     "output_type": "stream",
     "text": [
      "pong\n"
     ]
    }
   ],
   "source": [
    "#Script de ping.py\n",
    "\n",
    "def ping():\n",
    "    print(\"pong\")\n",
    "    \n",
    "if __name__ ==  '__main__':    \n",
    "    ping()"
   ]
  },
  {
   "cell_type": "code",
   "execution_count": 1,
   "metadata": {},
   "outputs": [
    {
     "name": "stdout",
     "output_type": "stream",
     "text": [
      "pong\n"
     ]
    }
   ],
   "source": [
    "import pingpong"
   ]
  },
  {
   "cell_type": "code",
   "execution_count": 2,
   "metadata": {},
   "outputs": [],
   "source": [
    "import ping"
   ]
  },
  {
   "cell_type": "code",
   "execution_count": 3,
   "metadata": {},
   "outputs": [
    {
     "name": "stdout",
     "output_type": "stream",
     "text": [
      "Variable   Type      Data/Info\n",
      "------------------------------\n",
      "ping       module    <module 'ping' from '/Use<...>hon101/Tutoriel/ping.py'>\n",
      "pingpong   module    <module 'pingpong' from '<...>01/Tutoriel/pingpong.py'>\n"
     ]
    }
   ],
   "source": [
    "whos"
   ]
  },
  {
   "cell_type": "markdown",
   "metadata": {},
   "source": [
    "### Indentation\n",
    "\n",
    "La plupart des langages informatiques ont une forme de structure début-fin, ou des accolades d'ouverture et de fermeture, ou quelque chose du genre pour délimiter clairement le morceau de code qui se trouve dans une boucle, ou dans différentes parties d'une structure. En général, les programmeurs aguéris indentent également leur code afin qu'il soit plus facile pour un lecteur de voir ce qui se trouve à l'intérieur d'une boucle, en particulier s'il y a plusieurs boucles imbriquées. Mais dans la plupart des langues, l'indentation n'est qu'une question de style et la structure début-fin de la langue détermine comment elle est réellement interprétée par l'ordinateur.\n",
    "\n",
    "En Python, l'indentation est tout ce qu'il y a de plus important. Il n'y a pas de début et de fin, seulement de l'indentation. Tout ce qui est censé se trouver à un niveau d'une boucle doit être indenté à ce niveau. Une fois que la boucle est terminée, l'indentation doit revenir au niveau précédent. \n",
    "\n",
    "Le nombre d'espaces à indenter à chaque niveau est une question de style, mais vous devez être cohérent dans un seul code. La norme est souvent de 4 espaces. Ceci permet de renre le code lisible. N'hésitez pas également à ajouter des commentaire afin d'augmentaer la lisibilté de votre code avec l'utilisation du caractère `#` ou des caractères `\"\"\" \"\"\"`\n",
    "permettant d'insérer des commentaires sur plusieurs lignes."
   ]
  },
  {
   "cell_type": "code",
   "execution_count": 4,
   "metadata": {},
   "outputs": [
    {
     "name": "stdout",
     "output_type": "stream",
     "text": [
      "x vaut -0.9899924966004454\n"
     ]
    }
   ],
   "source": [
    "\"\"\"\n",
    "Created on Wed Jan 20 11:19:08 2021\n",
    "\n",
    "Ce programme calcule le cosinus de i pour i allant de 0 à 3 avec un pas de 1 \n",
    "et affiche la dernière valeur obtenue. Il ne nécessite aucun paramètre d'entrée \n",
    "et ne fournit aucune sortie\n",
    "\n",
    "@author : proj0001\n",
    "\"\"\"\n",
    "\n",
    "# Import de librairies nécessaires à ce script\n",
    "import numpy\n",
    "\n",
    "\n",
    "# Corps principal du script\n",
    "for i in [0, 1, 2, 3]:\n",
    "    x = numpy.cos(i)\n",
    "\n",
    "# Affichage de la valeur de x\n",
    "print('x vaut', x)"
   ]
  },
  {
   "cell_type": "markdown",
   "metadata": {},
   "source": [
    "## Librairies, fonctions, variables locales et globales\n",
    "\n",
    "Au démarrage de Python, un certain nombre de fonctions de base sont disponibles, par exemple la fonction `print()` qui permet d'afficher des variables ou des chaines de caractères, ainsi que la syntaxe générale du langage. Cependant, la plupart des fonctions nécessaires à des fins spécifiques comme simplement calculer le cosinus d'un angle se trouvent dans des librairies qui ne se chargent pas par défaut afin de ne pas consommer trop de temps pour démarrer Python. Par exemple, si on essaye le lancer la fonction `cos()` on fait face à un message d'erreur:"
   ]
  },
  {
   "cell_type": "code",
   "execution_count": 5,
   "metadata": {},
   "outputs": [
    {
     "ename": "NameError",
     "evalue": "name 'cos' is not defined",
     "output_type": "error",
     "traceback": [
      "\u001b[0;31m---------------------------------------------------------------------------\u001b[0m",
      "\u001b[0;31mNameError\u001b[0m                                 Traceback (most recent call last)",
      "\u001b[0;32m<ipython-input-5-8d215ebe8f10>\u001b[0m in \u001b[0;36m<module>\u001b[0;34m\u001b[0m\n\u001b[0;32m----> 1\u001b[0;31m \u001b[0mcos\u001b[0m\u001b[0;34m(\u001b[0m\u001b[0;36m0\u001b[0m\u001b[0;34m)\u001b[0m\u001b[0;34m\u001b[0m\u001b[0;34m\u001b[0m\u001b[0m\n\u001b[0m",
      "\u001b[0;31mNameError\u001b[0m: name 'cos' is not defined"
     ]
    }
   ],
   "source": [
    "cos(0)"
   ]
  },
  {
   "cell_type": "markdown",
   "metadata": {},
   "source": [
    "La fonction cosinus est disponible dans la librairie `NumPy`. Les librairies sont importés dans l'espace de travail avec la commande d'importation `import`. Chaque librairie contient de nombreuses fonctions. Pour utiliser la fonction `cos()` de la librairie `NumPy`, il nous faut le spécifier. Pour ce faire, la syntaxe est la suivante: `librairie.fonction()`. "
   ]
  },
  {
   "cell_type": "code",
   "execution_count": 2,
   "metadata": {},
   "outputs": [
    {
     "data": {
      "text/plain": [
       "1.0"
      ]
     },
     "execution_count": 2,
     "metadata": {},
     "output_type": "execute_result"
    }
   ],
   "source": [
    "import numpy\n",
    "numpy.cos(0)"
   ]
  },
  {
   "cell_type": "code",
   "execution_count": 4,
   "metadata": {},
   "outputs": [
    {
     "data": {
      "text/plain": [
       "module"
      ]
     },
     "execution_count": 4,
     "metadata": {},
     "output_type": "execute_result"
    }
   ],
   "source": [
    "type(numpy)"
   ]
  },
  {
   "cell_type": "code",
   "execution_count": 5,
   "metadata": {},
   "outputs": [
    {
     "data": {
      "text/plain": [
       "numpy.ufunc"
      ]
     },
     "execution_count": 5,
     "metadata": {},
     "output_type": "execute_result"
    }
   ],
   "source": [
    "type(numpy.cos)"
   ]
  },
  {
   "cell_type": "markdown",
   "metadata": {},
   "source": [
    "Nous pouvons également choisir d'importer uniquement la fonction `cos()` du module `NumPy` et de la renommer, ici `cosinus`."
   ]
  },
  {
   "cell_type": "code",
   "execution_count": 6,
   "metadata": {},
   "outputs": [
    {
     "data": {
      "text/plain": [
       "1.0"
      ]
     },
     "execution_count": 6,
     "metadata": {},
     "output_type": "execute_result"
    }
   ],
   "source": [
    "from numpy import cos as cosinus \n",
    "cosinus(0)"
   ]
  },
  {
   "cell_type": "markdown",
   "metadata": {},
   "source": [
    "Pour définir une fonction, il suffit d'utiliser la syntaxe `def`. Les commandes ci-dessous entrées dans la console définissent une fonction \"PolarToCartesian\" qui prend en paramètres d'entrée le rayon \"rho\" et l'angle \"theta\" défini en degrés. Ces paramètres suivent le nom de la fonction et sont définis au sein des parenthèse. Cette fonction produit en sortie les coordonnées cartésiennces \"x\" et \"y\" correspondantes grâce à la commande `return`:"
   ]
  },
  {
   "cell_type": "code",
   "execution_count": 9,
   "metadata": {},
   "outputs": [],
   "source": [
    "# Importation de librairies ou de fonctions externes\n",
    "import numpy\n",
    "\n",
    "# Définition de la fonction\n",
    "def PolarToCartesian(rho,theta):\n",
    "    \"\"\"\n",
    "    Parameters\n",
    "    ----------\n",
    "    rho : rayon\n",
    "        \n",
    "    theta : angle en dégrés\n",
    "        \n",
    "\n",
    "    Returns\n",
    "    -------\n",
    "    Coordonnées cartésiennces d'un point défini  à partir de ses coordonnées polaires.\n",
    "\n",
    "    \"\"\"\n",
    "    \n",
    "    theta = theta * numpy.pi/180\n",
    "    x = rho * numpy.cos(theta)\n",
    "    y = rho * numpy.sin(theta)\n",
    "    return x,y"
   ]
  },
  {
   "cell_type": "code",
   "execution_count": 8,
   "metadata": {},
   "outputs": [
    {
     "name": "stdin",
     "output_type": "stream",
     "text": [
      "Once deleted, variables cannot be recovered. Proceed (y/[n])?  y\n"
     ]
    }
   ],
   "source": [
    "%reset"
   ]
  },
  {
   "cell_type": "code",
   "execution_count": 10,
   "metadata": {},
   "outputs": [
    {
     "name": "stdout",
     "output_type": "stream",
     "text": [
      "Variable           Type        Data/Info\n",
      "----------------------------------------\n",
      "PolarToCartesian   function    <function PolarToCartesian at 0x7f9930c85ca0>\n",
      "numpy              module      <module 'numpy' from '/Us<...>kages/numpy/__init__.py'>\n"
     ]
    }
   ],
   "source": [
    "whos"
   ]
  },
  {
   "cell_type": "markdown",
   "metadata": {},
   "source": [
    "Pour appeler une fonction dans la console une fois qu'elle y est définie, il faut taper son nom et lui faire suivre des parenthèses en y entrant les arguments de la fonction (si celle-ci en nécessite):"
   ]
  },
  {
   "cell_type": "code",
   "execution_count": 15,
   "metadata": {},
   "outputs": [
    {
     "data": {
      "text/plain": [
       "(1.0, 0.0)"
      ]
     },
     "execution_count": 15,
     "metadata": {},
     "output_type": "execute_result"
    }
   ],
   "source": [
    "PolarToCartesian(1,0)"
   ]
  },
  {
   "cell_type": "markdown",
   "metadata": {},
   "source": [
    "On peut voir ci-dessus que la fonction PolarToCartesian() nécessite l'utilisation de la librairie `NumPy` pour calculer les cosinus et les sinus de l'angle donné. Il est important de noter qu'une fonction est un ensemble de commandes exécutées dans un sous-environnement qui n'existe que pendant l'exécution de la fonction. Si nous essayons d'appeler la variable \"x\" en dehors de la fonction PolarToCartesian(), la console nous retournera un message d'erreur. Un appel à `who`  permet de vérifier que la fonction existe mais pas les variables définies au sein de cette fonction. Les variables définies au sein d'une fonction ont donc une **portée locale**.  "
   ]
  },
  {
   "cell_type": "code",
   "execution_count": 16,
   "metadata": {},
   "outputs": [
    {
     "ename": "NameError",
     "evalue": "name 'x' is not defined",
     "output_type": "error",
     "traceback": [
      "\u001b[0;31m---------------------------------------------------------------------------\u001b[0m",
      "\u001b[0;31mNameError\u001b[0m                                 Traceback (most recent call last)",
      "\u001b[0;32m<ipython-input-16-6fcf9dfbd479>\u001b[0m in \u001b[0;36m<module>\u001b[0;34m\u001b[0m\n\u001b[0;32m----> 1\u001b[0;31m \u001b[0mx\u001b[0m\u001b[0;34m\u001b[0m\u001b[0;34m\u001b[0m\u001b[0m\n\u001b[0m",
      "\u001b[0;31mNameError\u001b[0m: name 'x' is not defined"
     ]
    }
   ],
   "source": [
    "x"
   ]
  },
  {
   "cell_type": "code",
   "execution_count": 11,
   "metadata": {},
   "outputs": [
    {
     "name": "stdout",
     "output_type": "stream",
     "text": [
      "PolarToCartesian\t numpy\t \n"
     ]
    }
   ],
   "source": [
    "who"
   ]
  },
  {
   "cell_type": "markdown",
   "metadata": {},
   "source": [
    "Une variable peut avoir une **portée globale** si elle est déclarée en dehors d'une fonction."
   ]
  },
  {
   "cell_type": "code",
   "execution_count": 18,
   "metadata": {},
   "outputs": [
    {
     "name": "stdout",
     "output_type": "stream",
     "text": [
      "Je suis une variable globale\n"
     ]
    }
   ],
   "source": [
    "global_x = 'variable globale'\n",
    "\n",
    "def dummy_function():\n",
    "    print('Je suis une ' + global_x)\n",
    "\n",
    "dummy_function()"
   ]
  },
  {
   "cell_type": "markdown",
   "metadata": {},
   "source": [
    "Si l'on souhaite pouvoir modifier une variable globale au sein d'une fonction, il faut la déclarer comme `global`"
   ]
  },
  {
   "cell_type": "code",
   "execution_count": 19,
   "metadata": {},
   "outputs": [
    {
     "name": "stdout",
     "output_type": "stream",
     "text": [
      "Je suis une variable globale\n"
     ]
    }
   ],
   "source": [
    "global_x = 'variable globale'\n",
    "\n",
    "def dummy_function():\n",
    "    global global_x\n",
    "    global_x = 'Je suis une ' + global_x\n",
    "    \n",
    "dummy_function()\n",
    "print(global_x)"
   ]
  },
  {
   "cell_type": "markdown",
   "metadata": {},
   "source": [
    "Finalement, Python offre la possibilité de déclarer un variable comme étant **non-locale** avec le mot clé `nonlocal`. C'est utilisée lorsque des fonctions imbriquées sont implémentées dans un script. Ainsi, la fonction imbriquée a accès aux variables des fonctions englobantes. Supposons que l'on veuille calculer l'aire d'un disque et la circonférence d'un trou centré sur ce disque et dont le rayon est deux fois plus petit que le rayon du disque."
   ]
  },
  {
   "cell_type": "code",
   "execution_count": 20,
   "metadata": {},
   "outputs": [
    {
     "name": "stdout",
     "output_type": "stream",
     "text": [
      "9.42477796076938\n",
      "28.274333882308138\n"
     ]
    }
   ],
   "source": [
    "import numpy\n",
    "\n",
    "def cercle(rayon):\n",
    "    pi = numpy.pi   \n",
    "    aire_disque = pi * (rayon) ** 2\n",
    "    def circonference():\n",
    "        nonlocal rayon\n",
    "        rayon = rayon/2\n",
    "        circonference = 2 * pi * rayon \n",
    "        return circonference\n",
    "    print(circonference())   \n",
    "    return aire_disque\n",
    "print(cercle(3))     "
   ]
  },
  {
   "cell_type": "markdown",
   "metadata": {},
   "source": [
    "La portée d'une variable en Python est donc la partie du code où elle est visible. Elle peut être locale, non-locale, globale et \"built-in\". "
   ]
  },
  {
   "cell_type": "markdown",
   "metadata": {},
   "source": [
    "Sauf pour des fonctions très simples, vous ne voulez pas écrire les fonctions directement dans la console. Normalement, vous devrez créer un fichier `.py` contenant votre fonction et importer le module résultant dans votre session interactive ou dans votre script. Dans l'exemple suivant, nous avons copié l'ensemble des commandes de la fonction PolarToCartesian ci-dessus dans un fichier \"chgtcoord.py\". Nous importons le module \"chgtcoord\" que nous renommons \"coord\" et nous utilisons la fonction \"PolarToCartesian\" définie au sein du module."
   ]
  },
  {
   "cell_type": "code",
   "execution_count": 1,
   "metadata": {},
   "outputs": [],
   "source": [
    "import chgtcoord as coord"
   ]
  },
  {
   "cell_type": "code",
   "execution_count": 2,
   "metadata": {},
   "outputs": [
    {
     "name": "stdout",
     "output_type": "stream",
     "text": [
      "Variable   Type      Data/Info\n",
      "------------------------------\n",
      "coord      module    <module 'chgtcoord' from <...>1/Tutoriel/chgtcoord.py'>\n"
     ]
    }
   ],
   "source": [
    "whos"
   ]
  },
  {
   "cell_type": "code",
   "execution_count": 3,
   "metadata": {},
   "outputs": [
    {
     "data": {
      "text/plain": [
       "(1.0, 0.0)"
      ]
     },
     "execution_count": 3,
     "metadata": {},
     "output_type": "execute_result"
    }
   ],
   "source": [
    "coord.PolarToCartesian(1,0)"
   ]
  },
  {
   "cell_type": "markdown",
   "metadata": {},
   "source": [
    "### Liste de librairies utiles\n",
    "Nous listons ci-dessous une série de librairies et de fonctions utiles au déroulement du cours. N'hésitez pas à lire l'aide correspondante aux différentes fonctions proposées et à les tester par vous même.\n",
    "#### `matplotlib`\n",
    "##### Exemples de fonctions utiles\n",
    "pyplot\n",
    "\n",
    "plot()\n",
    "legend()\n",
    "xlabel()\n",
    "ylabel()\n",
    "show()\n",
    "xlim()\n",
    "grid()\n",
    "\n"
   ]
  },
  {
   "cell_type": "markdown",
   "metadata": {},
   "source": [
    "#### `numpy`\n",
    "##### Exemples de fonctions utiles\n",
    "abs() sum() zeros() asarray() arange()  min() max() where() linspace() shape() loadtxt() floor() ceil() log() cos()"
   ]
  },
  {
   "cell_type": "markdown",
   "metadata": {},
   "source": [
    "#### `scipy`\n",
    "##### Exemples de fonctions utiles\n",
    "integrate.solve_ivp()\n",
    "interpolate.splrep() interpolate.splev()"
   ]
  },
  {
   "cell_type": "markdown",
   "metadata": {},
   "source": [
    "## D'autres types d'objets: list, tuple et array\n",
    "\n",
    "Nous utiliserons la librairie `numpy` pour effectuer des opérations mathématiques sur des tableaux (appelés arrays). A côté de ces tableaux, Python possède d'autres types de données pouvant enregistrer des séquences d'éléments : les listes et les tuples. Ces derniers ne sont cependant pas utilisés pour effectuer des opérations mathématiques.\n",
    "### Liste et tuple\n"
   ]
  },
  {
   "cell_type": "markdown",
   "metadata": {},
   "source": [
    "Une liste se définit par des `[ ]` tandis qu'un tuple se définit par des `( )`. On peut modifier les valeurs entrées dans une liste mais pas dans un tuple."
   ]
  },
  {
   "cell_type": "code",
   "execution_count": 4,
   "metadata": {},
   "outputs": [
    {
     "name": "stdout",
     "output_type": "stream",
     "text": [
      "[2, 4, 6, 8, 10]\n"
     ]
    },
    {
     "data": {
      "text/plain": [
       "list"
      ]
     },
     "execution_count": 4,
     "metadata": {},
     "output_type": "execute_result"
    }
   ],
   "source": [
    "une_liste=[2, 4, 6, 8, 10]\n",
    "print(une_liste)\n",
    "type(une_liste)"
   ]
  },
  {
   "cell_type": "code",
   "execution_count": 5,
   "metadata": {},
   "outputs": [
    {
     "name": "stdout",
     "output_type": "stream",
     "text": [
      "(2, 4, 6, 8, 10)\n"
     ]
    },
    {
     "data": {
      "text/plain": [
       "tuple"
      ]
     },
     "execution_count": 5,
     "metadata": {},
     "output_type": "execute_result"
    }
   ],
   "source": [
    "un_tuple=(2, 4, 6, 8, 10)\n",
    "print(un_tuple)\n",
    "type(un_tuple)"
   ]
  },
  {
   "cell_type": "markdown",
   "metadata": {},
   "source": [
    "Si nous nous essayons à effectuer une opération sur ces deux objets, nous voyons que ce qui pourrait être compris comme une opération mathématique crée en fait une nouvelle liste qui contient `une_liste` deux fois tandis qu'il n'est pas possible de modifier `un_tuple`"
   ]
  },
  {
   "cell_type": "code",
   "execution_count": 6,
   "metadata": {},
   "outputs": [
    {
     "data": {
      "text/plain": [
       "[2, 4, 6, 8, 10, 2, 4, 6, 8, 10]"
      ]
     },
     "execution_count": 6,
     "metadata": {},
     "output_type": "execute_result"
    }
   ],
   "source": [
    "une_liste * 2"
   ]
  },
  {
   "cell_type": "code",
   "execution_count": 7,
   "metadata": {},
   "outputs": [
    {
     "ename": "TypeError",
     "evalue": "can only concatenate tuple (not \"int\") to tuple",
     "output_type": "error",
     "traceback": [
      "\u001b[0;31m---------------------------------------------------------------------------\u001b[0m",
      "\u001b[0;31mTypeError\u001b[0m                                 Traceback (most recent call last)",
      "\u001b[0;32m<ipython-input-7-da236c663ea6>\u001b[0m in \u001b[0;36m<module>\u001b[0;34m\u001b[0m\n\u001b[0;32m----> 1\u001b[0;31m \u001b[0mun_tuple\u001b[0m \u001b[0;34m+\u001b[0m \u001b[0;36m2\u001b[0m\u001b[0;34m\u001b[0m\u001b[0;34m\u001b[0m\u001b[0m\n\u001b[0m",
      "\u001b[0;31mTypeError\u001b[0m: can only concatenate tuple (not \"int\") to tuple"
     ]
    }
   ],
   "source": [
    "un_tuple + 2"
   ]
  },
  {
   "cell_type": "markdown",
   "metadata": {},
   "source": [
    "Les listes et les tuples peuvent contenir des séquences de plusieurs types, et pas uniquement des nombres. Dans l'exemple ci-dessous, nous créons une liste contenant une chaîne de caractères, des nombres, ainsi qu'une fonction."
   ]
  },
  {
   "cell_type": "code",
   "execution_count": 8,
   "metadata": {},
   "outputs": [
    {
     "name": "stdout",
     "output_type": "stream",
     "text": [
      "['liste', 1, 20.45, <built-in function print>]\n"
     ]
    }
   ],
   "source": [
    "une_liste_variee = ['liste', 1, 20.45, print]\n",
    "print(une_liste_variee)"
   ]
  },
  {
   "cell_type": "markdown",
   "metadata": {},
   "source": [
    "### Tableau à 1 dimension\n",
    "\n",
    "Pour effectuer des opérations mathématiques sur des objects contenant des séquences de valeurs, nous utiliserons des tableaux. Pour ceci, nous aurons besoin des librairies `NumPy` et `matplotlib`"
   ]
  },
  {
   "cell_type": "code",
   "execution_count": 9,
   "metadata": {},
   "outputs": [],
   "source": [
    "%matplotlib inline\n",
    "import numpy as np\n",
    "import matplotlib.pyplot as plt"
   ]
  },
  {
   "cell_type": "markdown",
   "metadata": {},
   "source": [
    "Ensuite, nous pouvons utiliser diffférentes fonctions pour créer un tableau à 1 dimension allant par exemple de 1 à 5:"
   ]
  },
  {
   "cell_type": "code",
   "execution_count": 10,
   "metadata": {},
   "outputs": [
    {
     "name": "stdout",
     "output_type": "stream",
     "text": [
      "x: [1 2 3 4 5] <class 'numpy.ndarray'>\n",
      "y: [1 2 3 4 5] <class 'numpy.ndarray'>\n",
      "z: [1. 2. 3. 4. 5.] <class 'numpy.ndarray'>\n"
     ]
    }
   ],
   "source": [
    "x = np.array([1, 2, 3, 4, 5]) # Nous avons insérer manuellement les éléments individuels \n",
    "                              # du tableau en utilisant une liste\n",
    "print('x:', x, type(x))\n",
    "\n",
    "y = np.arange(1,6,1) #Démarre de 1, s'arrête avant 6 avec un pas de 1\n",
    "print('y:', y, type(y))\n",
    "\n",
    "z = np.linspace(1,5,5) #Démarre de 1 jusque 5 avec 5 points espacés uniformément\n",
    "print('z:', z, type(z))"
   ]
  },
  {
   "cell_type": "markdown",
   "metadata": {},
   "source": [
    "En utilisant les fonctions `len` (built-in), `shape` (utile pour les tableaux à plus de 1 dimensions) et `ndim` (méthodes de `ndarray`), nous pouvons calculer les formes, les dimensions des tableaux et leurs longueurs:"
   ]
  },
  {
   "cell_type": "code",
   "execution_count": 21,
   "metadata": {},
   "outputs": [
    {
     "name": "stdout",
     "output_type": "stream",
     "text": [
      "5\n"
     ]
    }
   ],
   "source": [
    "print(len(x))"
   ]
  },
  {
   "cell_type": "code",
   "execution_count": 17,
   "metadata": {},
   "outputs": [
    {
     "data": {
      "text/plain": [
       "1"
      ]
     },
     "execution_count": 17,
     "metadata": {},
     "output_type": "execute_result"
    }
   ],
   "source": [
    "x.ndim"
   ]
  },
  {
   "cell_type": "code",
   "execution_count": 16,
   "metadata": {},
   "outputs": [
    {
     "data": {
      "text/plain": [
       "(5,)"
      ]
     },
     "execution_count": 16,
     "metadata": {},
     "output_type": "execute_result"
    }
   ],
   "source": [
    "x.shape"
   ]
  },
  {
   "cell_type": "markdown",
   "metadata": {},
   "source": [
    "Pour accèder aux éléments des tableaux, nous utilisons leurs indices linéaires en commencant par le 0. Le premier élément d'un tableau à 1 dimension a donc l'indice `0`. Le dernier élément d'un tableau à 1 dimension peut être accédé à l'aide de l'indice `-1`. Les indices sont spécifiés en utilisant des crochets `[indice]`. Les valeurs des éléments peuvent ainsi être modifiés."
   ]
  },
  {
   "cell_type": "code",
   "execution_count": 22,
   "metadata": {},
   "outputs": [
    {
     "name": "stdout",
     "output_type": "stream",
     "text": [
      "La valeur du premier élément de x est 1\n",
      "Le premier élément de x vaut maintenant 10\n"
     ]
    }
   ],
   "source": [
    "print('La valeur du premier élément de x est', x[0])\n",
    "\n",
    "x[0]=10\n",
    "\n",
    "print('Le premier élément de x vaut maintenant', x[0])"
   ]
  },
  {
   "cell_type": "code",
   "execution_count": 23,
   "metadata": {},
   "outputs": [
    {
     "data": {
      "text/plain": [
       "5"
      ]
     },
     "execution_count": 23,
     "metadata": {},
     "output_type": "execute_result"
    }
   ],
   "source": [
    "x[-1]"
   ]
  },
  {
   "cell_type": "markdown",
   "metadata": {},
   "source": [
    "On peut également accèder à plusieurs éléments en utilisant `:` et en spécifiant le début, la fin et le pas. "
   ]
  },
  {
   "cell_type": "code",
   "execution_count": 24,
   "metadata": {},
   "outputs": [
    {
     "data": {
      "text/plain": [
       "array([10,  3])"
      ]
     },
     "execution_count": 24,
     "metadata": {},
     "output_type": "execute_result"
    }
   ],
   "source": [
    "x[0:4:2] #x[début:avant_fin:pas]"
   ]
  },
  {
   "cell_type": "code",
   "execution_count": 25,
   "metadata": {},
   "outputs": [
    {
     "data": {
      "text/plain": [
       "array([10,  2,  3,  4,  5])"
      ]
     },
     "execution_count": 25,
     "metadata": {},
     "output_type": "execute_result"
    }
   ],
   "source": [
    "x[:]"
   ]
  },
  {
   "cell_type": "markdown",
   "metadata": {},
   "source": [
    "Il est également possible de parcourir les tableaux à l'envers"
   ]
  },
  {
   "cell_type": "code",
   "execution_count": 26,
   "metadata": {},
   "outputs": [
    {
     "data": {
      "text/plain": [
       "array([ 5,  4,  3,  2, 10])"
      ]
     },
     "execution_count": 26,
     "metadata": {},
     "output_type": "execute_result"
    }
   ],
   "source": [
    "x[len(x)::-1]"
   ]
  },
  {
   "cell_type": "markdown",
   "metadata": {},
   "source": [
    "On peut également rechercher certains éléments spécifiques d'un `array` avec la fonction `where` comme illustré ci-dessous:"
   ]
  },
  {
   "cell_type": "code",
   "execution_count": 27,
   "metadata": {},
   "outputs": [
    {
     "name": "stdout",
     "output_type": "stream",
     "text": [
      "les indices correspondants à des valeurs négatives sont: (array([0, 4]),)\n",
      "les valeurs négatives de a sont: [ -1. -10.]\n"
     ]
    }
   ],
   "source": [
    "a = np.array([-1, 0, 1.3, 4, -10, 0.4, 3, 9, 1])\n",
    "ind_a_neg = np.where(a<0)\n",
    "print('les indices correspondants à des valeurs négatives sont:', ind_a_neg)\n",
    "print('les valeurs négatives de a sont:', a[ind_a_neg])"
   ]
  },
  {
   "cell_type": "markdown",
   "metadata": {},
   "source": [
    "Les `slices` en Python permettent de découper des objets contenant des séquences de valeurs d'un objet `a` (nparrary, list, tuple, chaîne de caractères) en ne sélectionnant qu'une partie de ceux-ci. La syntaxe des slices est `a[i:j]` ou `s[i:j:k]`, les indices i (début), j (fin) et k (incrément) peuvent être omis:"
   ]
  },
  {
   "cell_type": "code",
   "execution_count": 28,
   "metadata": {},
   "outputs": [
    {
     "data": {
      "text/plain": [
       "str"
      ]
     },
     "execution_count": 28,
     "metadata": {},
     "output_type": "execute_result"
    }
   ],
   "source": [
    "a = 'abcdefghijklmnopqrstuvwxyz'\n",
    "type(a)\n"
   ]
  },
  {
   "cell_type": "code",
   "execution_count": 29,
   "metadata": {},
   "outputs": [
    {
     "data": {
      "text/plain": [
       "'ab'"
      ]
     },
     "execution_count": 29,
     "metadata": {},
     "output_type": "execute_result"
    }
   ],
   "source": [
    "a[0:2]"
   ]
  },
  {
   "cell_type": "code",
   "execution_count": 30,
   "metadata": {},
   "outputs": [
    {
     "data": {
      "text/plain": [
       "'abcdefghijklmnopqrstuvwxyz'"
      ]
     },
     "execution_count": 30,
     "metadata": {},
     "output_type": "execute_result"
    }
   ],
   "source": [
    "a[0:]"
   ]
  },
  {
   "cell_type": "code",
   "execution_count": 31,
   "metadata": {},
   "outputs": [
    {
     "data": {
      "text/plain": [
       "'acegikmoqsuwy'"
      ]
     },
     "execution_count": 31,
     "metadata": {},
     "output_type": "execute_result"
    }
   ],
   "source": [
    "a[0:26:2]"
   ]
  },
  {
   "cell_type": "code",
   "execution_count": 32,
   "metadata": {},
   "outputs": [
    {
     "data": {
      "text/plain": [
       "'abcdefghijkl'"
      ]
     },
     "execution_count": 32,
     "metadata": {},
     "output_type": "execute_result"
    }
   ],
   "source": [
    "a[:12]"
   ]
  },
  {
   "cell_type": "code",
   "execution_count": 33,
   "metadata": {},
   "outputs": [
    {
     "data": {
      "text/plain": [
       "'abcdefghijklmnopqrstuvwxyz'"
      ]
     },
     "execution_count": 33,
     "metadata": {},
     "output_type": "execute_result"
    }
   ],
   "source": [
    "a[:]"
   ]
  },
  {
   "cell_type": "code",
   "execution_count": 34,
   "metadata": {},
   "outputs": [
    {
     "data": {
      "text/plain": [
       "'z'"
      ]
     },
     "execution_count": 34,
     "metadata": {},
     "output_type": "execute_result"
    }
   ],
   "source": [
    "a[-1]"
   ]
  },
  {
   "cell_type": "code",
   "execution_count": 35,
   "metadata": {},
   "outputs": [],
   "source": [
    "a_tuple=(1, 2, 3, 'quatre')"
   ]
  },
  {
   "cell_type": "code",
   "execution_count": 36,
   "metadata": {},
   "outputs": [
    {
     "data": {
      "text/plain": [
       "(3, 'quatre')"
      ]
     },
     "execution_count": 36,
     "metadata": {},
     "output_type": "execute_result"
    }
   ],
   "source": [
    "a_tuple[2:4]"
   ]
  },
  {
   "cell_type": "code",
   "execution_count": 37,
   "metadata": {},
   "outputs": [
    {
     "data": {
      "text/plain": [
       "[1, 3, 4]"
      ]
     },
     "execution_count": 37,
     "metadata": {},
     "output_type": "execute_result"
    }
   ],
   "source": [
    "a_liste=[1, 3, 4, 4]\n",
    "a_liste[0:3]"
   ]
  },
  {
   "cell_type": "code",
   "execution_count": 38,
   "metadata": {},
   "outputs": [
    {
     "data": {
      "text/plain": [
       "array([1, 3, 4])"
      ]
     },
     "execution_count": 38,
     "metadata": {},
     "output_type": "execute_result"
    }
   ],
   "source": [
    "a_array=np.array(a_liste)\n",
    "a_array[0:3]"
   ]
  },
  {
   "cell_type": "markdown",
   "metadata": {},
   "source": [
    "### Opérations sur un tableau à 1 dimension"
   ]
  },
  {
   "cell_type": "markdown",
   "metadata": {},
   "source": [
    "Lorsque l'on effectue des opérations sur des `arrays` `NumPy`, la vitesse d'exécution peut être grandement améliorée en évitant l'utilisation de boucles pour parcourir les tableaux et en utilisant les différentes fonctions de `NumPy` qui peuvent s'appliquer directement aux tableaux."
   ]
  },
  {
   "cell_type": "code",
   "execution_count": 39,
   "metadata": {},
   "outputs": [
    {
     "name": "stdout",
     "output_type": "stream",
     "text": [
      "[ 0.84147098  0.90929743  0.14112001 -0.7568025  -0.95892427]\n"
     ]
    }
   ],
   "source": [
    "x = np.arange(1,6,1)\n",
    "y = np.zeros(x.shape)  #initialisation de y de même taille que x\n",
    "for i in range(len(x)):\n",
    "    y[i] = np.sin(x[i])\n",
    "print(y)"
   ]
  },
  {
   "cell_type": "markdown",
   "metadata": {},
   "source": [
    "Ceci peut être simplement écrit:"
   ]
  },
  {
   "cell_type": "code",
   "execution_count": 40,
   "metadata": {},
   "outputs": [
    {
     "name": "stdout",
     "output_type": "stream",
     "text": [
      "[ 0.84147098  0.90929743  0.14112001 -0.7568025  -0.95892427]\n"
     ]
    }
   ],
   "source": [
    "y = np.sin(x)\n",
    "print(y)"
   ]
  },
  {
   "cell_type": "markdown",
   "metadata": {},
   "source": [
    "Les opérations dites vectorielles peuvent s'appliquer aux tableaux à 1 dimension de type `array` en utilisant les fonctions appropriées de `NumPy` tandis les opérations de base s'appliquent élément par élément. Par exemple la multiplication de x par y à l'aide de l'opérateur `*` donne :"
   ]
  },
  {
   "cell_type": "code",
   "execution_count": 41,
   "metadata": {},
   "outputs": [
    {
     "name": "stdout",
     "output_type": "stream",
     "text": [
      "x: [1 2 3 4 5]\n",
      "y: [0 1 2 3 4]\n"
     ]
    },
    {
     "data": {
      "text/plain": [
       "array([ 0,  2,  6, 12, 20])"
      ]
     },
     "execution_count": 41,
     "metadata": {},
     "output_type": "execute_result"
    }
   ],
   "source": [
    "x = np.arange(1,6,1)\n",
    "y = np.arange(0,5,1)\n",
    "print('x:', x)\n",
    "print('y:', y)\n",
    "x * y\n"
   ]
  },
  {
   "cell_type": "markdown",
   "metadata": {},
   "source": [
    "Pour effectuer le produit scalaire des vecteurs x et y, on peut utiliser la fonction `dot` de `NumPy`"
   ]
  },
  {
   "cell_type": "code",
   "execution_count": 42,
   "metadata": {},
   "outputs": [
    {
     "data": {
      "text/plain": [
       "40"
      ]
     },
     "execution_count": 42,
     "metadata": {},
     "output_type": "execute_result"
    }
   ],
   "source": [
    "np.dot(x,y)"
   ]
  },
  {
   "cell_type": "markdown",
   "metadata": {},
   "source": [
    "### Tableaux à 2 dimensions\n",
    "\n",
    "Les tableaux peuvent être de dimensions arbitraires, mais nous utiliserons dans ce cours fréquemment les tableaux à 2 dimensions pour lesquels des opérations matricielles peuvent être définies. Pour créer ces tableaux, nous pouvons réutiliser la fonction `array` de `NumPy`"
   ]
  },
  {
   "cell_type": "code",
   "execution_count": 44,
   "metadata": {},
   "outputs": [
    {
     "name": "stdout",
     "output_type": "stream",
     "text": [
      "[[ 1  2  3  4  5]\n",
      " [ 6  7  8  9 10]\n",
      " [11 12 13 14 15]]\n",
      "A has 2 dimensions\n"
     ]
    }
   ],
   "source": [
    "A = np.array([[1, 2, 3, 4, 5], [6, 7, 8, 9, 10], [11, 12, 13, 14, 15]])\n",
    "print(A)\n",
    "print('A has', np.ndim(A), 'dimensions')\n"
   ]
  },
  {
   "cell_type": "code",
   "execution_count": 46,
   "metadata": {},
   "outputs": [
    {
     "name": "stdout",
     "output_type": "stream",
     "text": [
      "La taille de A est:  (3, 5)\n"
     ]
    }
   ],
   "source": [
    "print('La taille de A est: ',A.shape)"
   ]
  },
  {
   "cell_type": "markdown",
   "metadata": {},
   "source": [
    "L'indice d'un tableau à 2 dimensions est spécifié par deux valeurs, la première correspond aux lignes, la seconde au colonne du tableau et sont données à l'aide d'un tuple (donc défini entre parenthèse). Dans l'exemple ci-dessous, nous créons un tableau à 2 dimensions rempli de 0 et nous le modifions en changeant 1 élément, puis une partie de ligne et enfin le dernier élément."
   ]
  },
  {
   "cell_type": "code",
   "execution_count": 47,
   "metadata": {},
   "outputs": [
    {
     "name": "stdout",
     "output_type": "stream",
     "text": [
      "Initialisation de B:\n",
      "[[0. 0. 0. 0. 0.]\n",
      " [0. 0. 0. 0. 0.]\n",
      " [0. 0. 0. 0. 0.]]\n",
      "Modification de B:\n",
      "[[  5.   0.   0.   0.   0.]\n",
      " [  0.   0.  10.  10.  10.]\n",
      " [  0.   0.   0.   0. 500.]]\n"
     ]
    }
   ],
   "source": [
    "B = np.zeros((3,5))\n",
    "print('Initialisation de B:')\n",
    "print(B)\n",
    "print('Modification de B:')\n",
    "B[0,0] = 5\n",
    "B[1,2:] = 10\n",
    "B[-1,-1] = 500\n",
    "print(B)"
   ]
  },
  {
   "cell_type": "markdown",
   "metadata": {},
   "source": [
    "Comme précédemment, les opérations de base s'effectuent élément par élément:"
   ]
  },
  {
   "cell_type": "code",
   "execution_count": 48,
   "metadata": {},
   "outputs": [
    {
     "name": "stdout",
     "output_type": "stream",
     "text": [
      "[[5.0e+00 0.0e+00 0.0e+00 0.0e+00 0.0e+00]\n",
      " [0.0e+00 0.0e+00 8.0e+01 9.0e+01 1.0e+02]\n",
      " [0.0e+00 0.0e+00 0.0e+00 0.0e+00 7.5e+03]]\n"
     ]
    }
   ],
   "source": [
    "print(A * B)"
   ]
  },
  {
   "cell_type": "markdown",
   "metadata": {},
   "source": [
    "L'objet `array` de `NumPy`,ici A, possède certaines méthodes définies automatiquement comme la transposée de A qui se note `A.T`. Les opérations matricielles peuvent être effectuées en utilisant les fonction de `NumPy`:"
   ]
  },
  {
   "cell_type": "code",
   "execution_count": 49,
   "metadata": {},
   "outputs": [
    {
     "name": "stdout",
     "output_type": "stream",
     "text": [
      "[[5.00e+00 0.00e+00 6.00e+01 6.00e+01 5.56e+03]\n",
      " [1.00e+01 0.00e+00 7.00e+01 7.00e+01 6.07e+03]\n",
      " [1.50e+01 0.00e+00 8.00e+01 8.00e+01 6.58e+03]\n",
      " [2.00e+01 0.00e+00 9.00e+01 9.00e+01 7.09e+03]\n",
      " [2.50e+01 0.00e+00 1.00e+02 1.00e+02 7.60e+03]]\n"
     ]
    }
   ],
   "source": [
    "print(np.dot(A.T,B))"
   ]
  },
  {
   "cell_type": "markdown",
   "metadata": {},
   "source": [
    "## Résolution de systèmes d'équations linéaires\n",
    "\n",
    "Pour résoudre un système linéaire Ax = b, par exemple"
   ]
  },
  {
   "cell_type": "markdown",
   "metadata": {},
   "source": [
    "\n",
    "$$ \\left(\n",
    "\\begin{array}{ccc}\n",
    "5 & 6 & 10 \\\\\n",
    "-3 & 0 & 14 \\\\\n",
    "0 & -7 & 21 \n",
    "\\end{array}\\right)\n",
    "\\left(\n",
    "\\begin{array}{c}\n",
    "x_1 \\\\\n",
    "x_2 \\\\\n",
    "x_3 \n",
    "\\end{array}\\right) = \n",
    "\\left(\n",
    "\\begin{array}{c}\n",
    "4 \\\\\n",
    "10 \\\\\n",
    "0 \n",
    "\\end{array}\\right)\n",
    "$$"
   ]
  },
  {
   "cell_type": "markdown",
   "metadata": {},
   "source": [
    "nous pouvons utiliser la méthode `solve`, qui fait partie de la sous-librairie `linalg` de `NumPy`. La méthode de résolution prend en entrée un tableau bidimensionnel (la matrice A) et un tableau unidimensionnel (le côté droit) et renvoie la solution. "
   ]
  },
  {
   "cell_type": "code",
   "execution_count": 50,
   "metadata": {},
   "outputs": [
    {
     "name": "stdout",
     "output_type": "stream",
     "text": [
      "[-1.45454545  1.20779221  0.4025974 ]\n"
     ]
    }
   ],
   "source": [
    "A = np.array([[5, 6, 10],[-3, 0, 14], [0, -7, 21]])\n",
    "b = np.array([4, 10, 0])\n",
    "solution = np.linalg.solve(A, b)\n",
    "print(solution)\n"
   ]
  },
  {
   "cell_type": "markdown",
   "metadata": {},
   "source": [
    "On peut simplement vérifier que la solution fournie est la bonne en multipliant la matrice A par la solution"
   ]
  },
  {
   "cell_type": "code",
   "execution_count": 51,
   "metadata": {},
   "outputs": [
    {
     "data": {
      "text/plain": [
       "array([ 4., 10.,  0.])"
      ]
     },
     "execution_count": 51,
     "metadata": {},
     "output_type": "execute_result"
    }
   ],
   "source": [
    "np.dot(A,solution)"
   ]
  },
  {
   "cell_type": "markdown",
   "metadata": {},
   "source": [
    "## Structures de contrôle:  `for`, `if`/`elif`/`else`,`while`, `break`"
   ]
  },
  {
   "cell_type": "markdown",
   "metadata": {},
   "source": [
    "Python intègre de base des structures de contrôle. Elles permettent d'effectuer des boucles, de vérifier si certaines conditions sont remplies avant d'exécuter certaines lignes de codes. Nous aurons ici besoin de `numpy` et de `matplotlib` nous commencons donc par les importer."
   ]
  },
  {
   "cell_type": "markdown",
   "metadata": {},
   "source": [
    "### La boucle `for`"
   ]
  },
  {
   "cell_type": "markdown",
   "metadata": {},
   "source": [
    "La syntaxe est la suivante et permet d'exécuter un bloc de commandes de manière répetée :"
   ]
  },
  {
   "cell_type": "code",
   "execution_count": 52,
   "metadata": {},
   "outputs": [
    {
     "name": "stdout",
     "output_type": "stream",
     "text": [
      "La valeur de i est : 0\n",
      "La valeur de i est : 1\n",
      "La valeur de i est : 2\n",
      "La valeur de i est : 3\n",
      "La valeur de i est : 4\n",
      "Nous sommes sortis de la boucle\n"
     ]
    }
   ],
   "source": [
    "for i in [0, 1, 2, 3, 4]: # La ligne se termine par :\n",
    "    print('La valeur de i est :', i) # Le bloc de commandes est indenté\n",
    "print('Nous sommes sortis de la boucle')"
   ]
  },
  {
   "cell_type": "markdown",
   "metadata": {},
   "source": [
    "Il faut remarquer ici qu'à la fin du `for` il est nécessaire d'introduire `:` et d'indenter le bloc de commandes à exécuter au sein de la boucle. La fin de l'indentation met fin à la boucle.\n",
    "\n",
    "Nous pouvons utiliser les boucles `for` pour affecter des valeurs à des éléments d'un tableau"
   ]
  },
  {
   "cell_type": "code",
   "execution_count": 53,
   "metadata": {},
   "outputs": [
    {
     "data": {
      "image/png": "[encoded data removed]",
      "text/plain": [
       "<Figure size 432x288 with 1 Axes>"
      ]
     },
     "metadata": {
      "needs_background": "light"
     },
     "output_type": "display_data"
    }
   ],
   "source": [
    "x = np.linspace(0, 2*np.pi, 200)\n",
    "y = np.zeros_like(x)\n",
    "for i in range(len(x)):\n",
    "    y[i] = np.cos(x[i])\n",
    "plt.plot(x,y);"
   ]
  },
  {
   "cell_type": "markdown",
   "metadata": {},
   "source": [
    "Notons que nous aurions dû tirer parti de la vectorisation offerte par `NumPy` et éviter d'écrire une boucle `for`:"
   ]
  },
  {
   "cell_type": "code",
   "execution_count": 54,
   "metadata": {},
   "outputs": [
    {
     "data": {
      "image/png": "[encoded data removed]",
      "text/plain": [
       "<Figure size 432x288 with 1 Axes>"
      ]
     },
     "metadata": {
      "needs_background": "light"
     },
     "output_type": "display_data"
    }
   ],
   "source": [
    "plt.plot(x,np.cos(x));"
   ]
  },
  {
   "cell_type": "markdown",
   "metadata": {},
   "source": [
    "### `if`/`elif`/`else`\n",
    "\n",
    "La condition `if` permet d'exécuter un bloc de commandes pour autant que le résultat de l'évaluation de `if` soit `True`"
   ]
  },
  {
   "cell_type": "code",
   "execution_count": 55,
   "metadata": {},
   "outputs": [
    {
     "name": "stdout",
     "output_type": "stream",
     "text": [
      "a est bien égale à 2\n"
     ]
    }
   ],
   "source": [
    "a = 2 \n",
    "if a == 2:\n",
    "    print('a est bien égale à', a)"
   ]
  },
  {
   "cell_type": "markdown",
   "metadata": {},
   "source": [
    "La condition `if` peut être suivie d'un `else` qui sera évaluée si l'évaluation du `if` est `False`"
   ]
  },
  {
   "cell_type": "code",
   "execution_count": 56,
   "metadata": {},
   "outputs": [
    {
     "name": "stdout",
     "output_type": "stream",
     "text": [
      "a est différent de 2\n"
     ]
    }
   ],
   "source": [
    "a = 3 \n",
    "if a == 2:\n",
    "    print('a est bien égale à', a)\n",
    "else:\n",
    "    print('a est différent de 2')"
   ]
  },
  {
   "cell_type": "markdown",
   "metadata": {},
   "source": [
    "Finalement, nous pouvons utiliser la commande `elif` pour rajouter des conditions avant l'utilisation du `else`"
   ]
  },
  {
   "cell_type": "code",
   "execution_count": 57,
   "metadata": {},
   "outputs": [
    {
     "name": "stdout",
     "output_type": "stream",
     "text": [
      "a est bien égale à 3\n"
     ]
    }
   ],
   "source": [
    "a = 3\n",
    "if a == 2:\n",
    "    print('a est bien égale à', a)\n",
    "elif a==3:\n",
    "    print('a est bien égale à', a)\n",
    "else:\n",
    "    print('a est différent de 2 et de 3')"
   ]
  },
  {
   "cell_type": "markdown",
   "metadata": {},
   "source": [
    "### La boucle `while`/`break`"
   ]
  },
  {
   "cell_type": "markdown",
   "metadata": {},
   "source": [
    "La boucle `while` permet d'éxécuter un bloc de commandes jusqu'à ce qu'une condition soit rencontrée ou lorsqu'une commande `break` est rencontrée. La syntaxe est la suivante:"
   ]
  },
  {
   "cell_type": "code",
   "execution_count": 58,
   "metadata": {},
   "outputs": [
    {
     "name": "stdout",
     "output_type": "stream",
     "text": [
      "1\n",
      "2\n",
      "3\n",
      "4\n",
      "5\n",
      "6\n"
     ]
    }
   ],
   "source": [
    "a = 0\n",
    "while a < 6:\n",
    "    a += 1\n",
    "    print(a)"
   ]
  },
  {
   "cell_type": "markdown",
   "metadata": {},
   "source": [
    "Il est important d'être vigilant à ne pas créer de boucle infinie et d'utiliser la commande `break` après un certain nombre de passage dans la boucle."
   ]
  },
  {
   "cell_type": "code",
   "execution_count": 59,
   "metadata": {},
   "outputs": [
    {
     "name": "stdout",
     "output_type": "stream",
     "text": [
      "1\n",
      "2\n",
      "3\n",
      "4\n",
      "5\n",
      "6\n",
      "7\n",
      "8\n",
      "9\n",
      "10\n",
      "11\n",
      "12\n",
      "13\n",
      "14\n",
      "15\n",
      "16\n",
      "Sortie anticipée de boucle\n",
      "Nous sommes sortis de la boucle\n"
     ]
    }
   ],
   "source": [
    "a = 0\n",
    "while a < 60000:\n",
    "    a += 1\n",
    "    print(a)\n",
    "    if a > 15:\n",
    "        print('Sortie anticipée de boucle')\n",
    "        break\n",
    "print('Nous sommes sortis de la boucle')"
   ]
  },
  {
   "cell_type": "markdown",
   "metadata": {},
   "source": [
    "## Les polynômes"
   ]
  },
  {
   "cell_type": "markdown",
   "metadata": {},
   "source": [
    "Les polynômes peuvent être conçus et manipulés à travers la classe `numpy.polynomial` qui contient différentes possibilités (puissance, Chebyshev, Legendre...). Par exemple le polynôme\n",
    "\n",
    "$$ x^4-12x^3+5x$$ \n",
    "\n",
    "peut-être représenter par ses coefficients repris dans la `liste` `coef` ci-dessous"
   ]
  },
  {
   "cell_type": "code",
   "execution_count": 60,
   "metadata": {},
   "outputs": [],
   "source": [
    "coef = [0, 5, 0, -12, 1]"
   ]
  },
  {
   "cell_type": "code",
   "execution_count": 61,
   "metadata": {},
   "outputs": [
    {
     "data": {
      "text/latex": [
       "$x \\mapsto \\color{LightGray}{\\text{0.0}} + \\text{5.0}\\,x\\color{LightGray}{ + \\text{0.0}\\,x^{2}} - \\text{12.0}\\,x^{3} + \\text{1.0}\\,x^{4}$"
      ],
      "text/plain": [
       "Polynomial([  0.,   5.,   0., -12.,   1.], domain=[-1,  1], window=[-1,  1])"
      ]
     },
     "execution_count": 61,
     "metadata": {},
     "output_type": "execute_result"
    }
   ],
   "source": [
    "from numpy.polynomial import Polynomial as poly\n",
    "p = poly(coef)\n",
    "p"
   ]
  },
  {
   "cell_type": "code",
   "execution_count": 62,
   "metadata": {},
   "outputs": [
    {
     "data": {
      "text/plain": [
       "numpy.polynomial.polynomial.Polynomial"
      ]
     },
     "execution_count": 62,
     "metadata": {},
     "output_type": "execute_result"
    }
   ],
   "source": [
    "type(p)"
   ]
  },
  {
   "cell_type": "code",
   "execution_count": 63,
   "metadata": {},
   "outputs": [
    {
     "name": "stdout",
     "output_type": "stream",
     "text": [
      "poly([  0.   5.   0. -12.   1.])\n"
     ]
    }
   ],
   "source": [
    "print(p)"
   ]
  },
  {
   "cell_type": "markdown",
   "metadata": {},
   "source": [
    "Nous pouvons ensuite effectuer un nombre important d'opérations comme calculer la dérivée du polynôme, l'évaluer en un point, par exemple en `x = 5`, ou encore déterminer ses racines:"
   ]
  },
  {
   "cell_type": "code",
   "execution_count": 64,
   "metadata": {},
   "outputs": [
    {
     "data": {
      "text/latex": [
       "$x \\mapsto \\text{5.0}\\color{LightGray}{ + \\text{0.0}\\,x} - \\text{36.0}\\,x^{2} + \\text{4.0}\\,x^{3}$"
      ],
      "text/plain": [
       "Polynomial([  5.,   0., -36.,   4.], domain=[-1.,  1.], window=[-1.,  1.])"
      ]
     },
     "execution_count": 64,
     "metadata": {},
     "output_type": "execute_result"
    }
   ],
   "source": [
    "p.deriv(1)"
   ]
  },
  {
   "cell_type": "code",
   "execution_count": 65,
   "metadata": {},
   "outputs": [
    {
     "data": {
      "text/plain": [
       "-850.0"
      ]
     },
     "execution_count": 65,
     "metadata": {},
     "output_type": "execute_result"
    }
   ],
   "source": [
    "p(5)"
   ]
  },
  {
   "cell_type": "code",
   "execution_count": 66,
   "metadata": {},
   "outputs": [
    {
     "data": {
      "text/plain": [
       "array([-0.62921183,  0.        ,  0.66413705, 11.96507478])"
      ]
     },
     "execution_count": 66,
     "metadata": {},
     "output_type": "execute_result"
    }
   ],
   "source": [
    "p.roots()"
   ]
  },
  {
   "cell_type": "markdown",
   "metadata": {},
   "source": [
    "Si un ensemble de points nous est donné mais que nous ne connaissons pas le polynôme associé, nous pouvons ajuster au sens des moindres carrés un polynôme d'un certain degré à ces points en utiliser la fonction `polyfit`"
   ]
  },
  {
   "cell_type": "code",
   "execution_count": 67,
   "metadata": {},
   "outputs": [],
   "source": [
    "from numpy.polynomial.polynomial import polyfit\n",
    "coef2 = polyfit([0, 1, 4, 5],[-1, 2, 1, 4],3)"
   ]
  },
  {
   "cell_type": "code",
   "execution_count": 68,
   "metadata": {},
   "outputs": [
    {
     "name": "stdout",
     "output_type": "stream",
     "text": [
      "poly([-1.          5.16666667 -2.5         0.33333333])\n"
     ]
    }
   ],
   "source": [
    "p2 = poly(coef2)\n",
    "print(p2)"
   ]
  },
  {
   "cell_type": "markdown",
   "metadata": {},
   "source": [
    "## Graphiques"
   ]
  },
  {
   "cell_type": "markdown",
   "metadata": {},
   "source": [
    "### Les bases\n",
    "Pour effectuer des graphiques dans Python, nous utiliserons la librairie `matplotlib` et la sous-librairie `pyplot`. La commande `%matplotlib inline` est ici utilisée pour ne pas faire apparaître les graphiques sur une page à part. L'ensembe des graphiques disponibles est décrit ici: https://matplotlib.org/gallery.html"
   ]
  },
  {
   "cell_type": "code",
   "execution_count": 69,
   "metadata": {},
   "outputs": [],
   "source": [
    "%matplotlib inline\n",
    "import matplotlib.pyplot as plt"
   ]
  },
  {
   "cell_type": "markdown",
   "metadata": {},
   "source": [
    "Nous pouvons maintenant faire appel aux fonctions graphiques en utilisant la commande `plt.fonction`, par exemple la fonction `plot(x, y, chaîne de caractères)` où la chaine de caratères définit le type de marqueur ou de trait utilisé."
   ]
  },
  {
   "cell_type": "code",
   "execution_count": 70,
   "metadata": {},
   "outputs": [
    {
     "data": {
      "image/png": "[encoded data removed]",
      "text/plain": [
       "<Figure size 432x288 with 1 Axes>"
      ]
     },
     "metadata": {
      "needs_background": "light"
     },
     "output_type": "display_data"
    }
   ],
   "source": [
    "plt.plot(1,0,'or');"
   ]
  },
  {
   "cell_type": "markdown",
   "metadata": {},
   "source": [
    "Nous pouvons ainsi visualiser le polynôme généré ci-dessus à l'aide des tableaux `x` et `y`"
   ]
  },
  {
   "cell_type": "code",
   "execution_count": 71,
   "metadata": {},
   "outputs": [
    {
     "data": {
      "image/png": "[encoded data removed]",
      "text/plain": [
       "<Figure size 432x288 with 1 Axes>"
      ]
     },
     "metadata": {
      "needs_background": "light"
     },
     "output_type": "display_data"
    }
   ],
   "source": [
    "x = np.linspace(-1, 12, 200)\n",
    "y = np.zeros_like(x)\n",
    "plt.plot(x,p(x),'g--');"
   ]
  },
  {
   "cell_type": "markdown",
   "metadata": {},
   "source": [
    "La fonction `plot` peut prendre un grand nombre d'arguments optionnels à travers des mots-clés. La syntaxe est `fonction(mot-clé1=valeur1, mot-clé2=valeur2)`. Par exemple, pour tracer le polynôme en rouge avec une épaisseur de trait de 4 on écrit\n"
   ]
  },
  {
   "cell_type": "code",
   "execution_count": 72,
   "metadata": {},
   "outputs": [
    {
     "data": {
      "image/png": "[encoded data removed]",
      "text/plain": [
       "<Figure size 432x288 with 1 Axes>"
      ]
     },
     "metadata": {
      "needs_background": "light"
     },
     "output_type": "display_data"
    }
   ],
   "source": [
    "plt.plot(x,p(x),'g--',linewidth = 4);"
   ]
  },
  {
   "cell_type": "markdown",
   "metadata": {},
   "source": [
    "### Afficher plusieurs courbes dans un graphique, créer une nouvelle figure"
   ]
  },
  {
   "cell_type": "markdown",
   "metadata": {},
   "source": [
    "Pour créer une nouvelle figure, il faut utiliser la fonction `figure` de ` matplotlib.pyplot`. On peut allors spécifier la taille de la figure. Les commandes suivantes utilisant la fonction `plot` utilisera alors cette figure, afin par exemple de superposer des courbes. On peut y ajouter une légende, un titre ainsi que labéliser les axes."
   ]
  },
  {
   "cell_type": "code",
   "execution_count": 73,
   "metadata": {},
   "outputs": [
    {
     "data": {
      "image/png": "[encoded data removed]",
      "text/plain": [
       "<Figure size 1080x720 with 1 Axes>"
      ]
     },
     "metadata": {
      "needs_background": "light"
     },
     "output_type": "display_data"
    },
    {
     "data": {
      "image/png": "[encoded data removed]",
      "text/plain": [
       "<Figure size 432x288 with 1 Axes>"
      ]
     },
     "metadata": {
      "needs_background": "light"
     },
     "output_type": "display_data"
    }
   ],
   "source": [
    "plt.figure(figsize=(15, 10))  # Crée une nouvelle figure\n",
    "plt.plot(x,p(x),'r');\n",
    "plt.plot(x,np.zeros_like(x),'b');\n",
    "plt.plot(p.roots(),np.zeros_like(p.roots()),'og')\n",
    "plt.legend(['poynome','droite', 'racines'],loc='best')  #Ajout d'une légende\n",
    "\n",
    "plt.title('Polynôme de degré 4') #Ajout d'un titre\n",
    "plt.ylabel('Axe des Y') # Labélisation de l'axe des ordonnées\n",
    "plt.xlabel('Axe des X') # Labélisation de l'axe des abscisses\n",
    "\n",
    "plt.figure() # Crée une nouvelle figure\n",
    "plt.plot(x,p(x),'r');\n"
   ]
  },
  {
   "cell_type": "markdown",
   "metadata": {},
   "source": [
    "## Interpolation par splines\n",
    "\n",
    "Python offre la possibilié de réaliser des interpolations par splines à travers la librairie `SciPy` et la sous-librairie `interpolate`. Nous utliserons par exemple la fonction `CubicSpline`."
   ]
  },
  {
   "cell_type": "code",
   "execution_count": 74,
   "metadata": {},
   "outputs": [],
   "source": [
    "import numpy as np\n",
    "import matplotlib\n",
    "from scipy.interpolate import CubicSpline\n",
    "%matplotlib inline\n",
    "import matplotlib.pyplot as plt"
   ]
  },
  {
   "cell_type": "markdown",
   "metadata": {},
   "source": [
    "Considérons tout d'abord un ensemble de points x et y entre lesquels nous souhaitons interpoler."
   ]
  },
  {
   "cell_type": "code",
   "execution_count": 75,
   "metadata": {},
   "outputs": [
    {
     "data": {
      "image/png": "[encoded data removed]",
      "text/plain": [
       "<Figure size 432x288 with 1 Axes>"
      ]
     },
     "metadata": {
      "needs_background": "light"
     },
     "output_type": "display_data"
    }
   ],
   "source": [
    "x = np.linspace(0,100,10)\n",
    "y = np.random.rand(10)\n",
    "plt.plot(x,y,'o');"
   ]
  },
  {
   "cell_type": "code",
   "execution_count": 76,
   "metadata": {},
   "outputs": [
    {
     "data": {
      "text/plain": [
       "<matplotlib.legend.Legend at 0x7fc598546850>"
      ]
     },
     "execution_count": 76,
     "metadata": {},
     "output_type": "execute_result"
    },
    {
     "data": {
      "image/png": "[encoded data removed]",
      "text/plain": [
       "<Figure size 432x288 with 1 Axes>"
      ]
     },
     "metadata": {
      "needs_background": "light"
     },
     "output_type": "display_data"
    }
   ],
   "source": [
    "x_cs = np.linspace(0,100,500) \n",
    "cs = CubicSpline(x,y,bc_type='clamped') #le paramètre bc_type permet d'imposer certaines conditions aux limites\n",
    "plt.plot(x_cs,cs(x_cs),label='Spline')\n",
    "plt.plot(x,y,'ro', label='Data')\n",
    "plt.legend(loc='best')\n"
   ]
  },
  {
   "cell_type": "markdown",
   "metadata": {},
   "source": [
    "## Entrées et sorties\n",
    "\n",
    "Plutôt que de créer des points aléatoirement comme dans l'exemple de la spline cubique, nous pourrions avoir besoind d'en importer de l'extérieur, par exemple ces points pourraient être contenu dans une fichier txt `data.txt`. La fonction `loadtxt` de `NumPy` nous permet d'ouvrir ce fichier, de lire son contenu et de le mettre dans une nouvelle variable."
   ]
  },
  {
   "cell_type": "code",
   "execution_count": 77,
   "metadata": {},
   "outputs": [
    {
     "name": "stdout",
     "output_type": "stream",
     "text": [
      "[[ 0.  -1. ]\n",
      " [ 1.   2. ]\n",
      " [ 3.   0.1]\n",
      " [ 4.  -0.1]\n",
      " [ 5.  -2. ]\n",
      " [ 6.  -8. ]\n",
      " [ 7.  -9. ]]\n"
     ]
    },
    {
     "data": {
      "text/plain": [
       "numpy.ndarray"
      ]
     },
     "execution_count": 77,
     "metadata": {},
     "output_type": "execute_result"
    }
   ],
   "source": [
    "import numpy as np\n",
    "a = np.loadtxt('data.txt')\n",
    "print(a)\n",
    "type(a)"
   ]
  },
  {
   "cell_type": "markdown",
   "metadata": {},
   "source": [
    "Nous pouvons maintenant effectuer des opérations mathématiques sur le tableau créé (ici nous normalisons la seconde colonne) et ensuite le sauver sous format `.txt` à l'aide de la fonction `savetxt` de `NumPy`"
   ]
  },
  {
   "cell_type": "code",
   "execution_count": 78,
   "metadata": {},
   "outputs": [
    {
     "name": "stdout",
     "output_type": "stream",
     "text": [
      "[[ 0.   -0.5 ]\n",
      " [ 1.    1.  ]\n",
      " [ 3.    0.05]\n",
      " [ 4.   -0.05]\n",
      " [ 5.   -1.  ]\n",
      " [ 6.   -4.  ]\n",
      " [ 7.   -4.5 ]]\n"
     ]
    }
   ],
   "source": [
    "a[:,1]=a[:,1]/np.max(a[:,1])\n",
    "np.savetxt('normalised_data.txt',a)\n",
    "print(a)"
   ]
  },
  {
   "cell_type": "markdown",
   "metadata": {},
   "source": [
    "D'autres possibilités existent à travers des fonctions telles que les fonctions de base `open` utilisée pour lire, écrire et modifier un fichier ou `input()` qui permet une saisie au clavier. De nombreux modules existent également pour lire différents types de fichier comme `xlrd` utilisé pour lire les fichiers du logiciel Microsoft Excel (`.xlx`, `.xls`)."
   ]
  },
  {
   "cell_type": "code",
   "execution_count": 79,
   "metadata": {},
   "outputs": [
    {
     "name": "stdout",
     "output_type": "stream",
     "text": [
      "Quel est votre prénom ? :Frederic\n"
     ]
    }
   ],
   "source": [
    "prenom = input('Quel est votre prénom ? :')"
   ]
  },
  {
   "cell_type": "code",
   "execution_count": 80,
   "metadata": {},
   "outputs": [
    {
     "name": "stdout",
     "output_type": "stream",
     "text": [
      "Frederic\n"
     ]
    }
   ],
   "source": [
    "print(prenom)"
   ]
  },
  {
   "cell_type": "markdown",
   "metadata": {},
   "source": [
    "## Résolution d'équations différentielles"
   ]
  },
  {
   "cell_type": "markdown",
   "metadata": {},
   "source": [
    "\n",
    "Considérons l'équation différentielle de l'oscillateur de Van der Pol\n",
    "\\begin{eqnarray}\n",
    "\\frac{d x_1}{d t}&=& x_2\\\\\n",
    "\\frac{d x_2}{d t}&=&\\epsilon\\omega(1-x_1^2)x_2-\\omega^2x_1\n",
    "\\end{eqnarray}\n",
    "Avec les constantes $\\epsilon$ et $\\omega$ égales à 0.1 et 1 respectivement.\n",
    "Dans Python, cette équation différentielle peut être représentée par une fonction définie comme suit :\n"
   ]
  },
  {
   "cell_type": "code",
   "execution_count": 157,
   "metadata": {},
   "outputs": [],
   "source": [
    "def odefunction(t,y,const):\n",
    "    # Système d'équations différentielles ordinaires défini par :\n",
    "    #   t:  le temps\n",
    "    #   y: les variables du système\n",
    "    #  La fonction retourne dy, un array contenant les dérivées\n",
    "    \n",
    "    #Import nécessaire \n",
    "    import numpy as np\n",
    "    \n",
    "    #Partie principale\n",
    "    #Definitions de constantes\n",
    "    epsilon=const[0]\n",
    "    omega=const[1]\n",
    "\n",
    "    dy = np.zeros(2)\n",
    "    dy[0] = y[1]\n",
    "    dy[1] = epsilon * omega * (1-y[0]**2)*y[1] - (omega**2)*y[0]\n",
    "    \n",
    "    return dy"
   ]
  },
  {
   "cell_type": "markdown",
   "metadata": {},
   "source": [
    "Ces lignes de codes sont enregistrés dans un fichier portant le nom de`OdeFun.py`. La résolution numérique nécessite la librairie `SciPy` et la fonction `solve_ivp` de la sous libraire `scipy.integrate`. Ici la sortie d'`odefunction` fournit une solution de type `list` mais nous pourrions également sortir un type `numpy.ndarray`."
   ]
  },
  {
   "cell_type": "code",
   "execution_count": 81,
   "metadata": {},
   "outputs": [
    {
     "name": "stdout",
     "output_type": "stream",
     "text": [
      "Once deleted, variables cannot be recovered. Proceed (y/[n])? y\n"
     ]
    }
   ],
   "source": [
    "%reset\n",
    "from scipy.integrate import solve_ivp as ode45 # Defining the solver (ode45)\n",
    "from matplotlib import pyplot\n",
    "import numpy\n",
    "import OdeFun\n"
   ]
  },
  {
   "cell_type": "code",
   "execution_count": 82,
   "metadata": {},
   "outputs": [
    {
     "name": "stdout",
     "output_type": "stream",
     "text": [
      "Variable   Type        Data/Info\n",
      "--------------------------------\n",
      "OdeFun     module      <module 'OdeFun' from '/U<...>n101/Tutoriel/OdeFun.py'>\n",
      "numpy      module      <module 'numpy' from '/Us<...>kages/numpy/__init__.py'>\n",
      "ode45      function    <function solve_ivp at 0x7fc5c160dc10>\n",
      "pyplot     module      <module 'matplotlib.pyplo<...>es/matplotlib/pyplot.py'>\n"
     ]
    }
   ],
   "source": [
    "whos"
   ]
  },
  {
   "cell_type": "markdown",
   "metadata": {},
   "source": [
    "La fonction `scipy.integrate.sole_ivp` et ici renomée `ode45` utilise par défaut une méthode de Runge-Kutta explicite pour la résolution de l'équation et les paramètres d'intégration peuvent être ajustés avec des options. Le code suivant résout l'équation différentielle entre 0 et 12 et trace le résultat à l'écran :\n"
   ]
  },
  {
   "cell_type": "code",
   "execution_count": 83,
   "metadata": {},
   "outputs": [
    {
     "data": {
      "image/png": "[encoded data removed]",
      "text/plain": [
       "<Figure size 432x288 with 1 Axes>"
      ]
     },
     "metadata": {
      "needs_background": "light"
     },
     "output_type": "display_data"
    }
   ],
   "source": [
    "c=[0.1, 1]\n",
    "solution = ode45(lambda t, y: OdeFun.odefunction(t,y,c),[0,100],[0, 1])\n",
    "pyplot.plot(solution.t,solution.y[0,:]);\n",
    "pyplot.title('Résolution de l\\'oscillateur de Van der Pol '); #Ajout d'un titre\n",
    "pyplot.ylabel('x_1'); # Labélisation de l'axe des ordonnées\n",
    "pyplot.xlabel('Temps'); # Labélisation de l'axe des abscisses\n",
    "\n"
   ]
  },
  {
   "cell_type": "markdown",
   "metadata": {},
   "source": [
    "La fonction `lambda` permet de remplacer l'appel à `OdeFun.odefunction` qui admet normallement trois arguments (t, y, c) en entrée par un appel avec une fonction `lambda` à deux arguments (t, y) accepté par le solveur `scipy.integrate.sole_ivp`. "
   ]
  },
  {
   "cell_type": "markdown",
   "metadata": {},
   "source": [
    "Le solveur `scipy.integrate.sole_ivp` offre un nombre important d'options. Ces dernières permettrent par exemple de définir les valeurs de tolérance relative et absolue. \n"
   ]
  },
  {
   "cell_type": "code",
   "execution_count": 85,
   "metadata": {},
   "outputs": [
    {
     "data": {
      "image/png": "[encoded data removed]",
      "text/plain": [
       "<Figure size 432x288 with 1 Axes>"
      ]
     },
     "metadata": {
      "needs_background": "light"
     },
     "output_type": "display_data"
    }
   ],
   "source": [
    "solution = ode45(lambda t, y: OdeFun.odefunction(t,y,c),[0,100],[0, 1],rtol=1e-8)\n",
    "pyplot.plot(solution.t,solution.y[0,:]);\n",
    "pyplot.title('Résolution de l\\'oscillateur de Van der Pol '); #Ajout d'un titre\n",
    "pyplot.ylabel('x_1'); # Labélisation de l'axe des ordonnées\n",
    "pyplot.xlabel('Temps'); # Labélisation de l'axe des abscisses"
   ]
  },
  {
   "cell_type": "markdown",
   "metadata": {},
   "source": [
    "Il est souvent utile de déterminer quand la solution\n",
    "du système d'équations différentielles atteint une valeur particulière (comme 0 par exemple).\n",
    "Ceci peut se faire grâce à la définition d'options. Ceci demande de créer une fonction définissant le type d'évènement à déterminer puis nous recalculons la solution. Les évenements sont enregistrés dans `solution.t_events` et `solution.y_events`.\n",
    "\n",
    "Pour plus d'informations, n'hésitez pas à consulter l'aide de la fonction `scipy.integrate.sole_ivp`."
   ]
  },
  {
   "cell_type": "code",
   "execution_count": 86,
   "metadata": {},
   "outputs": [],
   "source": [
    "def event(t,y): return y[0]"
   ]
  },
  {
   "cell_type": "code",
   "execution_count": 87,
   "metadata": {},
   "outputs": [
    {
     "data": {
      "image/png": "[encoded data removed]",
      "text/plain": [
       "<Figure size 432x288 with 1 Axes>"
      ]
     },
     "metadata": {
      "needs_background": "light"
     },
     "output_type": "display_data"
    }
   ],
   "source": [
    "solution = ode45(lambda t, y: OdeFun.odefunction(t,y,c),[0,100],[0, 1], events=event)\n",
    "pyplot.plot(solution.t,solution.y[0,:]);\n",
    "pyplot.plot(solution.t_events[0],solution.y_events[0][0:,0],'rx');\n",
    "pyplot.title('Résolution de l\\'oscillateur de Van der Pol '); #Ajout d'un titre\n",
    "pyplot.ylabel('x_1'); # Labélisation de l'axe des ordonnées\n",
    "pyplot.xlabel('Temps'); # Labélisation de l'axe des abscisses"
   ]
  },
  {
   "cell_type": "markdown",
   "metadata": {},
   "source": [
    "## Débogage"
   ]
  },
  {
   "cell_type": "markdown",
   "metadata": {},
   "source": [
    "Spyder comprend un debbuger intégré à l'éditeur: https://docs.spyder-ide.org/current/debugging.html\n",
    "\n",
    "Tout d'abord, lorsque l'on édite un fichier `.py`, l'éditeur détectera automatique des erreurs de syntaxte par exemple et affichera un cercle rouge avec une croix dedans pour signaler l'erreur. Ce type d'erreur critique ne permettra pas au script de s'exécuter. L'éditeur peut également afficher une icône avertissement pour indiquer par exemple la non-utilisation de la librairie `NumPy`. Il ne s'agit pas d'une erreur critique et le programme pourra s'exécuter.\n",
    "\n",
    "<img src=\"img7.png\" style=\"width:1024\"/> \n",
    "\n",
    "<img src=\"img11.png\" style=\"width:1024\"/>\n"
   ]
  },
  {
   "cell_type": "markdown",
   "metadata": {},
   "source": [
    "\n",
    "En plus de cette vérification en temps réel, Spyder propose un outil qui permet d'arrêter un programme en cours d'exécution pour examiner la valeur des différentes variables et détecter\n",
    "d'éventuelles erreurs. A cet effet, des points d'arrêt doivent être créés au préalable dans le(s)\n",
    "fichier(s) .py. Pour créer un point d'arrêt (breakpoint), il suffit de cliquer à droite du numéro de la ligne correspondante et un point\n",
    "rouge apparaît à gauche de la ligne de courante. \n",
    "\n",
    "L'exécution du programme est alors réalisée via le bouton Debug file. Le programme s'arrête au point d'arrêt indiqué par une flêche.\n",
    "Vous pouvez examiner le contenu des variables du Workspace, avancer d'une ligne, continuer l'exécution jusqu'au prochaine point arrêt\n",
    "ou arrêter le programme. Lorsqu'une ligne fait appel à une fonction, il est possible de rentrer\n",
    "à l'intérieur de cette fonction ou de sauter directement à la ligne suivante.\n",
    "\n",
    "<img src=\"img8.png\" style=\"width:1024\"/>\n",
    "\n",
    "<img src=\"img9.png\" style=\"width:1024\"/>"
   ]
  },
  {
   "cell_type": "markdown",
   "metadata": {},
   "source": [
    "Des fonctionnalités de débogage sont également accessibles lorsqu'un programme produit\n",
    "une erreur. Dans la console, le message d'erreur en rouge indique alors la ligne à laquelle l'erreur s'est produite. On peut y accéder directement en cliquant sur le numéro de la ligne.\n",
    "\n",
    "<img src=\"img10.png\" style=\"width:1024\"/>"
   ]
  },
  {
   "cell_type": "markdown",
   "metadata": {},
   "source": [
    "## Analyse des performances\n"
   ]
  },
  {
   "cell_type": "markdown",
   "metadata": {},
   "source": [
    "Des outils de performance avancés existent pour analyser l'efficacité des programmes sur Python : https://docs.python.org/3/library/profile.html\n",
    "\n",
    "Le module `cProfile`  qui permet de regarder combien de temps le programme exécuté passe dans chaque fonction et le nombre d'appels des fonctions:\n",
    "\n",
    "`ncalls` : le nombre d'appel à une fonction \n",
    "\n",
    "`tottime` : temps total passé dans une fonction sans compté le temps passé dans les appels aux sous-fonctions\n",
    "\n",
    "`percall` : temps passé pour les appels\n",
    "\n",
    "`cumtime` : temps cumulé passé dans la fonction et les sous-fonctions\n",
    "\n",
    "`percall` : `cumtime` divisé par les appels\n",
    "\n",
    "`filename:lineno(function)` : données des fonctions\n",
    "\n",
    "L'IDE Spyder nous offre une interface graphique lisible nous permettant de rapidement analyser le temps pris nos scripts Python. Pour y accèder, il faut tout d'abord s'assurer d'avoir activé le `Profiler` à travers le menu `View > Panes > Profiler`\n",
    "\n",
    "<img src=\"img12.png\" style=\"width:1024\"/>\n",
    "\n",
    "Considérons maintent le script `test_profile.py` ci-dessous qui comprend deux boucles, une fonction propre `fun` et qui utilisent des fonctions de la librairie `NumPy` pour réaliser une interpolation d'une fonction définie en quelques points.\n"
   ]
  },
  {
   "cell_type": "code",
   "execution_count": null,
   "metadata": {},
   "outputs": [],
   "source": [
    "import numpy as np\n",
    "from numpy.polynomial.polynomial import polyfit\n",
    "from numpy.polynomial import Polynomial as poly\n",
    "\n",
    "def fun(x):\n",
    "    return x**2+np.sin(x)-1\n",
    "   \n",
    "x = np.random.rand(100,100)\n",
    "y = np.zeros_like(x)\n",
    "IT1 = range(x.shape[0])\n",
    "IT2 = range(x.shape[1])\n",
    "slow = False \n",
    "if slow == True:\n",
    "    for i in IT1:\n",
    "        for j in IT2:\n",
    "            coef = polyfit([0, 1, 4, 5],[-1, 2, 1, 4],3)\n",
    "            p=poly(coef)\n",
    "            y[i,j]=fun(x[i,j])/2 + p(x[i,j])\n",
    "else:\n",
    "    coef = polyfit([0, 1, 4, 5],[-1, 2, 1, 4],3)\n",
    "    p=poly(coef)\n",
    "    for i in IT1:\n",
    "        for j in IT2:\n",
    "            y[i,j]=fun(x[i,j])/2 + p(x[i,j])"
   ]
  },
  {
   "cell_type": "markdown",
   "metadata": {},
   "source": [
    "Nous allons la tester avec l'aide du `Profiler` et classer les résultats par temps cumulé afin de voir quelle partie du code prend le plus de temps à tourner. Tout d'abord nous faisons tourner une version \"lente\" du code avec la variable `slow = True` et nous obtenons le résultat suivant:\n",
    "\n",
    "<img src=\"img15.png\" style=\"width:1024\"/>\n",
    "\n",
    "\n"
   ]
  },
  {
   "cell_type": "markdown",
   "metadata": {},
   "source": [
    "On peut voir qu'à l'exécution du script avec `slow = True`, nous calculons les coefficients d'un polynome àl'aide de `polyfit` à chaque fois dans les deux boucles alors que ces coefficients sont indépendants des boucles. Le temps passé à appler 10000 la fonction `polyfit` est de 1.11 secondes."
   ]
  },
  {
   "cell_type": "markdown",
   "metadata": {},
   "source": [
    "\n",
    "Afin d'améliorer l'efficacité de cette fonction, nous pouvons sortir le calcul des coefficients des boucles et ne le calculer qu'une seule fois (`slow = False`). On peut alors vérifier que `polyfit` n'est appelée qu'une seule fois et que le temps mis pour exécuter le script est beaucoup plus faible.\n",
    "\n",
    "<img src=\"img16.png\" style=\"width:1024\"/>\n"
   ]
  },
  {
   "cell_type": "markdown",
   "metadata": {},
   "source": [
    "Il existe également des fonctions permettant de chronométrer l'éxécution de Python dans Spyder comme `%time` ou `%timeit`. "
   ]
  },
  {
   "cell_type": "markdown",
   "metadata": {},
   "source": [
    "## Fin du tutoriel\n",
    "\n",
    "Nous voici au bout de ce tutoriel. Quelques conseils avant de débuter le projet. Lancez-vous avant toute chose à plein pieds dans le langage Python, essayez les différentes fonctionnalités présentées ici et n'hésitez pas à vous renseigner ailleurs et de partager entre vous vos bonnes pratiques. \n",
    "\n",
    "Complétez ce tutoriel avant de démarrer le projet, et soyez certain.e.s de le maîtriser avant de passer l'examen oral ;)"
   ]
  },
  {
   "cell_type": "code",
   "execution_count": 12,
   "metadata": {},
   "outputs": [
    {
     "name": "stdout",
     "output_type": "stream",
     "text": [
      "Once deleted, variables cannot be recovered. Proceed (y/[n])? y\n"
     ]
    }
   ],
   "source": [
    "%reset"
   ]
  },
  {
   "cell_type": "markdown",
   "metadata": {},
   "source": [
    "## Print dependencies "
   ]
  },
  {
   "cell_type": "code",
   "execution_count": 13,
   "metadata": {},
   "outputs": [],
   "source": [
    "%load_ext watermark"
   ]
  },
  {
   "cell_type": "code",
   "execution_count": 14,
   "metadata": {},
   "outputs": [
    {
     "name": "stdout",
     "output_type": "stream",
     "text": [
      "Python implementation: CPython\n",
      "Python version       : 3.8.5\n",
      "IPython version      : 7.19.0\n",
      "\n",
      "numpy     : 1.19.2\n",
      "scipy     : 1.5.2\n",
      "matplotlib: 3.3.2\n",
      "time      : unknown\n",
      "watermark : 2.1.0\n",
      "\n",
      "Compiler    : Clang 10.0.0 \n",
      "OS          : Darwin\n",
      "Release     : 20.2.0\n",
      "Machine     : x86_64\n",
      "Processor   : i386\n",
      "CPU cores   : 16\n",
      "Architecture: 64bit\n",
      "\n",
      " \n",
      "Last updated: Fri Jan 22 2021 16:20:58CET\n",
      "\n"
     ]
    }
   ],
   "source": [
    "%watermark -v -m -p numpy,scipy,matplotlib,time,watermark\n",
    "print(\" \")\n",
    "%watermark -u -n -t -z"
   ]
  },
  {
   "cell_type": "code",
   "execution_count": null,
   "metadata": {},
   "outputs": [],
   "source": []
  }
 ],
 "metadata": {
  "kernelspec": {
   "display_name": "Python 3",
   "language": "python",
   "name": "python3"
  },
  "language_info": {
   "codemirror_mode": {
    "name": "ipython",
    "version": 3
   },
   "file_extension": ".py",
   "mimetype": "text/x-python",
   "name": "python",
   "nbconvert_exporter": "python",
   "pygments_lexer": "ipython3",
   "version": "3.8.5"
  }
 },
 "nbformat": 4,
 "nbformat_minor": 4
}
